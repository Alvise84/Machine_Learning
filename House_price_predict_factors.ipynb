{
  "cells": [
    {
      "cell_type": "markdown",
      "source": [
        "# Анализ факторов, влияющих на стоимость жилья: Построение и оптимизация модели линейной регрессии"
      ],
      "metadata": {
        "id": "zMM_ydu6NWnb"
      },
      "id": "zMM_ydu6NWnb"
    },
    {
      "cell_type": "markdown",
      "source": [
        "## Описание проекта:\n",
        "\n",
        "Цель данного проекта — исследовать зависимость стоимости домов от различных характеристик (например, площади, количества спален, наличия кондиционера и т.д.) и построить надежную модель линейной регрессии для прогнозирования цен. Проект включает несколько этапов анализа данных, начиная с базовой визуализации и заканчивая проверкой статистических предположений и оптимизацией модели."
      ],
      "metadata": {
        "id": "MVrfxfjINlsY"
      },
      "id": "MVrfxfjINlsY"
    },
    {
      "cell_type": "markdown",
      "id": "c697e69a-b6c4-4b5d-b62c-5139a9b2bb29",
      "metadata": {
        "id": "c697e69a-b6c4-4b5d-b62c-5139a9b2bb29"
      },
      "source": [
        "**Версии библиотек:**\n",
        "\n",
        "- pandas 2.1.4\n",
        "- numpy 1.26.4\n",
        "- statsmodels 0.14.0\n",
        "- seaborn 0.13.2\n",
        "- matplotlib 3.8.0\n",
        "- scikit-learn 1.2.2"
      ]
    },
    {
      "cell_type": "markdown",
      "source": [
        "Импорт библиотек"
      ],
      "metadata": {
        "id": "XwC5g2ZrN3nc"
      },
      "id": "XwC5g2ZrN3nc"
    },
    {
      "cell_type": "code",
      "execution_count": null,
      "id": "36f463c0-8452-4a1a-b0e3-0468faaa8a1d",
      "metadata": {
        "id": "36f463c0-8452-4a1a-b0e3-0468faaa8a1d"
      },
      "outputs": [],
      "source": [
        "import warnings\n",
        "warnings.filterwarnings('ignore')"
      ]
    },
    {
      "cell_type": "code",
      "execution_count": null,
      "id": "08b97525-8a79-4b74-b6a7-4024348905c1",
      "metadata": {
        "id": "08b97525-8a79-4b74-b6a7-4024348905c1"
      },
      "outputs": [],
      "source": [
        "import pandas as pd\n",
        "import numpy as np\n",
        "import statsmodels as sm\n",
        "\n",
        "import seaborn as sns\n",
        "import matplotlib.pyplot as plt\n",
        "\n",
        "from sklearn.linear_model import LinearRegression, Ridge, Lasso, RidgeCV, LassoCV\n",
        "from sklearn.preprocessing import StandardScaler, OneHotEncoder\n",
        "from sklearn.model_selection import train_test_split, GridSearchCV, cross_val_score\n",
        "from sklearn.metrics import r2_score, mean_squared_error, mean_absolute_percentage_error\n",
        "\n",
        "import statsmodels.api as sm\n",
        "from statsmodels.regression.linear_model import OLS\n",
        "from statsmodels.stats.outliers_influence import variance_inflation_factor\n",
        "from statsmodels.stats.diagnostic import het_white\n",
        "\n",
        "import random\n",
        "\n",
        "RANDOM_STATE = 42"
      ]
    },
    {
      "cell_type": "code",
      "execution_count": null,
      "id": "60a39fe3-a2f3-4041-8e8e-9d8f2fcaa132",
      "metadata": {
        "id": "60a39fe3-a2f3-4041-8e8e-9d8f2fcaa132"
      },
      "outputs": [],
      "source": [
        "def metrics_report(y_true, y_pred):\n",
        "    print(f'R2 score: {r2_score(y_true, y_pred)}')\n",
        "    print(f'RMSE: {mean_squared_error(y_true, y_pred)**0.5}')\n",
        "    print(f'MAPE: {mean_absolute_percentage_error(y_true, y_pred)}')"
      ]
    },
    {
      "cell_type": "markdown",
      "id": "6a9fdccf-f69f-40ff-bc59-f850dfc47073",
      "metadata": {
        "id": "6a9fdccf-f69f-40ff-bc59-f850dfc47073"
      },
      "source": [
        "\n",
        "Линейная регрессия позволяет проверить гипотезу об отличии коэффициента от нуля.\n",
        "\n",
        "Пусть имеется набор данных о стоимости какого-то товара. В таблице две колонки: значение некоторой характеристики товара и его стоимость в рублях. Построим линейную регрессию из sklearn и statsmodels."
      ]
    },
    {
      "cell_type": "code",
      "source": [
        "# Загрузим данные из файла task0.csv и выведим первые 5 строк на экран\n",
        "df = pd.read_csv('task0.csv')\n",
        "df.head(5)"
      ],
      "metadata": {
        "colab": {
          "base_uri": "https://localhost:8080/",
          "height": 206
        },
        "id": "cYzGPT25qTZi",
        "outputId": "20d54cc9-6629-4fa5-d706-cadeaa16f680"
      },
      "id": "cYzGPT25qTZi",
      "execution_count": null,
      "outputs": [
        {
          "output_type": "execute_result",
          "data": {
            "text/plain": [
              "   Unnamed: 0    feature   cost\n",
              "0           0  18.189092  12169\n",
              "1           1   4.862900  19431\n",
              "2           2   5.874894  10816\n",
              "3           3  99.297459   7779\n",
              "4           4  59.958159  19862"
            ],
            "text/html": [
              "\n",
              "  <div id=\"df-d0e1d191-356b-41d7-a046-4166d1515668\" class=\"colab-df-container\">\n",
              "    <div>\n",
              "<style scoped>\n",
              "    .dataframe tbody tr th:only-of-type {\n",
              "        vertical-align: middle;\n",
              "    }\n",
              "\n",
              "    .dataframe tbody tr th {\n",
              "        vertical-align: top;\n",
              "    }\n",
              "\n",
              "    .dataframe thead th {\n",
              "        text-align: right;\n",
              "    }\n",
              "</style>\n",
              "<table border=\"1\" class=\"dataframe\">\n",
              "  <thead>\n",
              "    <tr style=\"text-align: right;\">\n",
              "      <th></th>\n",
              "      <th>Unnamed: 0</th>\n",
              "      <th>feature</th>\n",
              "      <th>cost</th>\n",
              "    </tr>\n",
              "  </thead>\n",
              "  <tbody>\n",
              "    <tr>\n",
              "      <th>0</th>\n",
              "      <td>0</td>\n",
              "      <td>18.189092</td>\n",
              "      <td>12169</td>\n",
              "    </tr>\n",
              "    <tr>\n",
              "      <th>1</th>\n",
              "      <td>1</td>\n",
              "      <td>4.862900</td>\n",
              "      <td>19431</td>\n",
              "    </tr>\n",
              "    <tr>\n",
              "      <th>2</th>\n",
              "      <td>2</td>\n",
              "      <td>5.874894</td>\n",
              "      <td>10816</td>\n",
              "    </tr>\n",
              "    <tr>\n",
              "      <th>3</th>\n",
              "      <td>3</td>\n",
              "      <td>99.297459</td>\n",
              "      <td>7779</td>\n",
              "    </tr>\n",
              "    <tr>\n",
              "      <th>4</th>\n",
              "      <td>4</td>\n",
              "      <td>59.958159</td>\n",
              "      <td>19862</td>\n",
              "    </tr>\n",
              "  </tbody>\n",
              "</table>\n",
              "</div>\n",
              "    <div class=\"colab-df-buttons\">\n",
              "\n",
              "  <div class=\"colab-df-container\">\n",
              "    <button class=\"colab-df-convert\" onclick=\"convertToInteractive('df-d0e1d191-356b-41d7-a046-4166d1515668')\"\n",
              "            title=\"Convert this dataframe to an interactive table.\"\n",
              "            style=\"display:none;\">\n",
              "\n",
              "  <svg xmlns=\"http://www.w3.org/2000/svg\" height=\"24px\" viewBox=\"0 -960 960 960\">\n",
              "    <path d=\"M120-120v-720h720v720H120Zm60-500h600v-160H180v160Zm220 220h160v-160H400v160Zm0 220h160v-160H400v160ZM180-400h160v-160H180v160Zm440 0h160v-160H620v160ZM180-180h160v-160H180v160Zm440 0h160v-160H620v160Z\"/>\n",
              "  </svg>\n",
              "    </button>\n",
              "\n",
              "  <style>\n",
              "    .colab-df-container {\n",
              "      display:flex;\n",
              "      gap: 12px;\n",
              "    }\n",
              "\n",
              "    .colab-df-convert {\n",
              "      background-color: #E8F0FE;\n",
              "      border: none;\n",
              "      border-radius: 50%;\n",
              "      cursor: pointer;\n",
              "      display: none;\n",
              "      fill: #1967D2;\n",
              "      height: 32px;\n",
              "      padding: 0 0 0 0;\n",
              "      width: 32px;\n",
              "    }\n",
              "\n",
              "    .colab-df-convert:hover {\n",
              "      background-color: #E2EBFA;\n",
              "      box-shadow: 0px 1px 2px rgba(60, 64, 67, 0.3), 0px 1px 3px 1px rgba(60, 64, 67, 0.15);\n",
              "      fill: #174EA6;\n",
              "    }\n",
              "\n",
              "    .colab-df-buttons div {\n",
              "      margin-bottom: 4px;\n",
              "    }\n",
              "\n",
              "    [theme=dark] .colab-df-convert {\n",
              "      background-color: #3B4455;\n",
              "      fill: #D2E3FC;\n",
              "    }\n",
              "\n",
              "    [theme=dark] .colab-df-convert:hover {\n",
              "      background-color: #434B5C;\n",
              "      box-shadow: 0px 1px 3px 1px rgba(0, 0, 0, 0.15);\n",
              "      filter: drop-shadow(0px 1px 2px rgba(0, 0, 0, 0.3));\n",
              "      fill: #FFFFFF;\n",
              "    }\n",
              "  </style>\n",
              "\n",
              "    <script>\n",
              "      const buttonEl =\n",
              "        document.querySelector('#df-d0e1d191-356b-41d7-a046-4166d1515668 button.colab-df-convert');\n",
              "      buttonEl.style.display =\n",
              "        google.colab.kernel.accessAllowed ? 'block' : 'none';\n",
              "\n",
              "      async function convertToInteractive(key) {\n",
              "        const element = document.querySelector('#df-d0e1d191-356b-41d7-a046-4166d1515668');\n",
              "        const dataTable =\n",
              "          await google.colab.kernel.invokeFunction('convertToInteractive',\n",
              "                                                    [key], {});\n",
              "        if (!dataTable) return;\n",
              "\n",
              "        const docLinkHtml = 'Like what you see? Visit the ' +\n",
              "          '<a target=\"_blank\" href=https://colab.research.google.com/notebooks/data_table.ipynb>data table notebook</a>'\n",
              "          + ' to learn more about interactive tables.';\n",
              "        element.innerHTML = '';\n",
              "        dataTable['output_type'] = 'display_data';\n",
              "        await google.colab.output.renderOutput(dataTable, element);\n",
              "        const docLink = document.createElement('div');\n",
              "        docLink.innerHTML = docLinkHtml;\n",
              "        element.appendChild(docLink);\n",
              "      }\n",
              "    </script>\n",
              "  </div>\n",
              "\n",
              "\n",
              "<div id=\"df-2a38f9ae-efee-4aa0-b323-263150e67b78\">\n",
              "  <button class=\"colab-df-quickchart\" onclick=\"quickchart('df-2a38f9ae-efee-4aa0-b323-263150e67b78')\"\n",
              "            title=\"Suggest charts\"\n",
              "            style=\"display:none;\">\n",
              "\n",
              "<svg xmlns=\"http://www.w3.org/2000/svg\" height=\"24px\"viewBox=\"0 0 24 24\"\n",
              "     width=\"24px\">\n",
              "    <g>\n",
              "        <path d=\"M19 3H5c-1.1 0-2 .9-2 2v14c0 1.1.9 2 2 2h14c1.1 0 2-.9 2-2V5c0-1.1-.9-2-2-2zM9 17H7v-7h2v7zm4 0h-2V7h2v10zm4 0h-2v-4h2v4z\"/>\n",
              "    </g>\n",
              "</svg>\n",
              "  </button>\n",
              "\n",
              "<style>\n",
              "  .colab-df-quickchart {\n",
              "      --bg-color: #E8F0FE;\n",
              "      --fill-color: #1967D2;\n",
              "      --hover-bg-color: #E2EBFA;\n",
              "      --hover-fill-color: #174EA6;\n",
              "      --disabled-fill-color: #AAA;\n",
              "      --disabled-bg-color: #DDD;\n",
              "  }\n",
              "\n",
              "  [theme=dark] .colab-df-quickchart {\n",
              "      --bg-color: #3B4455;\n",
              "      --fill-color: #D2E3FC;\n",
              "      --hover-bg-color: #434B5C;\n",
              "      --hover-fill-color: #FFFFFF;\n",
              "      --disabled-bg-color: #3B4455;\n",
              "      --disabled-fill-color: #666;\n",
              "  }\n",
              "\n",
              "  .colab-df-quickchart {\n",
              "    background-color: var(--bg-color);\n",
              "    border: none;\n",
              "    border-radius: 50%;\n",
              "    cursor: pointer;\n",
              "    display: none;\n",
              "    fill: var(--fill-color);\n",
              "    height: 32px;\n",
              "    padding: 0;\n",
              "    width: 32px;\n",
              "  }\n",
              "\n",
              "  .colab-df-quickchart:hover {\n",
              "    background-color: var(--hover-bg-color);\n",
              "    box-shadow: 0 1px 2px rgba(60, 64, 67, 0.3), 0 1px 3px 1px rgba(60, 64, 67, 0.15);\n",
              "    fill: var(--button-hover-fill-color);\n",
              "  }\n",
              "\n",
              "  .colab-df-quickchart-complete:disabled,\n",
              "  .colab-df-quickchart-complete:disabled:hover {\n",
              "    background-color: var(--disabled-bg-color);\n",
              "    fill: var(--disabled-fill-color);\n",
              "    box-shadow: none;\n",
              "  }\n",
              "\n",
              "  .colab-df-spinner {\n",
              "    border: 2px solid var(--fill-color);\n",
              "    border-color: transparent;\n",
              "    border-bottom-color: var(--fill-color);\n",
              "    animation:\n",
              "      spin 1s steps(1) infinite;\n",
              "  }\n",
              "\n",
              "  @keyframes spin {\n",
              "    0% {\n",
              "      border-color: transparent;\n",
              "      border-bottom-color: var(--fill-color);\n",
              "      border-left-color: var(--fill-color);\n",
              "    }\n",
              "    20% {\n",
              "      border-color: transparent;\n",
              "      border-left-color: var(--fill-color);\n",
              "      border-top-color: var(--fill-color);\n",
              "    }\n",
              "    30% {\n",
              "      border-color: transparent;\n",
              "      border-left-color: var(--fill-color);\n",
              "      border-top-color: var(--fill-color);\n",
              "      border-right-color: var(--fill-color);\n",
              "    }\n",
              "    40% {\n",
              "      border-color: transparent;\n",
              "      border-right-color: var(--fill-color);\n",
              "      border-top-color: var(--fill-color);\n",
              "    }\n",
              "    60% {\n",
              "      border-color: transparent;\n",
              "      border-right-color: var(--fill-color);\n",
              "    }\n",
              "    80% {\n",
              "      border-color: transparent;\n",
              "      border-right-color: var(--fill-color);\n",
              "      border-bottom-color: var(--fill-color);\n",
              "    }\n",
              "    90% {\n",
              "      border-color: transparent;\n",
              "      border-bottom-color: var(--fill-color);\n",
              "    }\n",
              "  }\n",
              "</style>\n",
              "\n",
              "  <script>\n",
              "    async function quickchart(key) {\n",
              "      const quickchartButtonEl =\n",
              "        document.querySelector('#' + key + ' button');\n",
              "      quickchartButtonEl.disabled = true;  // To prevent multiple clicks.\n",
              "      quickchartButtonEl.classList.add('colab-df-spinner');\n",
              "      try {\n",
              "        const charts = await google.colab.kernel.invokeFunction(\n",
              "            'suggestCharts', [key], {});\n",
              "      } catch (error) {\n",
              "        console.error('Error during call to suggestCharts:', error);\n",
              "      }\n",
              "      quickchartButtonEl.classList.remove('colab-df-spinner');\n",
              "      quickchartButtonEl.classList.add('colab-df-quickchart-complete');\n",
              "    }\n",
              "    (() => {\n",
              "      let quickchartButtonEl =\n",
              "        document.querySelector('#df-2a38f9ae-efee-4aa0-b323-263150e67b78 button');\n",
              "      quickchartButtonEl.style.display =\n",
              "        google.colab.kernel.accessAllowed ? 'block' : 'none';\n",
              "    })();\n",
              "  </script>\n",
              "</div>\n",
              "    </div>\n",
              "  </div>\n"
            ],
            "application/vnd.google.colaboratory.intrinsic+json": {
              "type": "dataframe",
              "variable_name": "df",
              "summary": "{\n  \"name\": \"df\",\n  \"rows\": 1000,\n  \"fields\": [\n    {\n      \"column\": \"Unnamed: 0\",\n      \"properties\": {\n        \"dtype\": \"number\",\n        \"std\": 288,\n        \"min\": 0,\n        \"max\": 999,\n        \"num_unique_values\": 1000,\n        \"samples\": [\n          521,\n          737,\n          740\n        ],\n        \"semantic_type\": \"\",\n        \"description\": \"\"\n      }\n    },\n    {\n      \"column\": \"feature\",\n      \"properties\": {\n        \"dtype\": \"number\",\n        \"std\": 28.634210141927532,\n        \"min\": 0.0848896237519936,\n        \"max\": 99.96584939038412,\n        \"num_unique_values\": 1000,\n        \"samples\": [\n          75.6543738693026,\n          89.11308659716539,\n          25.66546271864696\n        ],\n        \"semantic_type\": \"\",\n        \"description\": \"\"\n      }\n    },\n    {\n      \"column\": \"cost\",\n      \"properties\": {\n        \"dtype\": \"number\",\n        \"std\": 5810,\n        \"min\": 191,\n        \"max\": 19991,\n        \"num_unique_values\": 973,\n        \"samples\": [\n          1514,\n          12418,\n          18259\n        ],\n        \"semantic_type\": \"\",\n        \"description\": \"\"\n      }\n    }\n  ]\n}"
            }
          },
          "metadata": {},
          "execution_count": 8
        }
      ]
    },
    {
      "cell_type": "markdown",
      "source": [
        "Визуализация данных"
      ],
      "metadata": {
        "id": "dxupQLojOXWI"
      },
      "id": "dxupQLojOXWI"
    },
    {
      "cell_type": "code",
      "source": [
        "# Построим scatterplot\n",
        "plt.scatter(\n",
        "    x=df['feature'],  # Указываем данные для оси X\n",
        "    y=df['cost']      # Указываем данные для оси Y\n",
        ")\n",
        "plt.xlabel('Feature')  # Подпись оси X\n",
        "plt.ylabel('Cost')     # Подпись оси Y\n",
        "plt.title('Scatter Plot of Feature vs Cost')  # Заголовок графика\n",
        "plt.show()  # Отображение графика\n"
      ],
      "metadata": {
        "colab": {
          "base_uri": "https://localhost:8080/",
          "height": 472
        },
        "id": "67tmjCnMszwj",
        "outputId": "ed749e7c-0fd6-44c7-f727-455b8ffffcb6"
      },
      "id": "67tmjCnMszwj",
      "execution_count": null,
      "outputs": [
        {
          "output_type": "display_data",
          "data": {
            "text/plain": [
              "<Figure size 640x480 with 1 Axes>"
            ],
            "image/png": "[encoded data removed]"
          },
          "metadata": {}
        }
      ]
    },
    {
      "cell_type": "markdown",
      "source": [
        "Построение модели линейной регрессии sklearn"
      ],
      "metadata": {
        "id": "jXTtNl1JOlLb"
      },
      "id": "jXTtNl1JOlLb"
    },
    {
      "cell_type": "code",
      "source": [
        "from sklearn.linear_model import LinearRegression\n",
        "\n",
        "# Создание модели линейной регрессии\n",
        "lin_reg = LinearRegression()\n",
        "\n",
        "# Разделение данных на признаки и целевую переменную\n",
        "X = df[['feature']]  # Признак\n",
        "y = df['cost']       # Целевая переменная\n",
        "\n",
        "# Обучение модели на всем датафрейме\n",
        "lin_reg.fit(X, y)\n",
        "\n",
        "# Вывод коэффициентов\n",
        "print(\"Intercept:\", lin_reg.intercept_)\n",
        "print(\"Coefficient:\", lin_reg.coef_[0])\n"
      ],
      "metadata": {
        "colab": {
          "base_uri": "https://localhost:8080/"
        },
        "id": "B-oi1HZptP53",
        "outputId": "3bbf512e-f24c-4a5f-d5e9-a43ffe8e4005"
      },
      "id": "B-oi1HZptP53",
      "execution_count": null,
      "outputs": [
        {
          "output_type": "stream",
          "name": "stdout",
          "text": [
            "Intercept: 9765.480136229104\n",
            "Coefficient: 6.0658441753499694\n"
          ]
        }
      ]
    },
    {
      "cell_type": "code",
      "execution_count": null,
      "id": "bb620622-de9e-497d-9049-bfb39a05b0b9",
      "metadata": {
        "id": "bb620622-de9e-497d-9049-bfb39a05b0b9",
        "colab": {
          "base_uri": "https://localhost:8080/",
          "height": 430
        },
        "outputId": "893f25ac-85e6-483b-9d7f-ed4f34328a3a"
      },
      "outputs": [
        {
          "output_type": "display_data",
          "data": {
            "text/plain": [
              "<Figure size 640x480 with 1 Axes>"
            ],
            "image/png": "[encoded data removed]"
          },
          "metadata": {}
        }
      ],
      "source": [
        "# График предсказаний регрессии\n",
        "plt.scatter(x=df['feature'], y=df['cost'], marker='.')\n",
        "plt.plot(df['feature'], lin_reg.predict(df[['feature']]), color='r')\n",
        "plt.show()"
      ]
    },
    {
      "cell_type": "markdown",
      "source": [
        "Построение модели линейной регрессии statsmodels"
      ],
      "metadata": {
        "id": "_ZZaLcHaO23O"
      },
      "id": "_ZZaLcHaO23O"
    },
    {
      "cell_type": "markdown",
      "source": [
        "Теперь построим регрессию из statsmodels. Но прежде чем это сделать, необходимо добавить в выборку константу с помощью функции sm.add_constant().\n",
        "Это необходимое техническое действие, без которого предсказания модели будут некорректными"
      ],
      "metadata": {
        "id": "ZSgjtNbEPByM"
      },
      "id": "ZSgjtNbEPByM"
    },
    {
      "cell_type": "code",
      "source": [
        "# Добавление константы к выборке\n",
        "X_sm = sm.add_constant(X)"
      ],
      "metadata": {
        "id": "yNUYzrCIu48m"
      },
      "id": "yNUYzrCIu48m",
      "execution_count": null,
      "outputs": []
    },
    {
      "cell_type": "code",
      "source": [
        "# Построение и обучение модели\n",
        "ols_model = sm.OLS(y, X_sm)\n",
        "ols_res = ols_model.fit()\n",
        "\n",
        "# Вывод результатов обучения (summary)\n",
        "print(ols_res.summary())"
      ],
      "metadata": {
        "colab": {
          "base_uri": "https://localhost:8080/"
        },
        "id": "9Rig_NecvDpo",
        "outputId": "bf7d79f9-d555-430f-d23f-8da1358aa4b3"
      },
      "id": "9Rig_NecvDpo",
      "execution_count": null,
      "outputs": [
        {
          "output_type": "stream",
          "name": "stdout",
          "text": [
            "                            OLS Regression Results                            \n",
            "==============================================================================\n",
            "Dep. Variable:                   cost   R-squared:                       0.001\n",
            "Model:                            OLS   Adj. R-squared:                 -0.000\n",
            "Method:                 Least Squares   F-statistic:                    0.8924\n",
            "Date:                Fri, 21 Feb 2025   Prob (F-statistic):              0.345\n",
            "Time:                        18:19:19   Log-Likelihood:                -10085.\n",
            "No. Observations:                1000   AIC:                         2.017e+04\n",
            "Df Residuals:                     998   BIC:                         2.018e+04\n",
            "Df Model:                           1                                         \n",
            "Covariance Type:            nonrobust                                         \n",
            "==============================================================================\n",
            "                 coef    std err          t      P>|t|      [0.025      0.975]\n",
            "------------------------------------------------------------------------------\n",
            "const       9765.4801    370.682     26.345      0.000    9038.075    1.05e+04\n",
            "feature        6.0658      6.421      0.945      0.345      -6.534      18.666\n",
            "==============================================================================\n",
            "Omnibus:                     1131.352   Durbin-Watson:                   1.949\n",
            "Prob(Omnibus):                  0.000   Jarque-Bera (JB):               65.343\n",
            "Skew:                           0.051   Prob(JB):                     6.47e-15\n",
            "Kurtosis:                       1.752   Cond. No.                         116.\n",
            "==============================================================================\n",
            "\n",
            "Notes:\n",
            "[1] Standard Errors assume that the covariance matrix of the errors is correctly specified.\n"
          ]
        }
      ]
    },
    {
      "cell_type": "markdown",
      "id": "add49dfd-f6ee-4b72-a116-37345791fd1d",
      "metadata": {
        "id": "add49dfd-f6ee-4b72-a116-37345791fd1d"
      },
      "source": [
        "\n",
        "Проверим предположение о необходимости репрезентативности выборки. Например, ограничим данные и сравним качество прогноза на полной и ограниченной выборках.\n",
        "\n",
        "Пусть имеется набор данных о продажах домов. Рассмотрим две выборки, обучим на них модель линейной регрессии и сравним результаты. Первая выборка должна включать в себя только данные о домах, в которых не более 2 спальных комнат. Вторая выборка будет включать в себя все типы домов. Построим регрессию из statsmodels и выведем значения коэффициентов детерминации в обоих случаях."
      ]
    },
    {
      "cell_type": "code",
      "source": [
        "data = pd.read_csv('house_prices.csv')\n",
        "data.head(10)"
      ],
      "metadata": {
        "colab": {
          "base_uri": "https://localhost:8080/",
          "height": 383
        },
        "id": "U9PVuPe5yurB",
        "outputId": "cc26acee-6302-47bc-b129-40e3eb22357e"
      },
      "id": "U9PVuPe5yurB",
      "execution_count": null,
      "outputs": [
        {
          "output_type": "execute_result",
          "data": {
            "text/plain": [
              "      price   area  bedrooms  bathrooms  stories mainroad guestroom basement  \\\n",
              "0  13300000   7420         4          2        3      yes        no       no   \n",
              "1  12250000   8960         4          4        4      yes        no       no   \n",
              "2  12250000   9960         3          2        2      yes        no      yes   \n",
              "3  12215000   7500         4          2        2      yes        no      yes   \n",
              "4  11410000   7420         4          1        2      yes       yes      yes   \n",
              "5  10850000   7500         3          3        1      yes        no      yes   \n",
              "6  10150000   8580         4          3        4      yes        no       no   \n",
              "7  10150000  16200         5          3        2      yes        no       no   \n",
              "8   9870000   8100         4          1        2      yes       yes      yes   \n",
              "9   9800000   5750         3          2        4      yes       yes       no   \n",
              "\n",
              "  hotwaterheating airconditioning  parking prefarea furnishingstatus  \n",
              "0              no             yes        2      yes        furnished  \n",
              "1              no             yes        3       no        furnished  \n",
              "2              no              no        2      yes   semi-furnished  \n",
              "3              no             yes        3      yes        furnished  \n",
              "4              no             yes        2       no        furnished  \n",
              "5              no             yes        2      yes   semi-furnished  \n",
              "6              no             yes        2      yes   semi-furnished  \n",
              "7              no              no        0       no      unfurnished  \n",
              "8              no             yes        2      yes        furnished  \n",
              "9              no             yes        1      yes      unfurnished  "
            ],
            "text/html": [
              "\n",
              "  <div id=\"df-2f3c3222-fe26-42db-9278-24f04a9ddad9\" class=\"colab-df-container\">\n",
              "    <div>\n",
              "<style scoped>\n",
              "    .dataframe tbody tr th:only-of-type {\n",
              "        vertical-align: middle;\n",
              "    }\n",
              "\n",
              "    .dataframe tbody tr th {\n",
              "        vertical-align: top;\n",
              "    }\n",
              "\n",
              "    .dataframe thead th {\n",
              "        text-align: right;\n",
              "    }\n",
              "</style>\n",
              "<table border=\"1\" class=\"dataframe\">\n",
              "  <thead>\n",
              "    <tr style=\"text-align: right;\">\n",
              "      <th></th>\n",
              "      <th>price</th>\n",
              "      <th>area</th>\n",
              "      <th>bedrooms</th>\n",
              "      <th>bathrooms</th>\n",
              "      <th>stories</th>\n",
              "      <th>mainroad</th>\n",
              "      <th>guestroom</th>\n",
              "      <th>basement</th>\n",
              "      <th>hotwaterheating</th>\n",
              "      <th>airconditioning</th>\n",
              "      <th>parking</th>\n",
              "      <th>prefarea</th>\n",
              "      <th>furnishingstatus</th>\n",
              "    </tr>\n",
              "  </thead>\n",
              "  <tbody>\n",
              "    <tr>\n",
              "      <th>0</th>\n",
              "      <td>13300000</td>\n",
              "      <td>7420</td>\n",
              "      <td>4</td>\n",
              "      <td>2</td>\n",
              "      <td>3</td>\n",
              "      <td>yes</td>\n",
              "      <td>no</td>\n",
              "      <td>no</td>\n",
              "      <td>no</td>\n",
              "      <td>yes</td>\n",
              "      <td>2</td>\n",
              "      <td>yes</td>\n",
              "      <td>furnished</td>\n",
              "    </tr>\n",
              "    <tr>\n",
              "      <th>1</th>\n",
              "      <td>12250000</td>\n",
              "      <td>8960</td>\n",
              "      <td>4</td>\n",
              "      <td>4</td>\n",
              "      <td>4</td>\n",
              "      <td>yes</td>\n",
              "      <td>no</td>\n",
              "      <td>no</td>\n",
              "      <td>no</td>\n",
              "      <td>yes</td>\n",
              "      <td>3</td>\n",
              "      <td>no</td>\n",
              "      <td>furnished</td>\n",
              "    </tr>\n",
              "    <tr>\n",
              "      <th>2</th>\n",
              "      <td>12250000</td>\n",
              "      <td>9960</td>\n",
              "      <td>3</td>\n",
              "      <td>2</td>\n",
              "      <td>2</td>\n",
              "      <td>yes</td>\n",
              "      <td>no</td>\n",
              "      <td>yes</td>\n",
              "      <td>no</td>\n",
              "      <td>no</td>\n",
              "      <td>2</td>\n",
              "      <td>yes</td>\n",
              "      <td>semi-furnished</td>\n",
              "    </tr>\n",
              "    <tr>\n",
              "      <th>3</th>\n",
              "      <td>12215000</td>\n",
              "      <td>7500</td>\n",
              "      <td>4</td>\n",
              "      <td>2</td>\n",
              "      <td>2</td>\n",
              "      <td>yes</td>\n",
              "      <td>no</td>\n",
              "      <td>yes</td>\n",
              "      <td>no</td>\n",
              "      <td>yes</td>\n",
              "      <td>3</td>\n",
              "      <td>yes</td>\n",
              "      <td>furnished</td>\n",
              "    </tr>\n",
              "    <tr>\n",
              "      <th>4</th>\n",
              "      <td>11410000</td>\n",
              "      <td>7420</td>\n",
              "      <td>4</td>\n",
              "      <td>1</td>\n",
              "      <td>2</td>\n",
              "      <td>yes</td>\n",
              "      <td>yes</td>\n",
              "      <td>yes</td>\n",
              "      <td>no</td>\n",
              "      <td>yes</td>\n",
              "      <td>2</td>\n",
              "      <td>no</td>\n",
              "      <td>furnished</td>\n",
              "    </tr>\n",
              "    <tr>\n",
              "      <th>5</th>\n",
              "      <td>10850000</td>\n",
              "      <td>7500</td>\n",
              "      <td>3</td>\n",
              "      <td>3</td>\n",
              "      <td>1</td>\n",
              "      <td>yes</td>\n",
              "      <td>no</td>\n",
              "      <td>yes</td>\n",
              "      <td>no</td>\n",
              "      <td>yes</td>\n",
              "      <td>2</td>\n",
              "      <td>yes</td>\n",
              "      <td>semi-furnished</td>\n",
              "    </tr>\n",
              "    <tr>\n",
              "      <th>6</th>\n",
              "      <td>10150000</td>\n",
              "      <td>8580</td>\n",
              "      <td>4</td>\n",
              "      <td>3</td>\n",
              "      <td>4</td>\n",
              "      <td>yes</td>\n",
              "      <td>no</td>\n",
              "      <td>no</td>\n",
              "      <td>no</td>\n",
              "      <td>yes</td>\n",
              "      <td>2</td>\n",
              "      <td>yes</td>\n",
              "      <td>semi-furnished</td>\n",
              "    </tr>\n",
              "    <tr>\n",
              "      <th>7</th>\n",
              "      <td>10150000</td>\n",
              "      <td>16200</td>\n",
              "      <td>5</td>\n",
              "      <td>3</td>\n",
              "      <td>2</td>\n",
              "      <td>yes</td>\n",
              "      <td>no</td>\n",
              "      <td>no</td>\n",
              "      <td>no</td>\n",
              "      <td>no</td>\n",
              "      <td>0</td>\n",
              "      <td>no</td>\n",
              "      <td>unfurnished</td>\n",
              "    </tr>\n",
              "    <tr>\n",
              "      <th>8</th>\n",
              "      <td>9870000</td>\n",
              "      <td>8100</td>\n",
              "      <td>4</td>\n",
              "      <td>1</td>\n",
              "      <td>2</td>\n",
              "      <td>yes</td>\n",
              "      <td>yes</td>\n",
              "      <td>yes</td>\n",
              "      <td>no</td>\n",
              "      <td>yes</td>\n",
              "      <td>2</td>\n",
              "      <td>yes</td>\n",
              "      <td>furnished</td>\n",
              "    </tr>\n",
              "    <tr>\n",
              "      <th>9</th>\n",
              "      <td>9800000</td>\n",
              "      <td>5750</td>\n",
              "      <td>3</td>\n",
              "      <td>2</td>\n",
              "      <td>4</td>\n",
              "      <td>yes</td>\n",
              "      <td>yes</td>\n",
              "      <td>no</td>\n",
              "      <td>no</td>\n",
              "      <td>yes</td>\n",
              "      <td>1</td>\n",
              "      <td>yes</td>\n",
              "      <td>unfurnished</td>\n",
              "    </tr>\n",
              "  </tbody>\n",
              "</table>\n",
              "</div>\n",
              "    <div class=\"colab-df-buttons\">\n",
              "\n",
              "  <div class=\"colab-df-container\">\n",
              "    <button class=\"colab-df-convert\" onclick=\"convertToInteractive('df-2f3c3222-fe26-42db-9278-24f04a9ddad9')\"\n",
              "            title=\"Convert this dataframe to an interactive table.\"\n",
              "            style=\"display:none;\">\n",
              "\n",
              "  <svg xmlns=\"http://www.w3.org/2000/svg\" height=\"24px\" viewBox=\"0 -960 960 960\">\n",
              "    <path d=\"M120-120v-720h720v720H120Zm60-500h600v-160H180v160Zm220 220h160v-160H400v160Zm0 220h160v-160H400v160ZM180-400h160v-160H180v160Zm440 0h160v-160H620v160ZM180-180h160v-160H180v160Zm440 0h160v-160H620v160Z\"/>\n",
              "  </svg>\n",
              "    </button>\n",
              "\n",
              "  <style>\n",
              "    .colab-df-container {\n",
              "      display:flex;\n",
              "      gap: 12px;\n",
              "    }\n",
              "\n",
              "    .colab-df-convert {\n",
              "      background-color: #E8F0FE;\n",
              "      border: none;\n",
              "      border-radius: 50%;\n",
              "      cursor: pointer;\n",
              "      display: none;\n",
              "      fill: #1967D2;\n",
              "      height: 32px;\n",
              "      padding: 0 0 0 0;\n",
              "      width: 32px;\n",
              "    }\n",
              "\n",
              "    .colab-df-convert:hover {\n",
              "      background-color: #E2EBFA;\n",
              "      box-shadow: 0px 1px 2px rgba(60, 64, 67, 0.3), 0px 1px 3px 1px rgba(60, 64, 67, 0.15);\n",
              "      fill: #174EA6;\n",
              "    }\n",
              "\n",
              "    .colab-df-buttons div {\n",
              "      margin-bottom: 4px;\n",
              "    }\n",
              "\n",
              "    [theme=dark] .colab-df-convert {\n",
              "      background-color: #3B4455;\n",
              "      fill: #D2E3FC;\n",
              "    }\n",
              "\n",
              "    [theme=dark] .colab-df-convert:hover {\n",
              "      background-color: #434B5C;\n",
              "      box-shadow: 0px 1px 3px 1px rgba(0, 0, 0, 0.15);\n",
              "      filter: drop-shadow(0px 1px 2px rgba(0, 0, 0, 0.3));\n",
              "      fill: #FFFFFF;\n",
              "    }\n",
              "  </style>\n",
              "\n",
              "    <script>\n",
              "      const buttonEl =\n",
              "        document.querySelector('#df-2f3c3222-fe26-42db-9278-24f04a9ddad9 button.colab-df-convert');\n",
              "      buttonEl.style.display =\n",
              "        google.colab.kernel.accessAllowed ? 'block' : 'none';\n",
              "\n",
              "      async function convertToInteractive(key) {\n",
              "        const element = document.querySelector('#df-2f3c3222-fe26-42db-9278-24f04a9ddad9');\n",
              "        const dataTable =\n",
              "          await google.colab.kernel.invokeFunction('convertToInteractive',\n",
              "                                                    [key], {});\n",
              "        if (!dataTable) return;\n",
              "\n",
              "        const docLinkHtml = 'Like what you see? Visit the ' +\n",
              "          '<a target=\"_blank\" href=https://colab.research.google.com/notebooks/data_table.ipynb>data table notebook</a>'\n",
              "          + ' to learn more about interactive tables.';\n",
              "        element.innerHTML = '';\n",
              "        dataTable['output_type'] = 'display_data';\n",
              "        await google.colab.output.renderOutput(dataTable, element);\n",
              "        const docLink = document.createElement('div');\n",
              "        docLink.innerHTML = docLinkHtml;\n",
              "        element.appendChild(docLink);\n",
              "      }\n",
              "    </script>\n",
              "  </div>\n",
              "\n",
              "\n",
              "<div id=\"df-10c9a9ad-2264-4e99-a3b4-cdc407ce80f8\">\n",
              "  <button class=\"colab-df-quickchart\" onclick=\"quickchart('df-10c9a9ad-2264-4e99-a3b4-cdc407ce80f8')\"\n",
              "            title=\"Suggest charts\"\n",
              "            style=\"display:none;\">\n",
              "\n",
              "<svg xmlns=\"http://www.w3.org/2000/svg\" height=\"24px\"viewBox=\"0 0 24 24\"\n",
              "     width=\"24px\">\n",
              "    <g>\n",
              "        <path d=\"M19 3H5c-1.1 0-2 .9-2 2v14c0 1.1.9 2 2 2h14c1.1 0 2-.9 2-2V5c0-1.1-.9-2-2-2zM9 17H7v-7h2v7zm4 0h-2V7h2v10zm4 0h-2v-4h2v4z\"/>\n",
              "    </g>\n",
              "</svg>\n",
              "  </button>\n",
              "\n",
              "<style>\n",
              "  .colab-df-quickchart {\n",
              "      --bg-color: #E8F0FE;\n",
              "      --fill-color: #1967D2;\n",
              "      --hover-bg-color: #E2EBFA;\n",
              "      --hover-fill-color: #174EA6;\n",
              "      --disabled-fill-color: #AAA;\n",
              "      --disabled-bg-color: #DDD;\n",
              "  }\n",
              "\n",
              "  [theme=dark] .colab-df-quickchart {\n",
              "      --bg-color: #3B4455;\n",
              "      --fill-color: #D2E3FC;\n",
              "      --hover-bg-color: #434B5C;\n",
              "      --hover-fill-color: #FFFFFF;\n",
              "      --disabled-bg-color: #3B4455;\n",
              "      --disabled-fill-color: #666;\n",
              "  }\n",
              "\n",
              "  .colab-df-quickchart {\n",
              "    background-color: var(--bg-color);\n",
              "    border: none;\n",
              "    border-radius: 50%;\n",
              "    cursor: pointer;\n",
              "    display: none;\n",
              "    fill: var(--fill-color);\n",
              "    height: 32px;\n",
              "    padding: 0;\n",
              "    width: 32px;\n",
              "  }\n",
              "\n",
              "  .colab-df-quickchart:hover {\n",
              "    background-color: var(--hover-bg-color);\n",
              "    box-shadow: 0 1px 2px rgba(60, 64, 67, 0.3), 0 1px 3px 1px rgba(60, 64, 67, 0.15);\n",
              "    fill: var(--button-hover-fill-color);\n",
              "  }\n",
              "\n",
              "  .colab-df-quickchart-complete:disabled,\n",
              "  .colab-df-quickchart-complete:disabled:hover {\n",
              "    background-color: var(--disabled-bg-color);\n",
              "    fill: var(--disabled-fill-color);\n",
              "    box-shadow: none;\n",
              "  }\n",
              "\n",
              "  .colab-df-spinner {\n",
              "    border: 2px solid var(--fill-color);\n",
              "    border-color: transparent;\n",
              "    border-bottom-color: var(--fill-color);\n",
              "    animation:\n",
              "      spin 1s steps(1) infinite;\n",
              "  }\n",
              "\n",
              "  @keyframes spin {\n",
              "    0% {\n",
              "      border-color: transparent;\n",
              "      border-bottom-color: var(--fill-color);\n",
              "      border-left-color: var(--fill-color);\n",
              "    }\n",
              "    20% {\n",
              "      border-color: transparent;\n",
              "      border-left-color: var(--fill-color);\n",
              "      border-top-color: var(--fill-color);\n",
              "    }\n",
              "    30% {\n",
              "      border-color: transparent;\n",
              "      border-left-color: var(--fill-color);\n",
              "      border-top-color: var(--fill-color);\n",
              "      border-right-color: var(--fill-color);\n",
              "    }\n",
              "    40% {\n",
              "      border-color: transparent;\n",
              "      border-right-color: var(--fill-color);\n",
              "      border-top-color: var(--fill-color);\n",
              "    }\n",
              "    60% {\n",
              "      border-color: transparent;\n",
              "      border-right-color: var(--fill-color);\n",
              "    }\n",
              "    80% {\n",
              "      border-color: transparent;\n",
              "      border-right-color: var(--fill-color);\n",
              "      border-bottom-color: var(--fill-color);\n",
              "    }\n",
              "    90% {\n",
              "      border-color: transparent;\n",
              "      border-bottom-color: var(--fill-color);\n",
              "    }\n",
              "  }\n",
              "</style>\n",
              "\n",
              "  <script>\n",
              "    async function quickchart(key) {\n",
              "      const quickchartButtonEl =\n",
              "        document.querySelector('#' + key + ' button');\n",
              "      quickchartButtonEl.disabled = true;  // To prevent multiple clicks.\n",
              "      quickchartButtonEl.classList.add('colab-df-spinner');\n",
              "      try {\n",
              "        const charts = await google.colab.kernel.invokeFunction(\n",
              "            'suggestCharts', [key], {});\n",
              "      } catch (error) {\n",
              "        console.error('Error during call to suggestCharts:', error);\n",
              "      }\n",
              "      quickchartButtonEl.classList.remove('colab-df-spinner');\n",
              "      quickchartButtonEl.classList.add('colab-df-quickchart-complete');\n",
              "    }\n",
              "    (() => {\n",
              "      let quickchartButtonEl =\n",
              "        document.querySelector('#df-10c9a9ad-2264-4e99-a3b4-cdc407ce80f8 button');\n",
              "      quickchartButtonEl.style.display =\n",
              "        google.colab.kernel.accessAllowed ? 'block' : 'none';\n",
              "    })();\n",
              "  </script>\n",
              "</div>\n",
              "    </div>\n",
              "  </div>\n"
            ],
            "application/vnd.google.colaboratory.intrinsic+json": {
              "type": "dataframe",
              "variable_name": "data",
              "summary": "{\n  \"name\": \"data\",\n  \"rows\": 545,\n  \"fields\": [\n    {\n      \"column\": \"price\",\n      \"properties\": {\n        \"dtype\": \"number\",\n        \"std\": 1870439,\n        \"min\": 1750000,\n        \"max\": 13300000,\n        \"num_unique_values\": 219,\n        \"samples\": [\n          3773000,\n          5285000,\n          1820000\n        ],\n        \"semantic_type\": \"\",\n        \"description\": \"\"\n      }\n    },\n    {\n      \"column\": \"area\",\n      \"properties\": {\n        \"dtype\": \"number\",\n        \"std\": 2170,\n        \"min\": 1650,\n        \"max\": 16200,\n        \"num_unique_values\": 284,\n        \"samples\": [\n          6000,\n          2684,\n          5360\n        ],\n        \"semantic_type\": \"\",\n        \"description\": \"\"\n      }\n    },\n    {\n      \"column\": \"bedrooms\",\n      \"properties\": {\n        \"dtype\": \"number\",\n        \"std\": 0,\n        \"min\": 1,\n        \"max\": 6,\n        \"num_unique_values\": 6,\n        \"samples\": [\n          4,\n          3,\n          1\n        ],\n        \"semantic_type\": \"\",\n        \"description\": \"\"\n      }\n    },\n    {\n      \"column\": \"bathrooms\",\n      \"properties\": {\n        \"dtype\": \"number\",\n        \"std\": 0,\n        \"min\": 1,\n        \"max\": 4,\n        \"num_unique_values\": 4,\n        \"samples\": [\n          4,\n          3,\n          2\n        ],\n        \"semantic_type\": \"\",\n        \"description\": \"\"\n      }\n    },\n    {\n      \"column\": \"stories\",\n      \"properties\": {\n        \"dtype\": \"number\",\n        \"std\": 0,\n        \"min\": 1,\n        \"max\": 4,\n        \"num_unique_values\": 4,\n        \"samples\": [\n          4,\n          1,\n          3\n        ],\n        \"semantic_type\": \"\",\n        \"description\": \"\"\n      }\n    },\n    {\n      \"column\": \"mainroad\",\n      \"properties\": {\n        \"dtype\": \"category\",\n        \"num_unique_values\": 2,\n        \"samples\": [\n          \"no\",\n          \"yes\"\n        ],\n        \"semantic_type\": \"\",\n        \"description\": \"\"\n      }\n    },\n    {\n      \"column\": \"guestroom\",\n      \"properties\": {\n        \"dtype\": \"category\",\n        \"num_unique_values\": 2,\n        \"samples\": [\n          \"yes\",\n          \"no\"\n        ],\n        \"semantic_type\": \"\",\n        \"description\": \"\"\n      }\n    },\n    {\n      \"column\": \"basement\",\n      \"properties\": {\n        \"dtype\": \"category\",\n        \"num_unique_values\": 2,\n        \"samples\": [\n          \"yes\",\n          \"no\"\n        ],\n        \"semantic_type\": \"\",\n        \"description\": \"\"\n      }\n    },\n    {\n      \"column\": \"hotwaterheating\",\n      \"properties\": {\n        \"dtype\": \"category\",\n        \"num_unique_values\": 2,\n        \"samples\": [\n          \"yes\",\n          \"no\"\n        ],\n        \"semantic_type\": \"\",\n        \"description\": \"\"\n      }\n    },\n    {\n      \"column\": \"airconditioning\",\n      \"properties\": {\n        \"dtype\": \"category\",\n        \"num_unique_values\": 2,\n        \"samples\": [\n          \"no\",\n          \"yes\"\n        ],\n        \"semantic_type\": \"\",\n        \"description\": \"\"\n      }\n    },\n    {\n      \"column\": \"parking\",\n      \"properties\": {\n        \"dtype\": \"number\",\n        \"std\": 0,\n        \"min\": 0,\n        \"max\": 3,\n        \"num_unique_values\": 4,\n        \"samples\": [\n          3,\n          1\n        ],\n        \"semantic_type\": \"\",\n        \"description\": \"\"\n      }\n    },\n    {\n      \"column\": \"prefarea\",\n      \"properties\": {\n        \"dtype\": \"category\",\n        \"num_unique_values\": 2,\n        \"samples\": [\n          \"no\",\n          \"yes\"\n        ],\n        \"semantic_type\": \"\",\n        \"description\": \"\"\n      }\n    },\n    {\n      \"column\": \"furnishingstatus\",\n      \"properties\": {\n        \"dtype\": \"category\",\n        \"num_unique_values\": 3,\n        \"samples\": [\n          \"furnished\",\n          \"semi-furnished\"\n        ],\n        \"semantic_type\": \"\",\n        \"description\": \"\"\n      }\n    }\n  ]\n}"
            }
          },
          "metadata": {},
          "execution_count": 14
        }
      ]
    },
    {
      "cell_type": "code",
      "source": [
        "# Список категориальных переменных\n",
        "var_categorical = ['mainroad', 'guestroom', 'basement', 'hotwaterheating', 'airconditioning', 'prefarea', 'furnishingstatus']\n",
        "\n",
        "# Список количественных переменных\n",
        "var_numeric = ['area', 'bedrooms', 'bathrooms', 'stories', 'parking']\n"
      ],
      "metadata": {
        "id": "Khsh7xyQzh07"
      },
      "id": "Khsh7xyQzh07",
      "execution_count": null,
      "outputs": []
    },
    {
      "cell_type": "code",
      "source": [
        "# Первая выборка: дома с двумя или менее спальнями\n",
        "X1 = data[data['bedrooms'] <= 2]\n",
        "y1 = X1['price']\n",
        "\n",
        "# Вторая выборка: все дома\n",
        "X2 = data\n",
        "y2 = X2['price']\n"
      ],
      "metadata": {
        "id": "uEILv1xw0T9p"
      },
      "id": "uEILv1xw0T9p",
      "execution_count": null,
      "outputs": []
    },
    {
      "cell_type": "code",
      "source": [
        "# Замена 'yes'/'no' на 1/0 для бинарных признаков\n",
        "binary_vars = ['mainroad', 'guestroom', 'basement', 'hotwaterheating', 'airconditioning', 'prefarea']\n",
        "for var in binary_vars:\n",
        "    data[var] = data[var].map({'yes': 1, 'no': 0})"
      ],
      "metadata": {
        "id": "gKflIvXL1HVq"
      },
      "id": "gKflIvXL1HVq",
      "execution_count": null,
      "outputs": []
    },
    {
      "cell_type": "code",
      "source": [
        "# Кодировка категориальных признаков для первой выборки\n",
        "encoder1 = OneHotEncoder(handle_unknown='ignore', sparse_output=False)\n",
        "furnished_enc_1 = pd.DataFrame(\n",
        "    encoder1.fit_transform(X1[['furnishingstatus']]),\n",
        "    columns=encoder1.categories_\n",
        ")\n",
        "\n",
        "# Кодировка категориальных признаков для второй выборки\n",
        "encoder2 = OneHotEncoder(handle_unknown='ignore', sparse_output=False)\n",
        "furnished_enc_2 = pd.DataFrame(\n",
        "    encoder2.fit_transform(X2[['furnishingstatus']]),\n",
        "    columns=encoder2.categories_\n",
        ")"
      ],
      "metadata": {
        "id": "BLWhCPHP1UMJ"
      },
      "id": "BLWhCPHP1UMJ",
      "execution_count": null,
      "outputs": []
    },
    {
      "cell_type": "code",
      "source": [
        "# Масштабирование количественных признаков для первой выборки\n",
        "scaler1 = StandardScaler()\n",
        "X1_numeric = pd.DataFrame(\n",
        "    scaler1.fit_transform(X1[var_numeric]),\n",
        "    columns=var_numeric\n",
        ")\n",
        "\n",
        "# Масштабирование количественных признаков для второй выборки\n",
        "scaler2 = StandardScaler()\n",
        "X2_numeric = pd.DataFrame(\n",
        "    scaler2.fit_transform(X2[var_numeric]),\n",
        "    columns=var_numeric\n",
        ")"
      ],
      "metadata": {
        "id": "QLxFzDFp1ok1"
      },
      "id": "QLxFzDFp1ok1",
      "execution_count": null,
      "outputs": []
    },
    {
      "cell_type": "code",
      "execution_count": null,
      "id": "1078de3c-73de-4cb7-95c8-7bbe62f9bd39",
      "metadata": {
        "id": "1078de3c-73de-4cb7-95c8-7bbe62f9bd39",
        "colab": {
          "base_uri": "https://localhost:8080/"
        },
        "outputId": "1aff7c1a-9ab6-4d4c-938d-eb72797d3d0a"
      },
      "outputs": [
        {
          "output_type": "execute_result",
          "data": {
            "text/plain": [
              "(138, 14)"
            ]
          },
          "metadata": {},
          "execution_count": 20
        }
      ],
      "source": [
        "# Соберите все в один датафрейм\n",
        "X1_enc = X1_numeric.join([furnished_enc_1, X1[var_categorical].reset_index(drop=True)]).drop('furnishingstatus', axis=1)\n",
        "X1_enc.shape"
      ]
    },
    {
      "cell_type": "code",
      "source": [
        "# Объединение всех признаков в один датафрейм\n",
        "X2_enc = X2_numeric.join([furnished_enc_2, X2[binary_vars].reset_index(drop=True)])"
      ],
      "metadata": {
        "id": "CEkl936-3ZEA"
      },
      "id": "CEkl936-3ZEA",
      "execution_count": null,
      "outputs": []
    },
    {
      "cell_type": "code",
      "source": [
        "# Переименование колонок для X1_enc\n",
        "furnished_enc_1.columns = ['furnishingstatus_furnished', 'furnishingstatus_semi-furnished', 'furnishingstatus_unfurnished']\n",
        "\n",
        "# Удаление лишней колонки 'unfurnished'\n",
        "furnished_enc_1 = furnished_enc_1.drop(columns=['furnishingstatus_unfurnished'])\n",
        "\n",
        "# Объединение всех признаков в X1_enc\n",
        "X1_enc = X1_numeric.join([furnished_enc_1, X1[binary_vars].reset_index(drop=True)])"
      ],
      "metadata": {
        "id": "0VdRopIa4Idq"
      },
      "id": "0VdRopIa4Idq",
      "execution_count": null,
      "outputs": []
    },
    {
      "cell_type": "code",
      "source": [
        "# Переименование колонок для X2_enc\n",
        "furnished_enc_2.columns = ['furnishingstatus_furnished', 'furnishingstatus_semi-furnished', 'furnishingstatus_unfurnished']\n",
        "\n",
        "# Удаление лишней колонки 'unfurnished'\n",
        "furnished_enc_2 = furnished_enc_2.drop(columns=['furnishingstatus_unfurnished'])\n",
        "\n",
        "# Объединение всех признаков в X2_enc\n",
        "X2_enc = X2_numeric.join([furnished_enc_2, X2[binary_vars].reset_index(drop=True)])"
      ],
      "metadata": {
        "id": "IxERMkyG4O8y"
      },
      "id": "IxERMkyG4O8y",
      "execution_count": null,
      "outputs": []
    },
    {
      "cell_type": "code",
      "source": [
        "# Добавление константы к X1_enc\n",
        "X1_enc = sm.add_constant(X1_enc)\n",
        "\n",
        "# Добавление константы к X2_enc\n",
        "X2_enc = sm.add_constant(X2_enc)"
      ],
      "metadata": {
        "id": "TD6iDaP54fup"
      },
      "id": "TD6iDaP54fup",
      "execution_count": null,
      "outputs": []
    },
    {
      "cell_type": "code",
      "source": [
        "# Сброс индексов в y1 и y2\n",
        "y1 = y1.reset_index(drop=True)\n",
        "y2 = y2.reset_index(drop=True)"
      ],
      "metadata": {
        "id": "upS5XYPN4rck"
      },
      "id": "upS5XYPN4rck",
      "execution_count": null,
      "outputs": []
    },
    {
      "cell_type": "code",
      "source": [
        "# Создание и обучение модели для первой выборки\n",
        "ols1 = sm.OLS(y1, X1_enc)  # Создание модели\n",
        "ols1_res = ols1.fit()       # Обучение модели\n",
        "print(ols1_res.summary())   # Вывод информации о модели"
      ],
      "metadata": {
        "colab": {
          "base_uri": "https://localhost:8080/"
        },
        "id": "EbbxC5eC4pyK",
        "outputId": "9b9401cf-1b8d-412f-ec47-6cfcdcca8f34"
      },
      "id": "EbbxC5eC4pyK",
      "execution_count": null,
      "outputs": [
        {
          "output_type": "stream",
          "name": "stdout",
          "text": [
            "                            OLS Regression Results                            \n",
            "==============================================================================\n",
            "Dep. Variable:                  price   R-squared:                       0.650\n",
            "Model:                            OLS   Adj. R-squared:                  0.613\n",
            "Method:                 Least Squares   F-statistic:                     17.69\n",
            "Date:                Fri, 21 Feb 2025   Prob (F-statistic):           1.83e-22\n",
            "Time:                        19:10:26   Log-Likelihood:                -2030.0\n",
            "No. Observations:                 138   AIC:                             4088.\n",
            "Df Residuals:                     124   BIC:                             4129.\n",
            "Df Model:                          13                                         \n",
            "Covariance Type:            nonrobust                                         \n",
            "===================================================================================================\n",
            "                                      coef    std err          t      P>|t|      [0.025      0.975]\n",
            "---------------------------------------------------------------------------------------------------\n",
            "const                            2.877e+06   1.59e+05     18.064      0.000    2.56e+06    3.19e+06\n",
            "area                             4.313e+05   5.88e+04      7.333      0.000    3.15e+05    5.48e+05\n",
            "bedrooms                         3.227e+04   5.42e+04      0.595      0.553    -7.5e+04     1.4e+05\n",
            "bathrooms                        5.053e+04   5.96e+04      0.848      0.398   -6.74e+04    1.68e+05\n",
            "stories                          6.432e+04    6.3e+04      1.022      0.309   -6.03e+04    1.89e+05\n",
            "parking                          1.823e+04   5.96e+04      0.306      0.760   -9.98e+04    1.36e+05\n",
            "furnishingstatus_furnished       6.414e+05   1.52e+05      4.206      0.000     3.4e+05    9.43e+05\n",
            "furnishingstatus_semi-furnished   6.02e+05   1.28e+05      4.707      0.000    3.49e+05    8.55e+05\n",
            "mainroad                         7.201e+04   1.59e+05      0.454      0.651   -2.42e+05    3.86e+05\n",
            "guestroom                        4.789e+05   1.99e+05      2.406      0.018    8.49e+04    8.73e+05\n",
            "basement                         3.577e+05   1.59e+05      2.251      0.026    4.31e+04    6.72e+05\n",
            "hotwaterheating                  3.923e+05   2.99e+05      1.314      0.191   -1.99e+05    9.83e+05\n",
            "airconditioning                  6.203e+05   1.53e+05      4.041      0.000    3.16e+05    9.24e+05\n",
            "prefarea                          5.74e+05   1.91e+05      3.006      0.003    1.96e+05    9.52e+05\n",
            "==============================================================================\n",
            "Omnibus:                        3.688   Durbin-Watson:                   1.243\n",
            "Prob(Omnibus):                  0.158   Jarque-Bera (JB):                3.169\n",
            "Skew:                           0.345   Prob(JB):                        0.205\n",
            "Kurtosis:                       3.272   Cond. No.                         8.30\n",
            "==============================================================================\n",
            "\n",
            "Notes:\n",
            "[1] Standard Errors assume that the covariance matrix of the errors is correctly specified.\n"
          ]
        }
      ]
    },
    {
      "cell_type": "code",
      "source": [
        "print(X1_enc.dtypes)\n",
        "print(X2_enc.dtypes)"
      ],
      "metadata": {
        "colab": {
          "base_uri": "https://localhost:8080/"
        },
        "id": "wHKlABFl5iJp",
        "outputId": "e4a3f6fe-0070-4178-f193-4d6381a3a86a"
      },
      "id": "wHKlABFl5iJp",
      "execution_count": null,
      "outputs": [
        {
          "output_type": "stream",
          "name": "stdout",
          "text": [
            "const                              float64\n",
            "area                               float64\n",
            "bedrooms                           float64\n",
            "bathrooms                          float64\n",
            "stories                            float64\n",
            "parking                            float64\n",
            "furnishingstatus_furnished         float64\n",
            "furnishingstatus_semi-furnished    float64\n",
            "mainroad                             int64\n",
            "guestroom                            int64\n",
            "basement                             int64\n",
            "hotwaterheating                      int64\n",
            "airconditioning                      int64\n",
            "prefarea                             int64\n",
            "dtype: object\n",
            "const                              float64\n",
            "area                               float64\n",
            "bedrooms                           float64\n",
            "bathrooms                          float64\n",
            "stories                            float64\n",
            "parking                            float64\n",
            "furnishingstatus_furnished         float64\n",
            "furnishingstatus_semi-furnished    float64\n",
            "mainroad                             int64\n",
            "guestroom                            int64\n",
            "basement                             int64\n",
            "hotwaterheating                      int64\n",
            "airconditioning                      int64\n",
            "prefarea                             int64\n",
            "dtype: object\n"
          ]
        }
      ]
    },
    {
      "cell_type": "code",
      "source": [
        "# Список бинарных признаков\n",
        "binary_vars = ['mainroad', 'guestroom', 'basement', 'hotwaterheating', 'airconditioning', 'prefarea']\n",
        "\n",
        "# Преобразуем бинарные признаки в числовой тип\n",
        "for var in binary_vars:\n",
        "    X1_enc[var] = X1_enc[var].astype(int)  # Преобразуем в int"
      ],
      "metadata": {
        "id": "nRanpoHu6A-C"
      },
      "id": "nRanpoHu6A-C",
      "execution_count": null,
      "outputs": []
    },
    {
      "cell_type": "code",
      "source": [
        "# Замена 'yes' на 1 и 'no' на 0\n",
        "for var in binary_vars:\n",
        "    X1_enc[var] = X1_enc[var].map({'yes': 1, 'no': 0})"
      ],
      "metadata": {
        "id": "w8aPoGcJ6nPa"
      },
      "id": "w8aPoGcJ6nPa",
      "execution_count": null,
      "outputs": []
    },
    {
      "cell_type": "code",
      "source": [
        "for var in binary_vars:\n",
        "    X1_enc[var] = X1_enc[var].astype(int)"
      ],
      "metadata": {
        "id": "c4W8q3HC6sIq"
      },
      "id": "c4W8q3HC6sIq",
      "execution_count": null,
      "outputs": []
    },
    {
      "cell_type": "code",
      "source": [
        "# Создание и обучение модели для второй выборки\n",
        "ols2 = sm.OLS(y2, X2_enc)  # Создание модели\n",
        "ols2_res = ols2.fit()       # Обучение модели\n",
        "print(ols2_res.summary())   # Вывод информации о модели"
      ],
      "metadata": {
        "colab": {
          "base_uri": "https://localhost:8080/"
        },
        "id": "4G87nhzf7Sk9",
        "outputId": "a11782b8-4f47-41f8-f8b2-e88c186be6a2"
      },
      "id": "4G87nhzf7Sk9",
      "execution_count": null,
      "outputs": [
        {
          "output_type": "stream",
          "name": "stdout",
          "text": [
            "                            OLS Regression Results                            \n",
            "==============================================================================\n",
            "Dep. Variable:                  price   R-squared:                       0.682\n",
            "Model:                            OLS   Adj. R-squared:                  0.674\n",
            "Method:                 Least Squares   F-statistic:                     87.52\n",
            "Date:                Fri, 21 Feb 2025   Prob (F-statistic):          9.07e-123\n",
            "Time:                        19:12:46   Log-Likelihood:                -8331.5\n",
            "No. Observations:                 545   AIC:                         1.669e+04\n",
            "Df Residuals:                     531   BIC:                         1.675e+04\n",
            "Df Model:                          13                                         \n",
            "Covariance Type:            nonrobust                                         \n",
            "===================================================================================================\n",
            "                                      coef    std err          t      P>|t|      [0.025      0.975]\n",
            "---------------------------------------------------------------------------------------------------\n",
            "const                            3.506e+06   1.46e+05     24.039      0.000    3.22e+06    3.79e+06\n",
            "area                             5.293e+05   5.27e+04     10.052      0.000    4.26e+05    6.33e+05\n",
            "bedrooms                         8.464e+04   5.35e+04      1.581      0.114   -2.05e+04     1.9e+05\n",
            "bathrooms                        4.958e+05   5.19e+04      9.555      0.000    3.94e+05    5.98e+05\n",
            "stories                          3.907e+05   5.56e+04      7.026      0.000    2.81e+05       5e+05\n",
            "parking                          2.385e+05   5.04e+04      4.735      0.000     1.4e+05    3.37e+05\n",
            "furnishingstatus_furnished       4.112e+05   1.26e+05      3.258      0.001    1.63e+05    6.59e+05\n",
            "furnishingstatus_semi-furnished  3.649e+05   1.09e+05      3.342      0.001     1.5e+05    5.79e+05\n",
            "mainroad                         4.213e+05   1.42e+05      2.962      0.003    1.42e+05    7.01e+05\n",
            "guestroom                        3.005e+05   1.32e+05      2.282      0.023    4.18e+04    5.59e+05\n",
            "basement                         3.501e+05    1.1e+05      3.175      0.002    1.33e+05    5.67e+05\n",
            "hotwaterheating                  8.554e+05   2.23e+05      3.833      0.000    4.17e+05    1.29e+06\n",
            "airconditioning                   8.65e+05   1.08e+05      7.983      0.000    6.52e+05    1.08e+06\n",
            "prefarea                         6.515e+05   1.16e+05      5.632      0.000    4.24e+05    8.79e+05\n",
            "==============================================================================\n",
            "Omnibus:                       97.909   Durbin-Watson:                   1.209\n",
            "Prob(Omnibus):                  0.000   Jarque-Bera (JB):              258.281\n",
            "Skew:                           0.895   Prob(JB):                     8.22e-57\n",
            "Kurtosis:                       5.859   Cond. No.                         7.74\n",
            "==============================================================================\n",
            "\n",
            "Notes:\n",
            "[1] Standard Errors assume that the covariance matrix of the errors is correctly specified.\n"
          ]
        }
      ]
    },
    {
      "cell_type": "code",
      "source": [
        "# Предсказание для первой модели (ols1) на данных X2_enc\n",
        "y_pred_ols1 = ols1.predict(X2_enc)\n",
        "\n",
        "# Вывод метрик для первой модели\n",
        "print(\"Метрики для первой модели (ols1) на полном наборе данных:\")\n",
        "metrics_report(y2, y_pred_ols1)"
      ],
      "metadata": {
        "id": "iue70XnW9b2D"
      },
      "id": "iue70XnW9b2D",
      "execution_count": null,
      "outputs": []
    },
    {
      "cell_type": "code",
      "source": [
        "print(X1_enc.columns)\n",
        "print(X2_enc.columns)"
      ],
      "metadata": {
        "colab": {
          "base_uri": "https://localhost:8080/"
        },
        "id": "q2l5LDy5951X",
        "outputId": "436c1eb3-f618-42ad-8ed4-847741293000"
      },
      "id": "q2l5LDy5951X",
      "execution_count": null,
      "outputs": [
        {
          "output_type": "stream",
          "name": "stdout",
          "text": [
            "Index(['const', 'area', 'bedrooms', 'bathrooms', 'stories', 'parking',\n",
            "       'furnishingstatus_furnished', 'furnishingstatus_semi-furnished',\n",
            "       'mainroad', 'guestroom', 'basement', 'hotwaterheating',\n",
            "       'airconditioning', 'prefarea'],\n",
            "      dtype='object')\n",
            "Index(['const', 'area', 'bedrooms', 'bathrooms', 'stories', 'parking',\n",
            "       'furnishingstatus_furnished', 'furnishingstatus_semi-furnished',\n",
            "       'mainroad', 'guestroom', 'basement', 'hotwaterheating',\n",
            "       'airconditioning', 'prefarea'],\n",
            "      dtype='object')\n"
          ]
        }
      ]
    },
    {
      "cell_type": "code",
      "source": [
        "# Добавление недостающих столбцов в X2_enc\n",
        "for col in X1_enc.columns:\n",
        "    if col not in X2_enc.columns:\n",
        "        X2_enc[col] = 0\n",
        "\n",
        "# Убедимся, что столбцы в X2_enc соответствуют X1_enc\n",
        "X2_enc = X2_enc[X1_enc.columns]"
      ],
      "metadata": {
        "id": "YDEjpURC-xZV"
      },
      "id": "YDEjpURC-xZV",
      "execution_count": null,
      "outputs": []
    },
    {
      "cell_type": "code",
      "source": [
        "print(X1_enc.shape)  # Должно быть (138, 14)\n",
        "print(X2_enc.shape)  # Должно быть (545, 14)"
      ],
      "metadata": {
        "colab": {
          "base_uri": "https://localhost:8080/"
        },
        "id": "3pXge-E7_cbP",
        "outputId": "70966212-7e54-4c82-b252-f1a371dd6d38"
      },
      "id": "3pXge-E7_cbP",
      "execution_count": null,
      "outputs": [
        {
          "output_type": "stream",
          "name": "stdout",
          "text": [
            "(138, 14)\n",
            "(545, 14)\n"
          ]
        }
      ]
    },
    {
      "cell_type": "code",
      "source": [
        "print(X1_enc.dtypes)\n",
        "print(X2_enc.dtypes)"
      ],
      "metadata": {
        "colab": {
          "base_uri": "https://localhost:8080/"
        },
        "id": "w0OMluk8_jKu",
        "outputId": "9e7e288f-987f-4351-9296-db8589abacd0"
      },
      "id": "w0OMluk8_jKu",
      "execution_count": null,
      "outputs": [
        {
          "output_type": "stream",
          "name": "stdout",
          "text": [
            "const                              float64\n",
            "area                               float64\n",
            "bedrooms                           float64\n",
            "bathrooms                          float64\n",
            "stories                            float64\n",
            "parking                            float64\n",
            "furnishingstatus_furnished         float64\n",
            "furnishingstatus_semi-furnished    float64\n",
            "mainroad                             int64\n",
            "guestroom                            int64\n",
            "basement                             int64\n",
            "hotwaterheating                      int64\n",
            "airconditioning                      int64\n",
            "prefarea                             int64\n",
            "dtype: object\n",
            "const                              float64\n",
            "area                               float64\n",
            "bedrooms                           float64\n",
            "bathrooms                          float64\n",
            "stories                            float64\n",
            "parking                            float64\n",
            "furnishingstatus_furnished         float64\n",
            "furnishingstatus_semi-furnished    float64\n",
            "mainroad                             int64\n",
            "guestroom                            int64\n",
            "basement                             int64\n",
            "hotwaterheating                      int64\n",
            "airconditioning                      int64\n",
            "prefarea                             int64\n",
            "dtype: object\n"
          ]
        }
      ]
    },
    {
      "cell_type": "code",
      "source": [
        "if 'const' not in X1_enc.columns:\n",
        "    X1_enc = sm.add_constant(X1_enc)\n",
        "\n",
        "if 'const' not in X2_enc.columns:\n",
        "    X2_enc = sm.add_constant(X2_enc)"
      ],
      "metadata": {
        "id": "hYO0euNh_wjR"
      },
      "id": "hYO0euNh_wjR",
      "execution_count": null,
      "outputs": []
    },
    {
      "cell_type": "code",
      "source": [
        "# Предсказание для первой модели (ols1) на данных X2_enc\n",
        "y_pred_ols1 = ols1.predict(X2_enc)\n",
        "\n",
        "# Вывод метрик для первой модели\n",
        "print(\"Метрики для первой модели (ols1) на полном наборе данных:\")\n",
        "metrics_report(y2, y_pred_ols1)\n",
        "\n",
        "# Предсказание для второй модели (ols2) на данных X2_enc\n",
        "y_pred_ols2 = ols2.predict(X2_enc)\n",
        "\n",
        "# Вывод метрик для второй модели\n",
        "print(\"Метрики для второй модели (ols2) на полном наборе данных:\")\n",
        "metrics_report(y2, y_pred_ols2)"
      ],
      "metadata": {
        "id": "UWuzeCH-_2yg"
      },
      "id": "UWuzeCH-_2yg",
      "execution_count": null,
      "outputs": []
    },
    {
      "cell_type": "code",
      "source": [
        "import pandas as pd\n",
        "import statsmodels.api as sm\n",
        "from sklearn.metrics import r2_score, mean_squared_error, mean_absolute_percentage_error\n",
        "\n",
        "# Загрузка данных\n",
        "data = pd.read_csv('house_prices.csv')"
      ],
      "metadata": {
        "id": "SSX_V_LLA6Xl"
      },
      "id": "SSX_V_LLA6Xl",
      "execution_count": null,
      "outputs": []
    },
    {
      "cell_type": "code",
      "source": [
        "# Ограниченная выборка (дома с не более чем 2 спальнями)\n",
        "X1 = data[data['bedrooms'] <= 2]\n",
        "y1 = X1['price']\n",
        "\n",
        "# Полная выборка (все дома)\n",
        "X2 = data\n",
        "y2 = X2['price']"
      ],
      "metadata": {
        "id": "52vGAuk5A_xc"
      },
      "id": "52vGAuk5A_xc",
      "execution_count": null,
      "outputs": []
    },
    {
      "cell_type": "code",
      "source": [
        "from sklearn.preprocessing import OneHotEncoder, StandardScaler\n",
        "\n",
        "# Список бинарных признаков\n",
        "binary_vars = ['mainroad', 'guestroom', 'basement', 'hotwaterheating', 'airconditioning', 'prefarea']\n",
        "\n",
        "# Замена 'yes'/'no' на 1/0 для бинарных признаков\n",
        "for var in binary_vars:\n",
        "    X1[var] = X1[var].map({'yes': 1, 'no': 0})\n",
        "    X2[var] = X2[var].map({'yes': 1, 'no': 0})\n",
        "\n",
        "# Кодирование признака 'furnishingstatus' с помощью OneHotEncoder\n",
        "encoder = OneHotEncoder(drop='first', sparse_output=False)\n",
        "furnishing_encoded_1 = encoder.fit_transform(X1[['furnishingstatus']])\n",
        "furnishing_encoded_2 = encoder.transform(X2[['furnishingstatus']])\n",
        "\n",
        "# Преобразуем закодированные признаки в DataFrame\n",
        "furnishing_encoded_1 = pd.DataFrame(furnishing_encoded_1, columns=encoder.get_feature_names_out(['furnishingstatus']))\n",
        "furnishing_encoded_2 = pd.DataFrame(furnishing_encoded_2, columns=encoder.get_feature_names_out(['furnishingstatus']))\n",
        "\n",
        "# Масштабирование количественных признаков\n",
        "scaler = StandardScaler()\n",
        "numeric_vars = ['area', 'bedrooms', 'bathrooms', 'stories', 'parking']\n",
        "\n",
        "X1_numeric = pd.DataFrame(scaler.fit_transform(X1[numeric_vars]), columns=numeric_vars)\n",
        "X2_numeric = pd.DataFrame(scaler.transform(X2[numeric_vars]), columns=numeric_vars)\n",
        "\n",
        "# Объединение всех признаков\n",
        "X1_enc = pd.concat([X1_numeric, furnishing_encoded_1, X1[binary_vars].reset_index(drop=True)], axis=1)\n",
        "X2_enc = pd.concat([X2_numeric, furnishing_encoded_2, X2[binary_vars].reset_index(drop=True)], axis=1)\n",
        "\n",
        "# Добавление константы\n",
        "X1_enc = sm.add_constant(X1_enc)\n",
        "X2_enc = sm.add_constant(X2_enc)"
      ],
      "metadata": {
        "id": "fpUcCm6YBHj-"
      },
      "id": "fpUcCm6YBHj-",
      "execution_count": null,
      "outputs": []
    },
    {
      "cell_type": "code",
      "source": [
        "# Модель для ограниченной выборки\n",
        "ols1 = sm.OLS(y1, X1_enc).fit()\n",
        "\n",
        "# Модель для полной выборки\n",
        "ols2 = sm.OLS(y2, X2_enc).fit()"
      ],
      "metadata": {
        "id": "ZKpKPCo7BM7O"
      },
      "id": "ZKpKPCo7BM7O",
      "execution_count": null,
      "outputs": []
    },
    {
      "cell_type": "markdown",
      "id": "80c8f0b2-df56-4f31-8c06-6ef29a3429a7",
      "metadata": {
        "id": "80c8f0b2-df56-4f31-8c06-6ef29a3429a7"
      },
      "source": [
        "Еще одно предположение, выполнение которого сильно влияет на результат работы линейной регрессии, - это предположение о строгой экзогенности. Суть заключается в следующем. Предположим, было составлено уравнение регрессии, в котором целевой признак `'y'` определяется признаком `'x'` и некоторой константой. Предположим также, что существует некоторый фактор `'t'`, который влияет и на `'x'`, и на `'y'`, однако в уравнении не присутствует. Это может быть какой-то невидимый нам, неявный фактор. Получается, что наше уравнение является неполным, не описывает картину в целом."
      ]
    },
    {
      "cell_type": "code",
      "execution_count": null,
      "id": "fcbffbbc-db30-49b4-a11b-0c7e4ce3e2f2",
      "metadata": {
        "id": "fcbffbbc-db30-49b4-a11b-0c7e4ce3e2f2"
      },
      "outputs": [],
      "source": [
        "# Создание нормально распределенного шума\n",
        "rng = np.random.RandomState(RANDOM_STATE)\n",
        "mu, sigma = 0, 0.1\n",
        "eps = rng.normal(mu, sigma, size=1000)"
      ]
    },
    {
      "cell_type": "code",
      "execution_count": null,
      "id": "b422a00d-6139-4f7a-b32f-00ce0a09b0b0",
      "metadata": {
        "id": "b422a00d-6139-4f7a-b32f-00ce0a09b0b0"
      },
      "outputs": [],
      "source": [
        "c_train = 0\n",
        "c_test = 0.1"
      ]
    },
    {
      "cell_type": "code",
      "execution_count": null,
      "id": "e6e8a50b-43bf-4db7-93f8-15ad269ff625",
      "metadata": {
        "id": "e6e8a50b-43bf-4db7-93f8-15ad269ff625",
        "colab": {
          "base_uri": "https://localhost:8080/",
          "height": 206
        },
        "outputId": "fbe7db0d-455b-4911-f203-dae67e03408d"
      },
      "outputs": [
        {
          "output_type": "execute_result",
          "data": {
            "text/plain": [
              "          t         x         y\n",
              "0  0.000000  0.049671  0.000000\n",
              "1  0.001001 -0.012825  0.001001\n",
              "2  0.002002  0.066771  0.002000\n",
              "3  0.003003  0.155306  0.002999\n",
              "4  0.004004 -0.019411  0.003996"
            ],
            "text/html": [
              "\n",
              "  <div id=\"df-39188ebf-fdcc-40f3-9d33-90efdeaf13ae\" class=\"colab-df-container\">\n",
              "    <div>\n",
              "<style scoped>\n",
              "    .dataframe tbody tr th:only-of-type {\n",
              "        vertical-align: middle;\n",
              "    }\n",
              "\n",
              "    .dataframe tbody tr th {\n",
              "        vertical-align: top;\n",
              "    }\n",
              "\n",
              "    .dataframe thead th {\n",
              "        text-align: right;\n",
              "    }\n",
              "</style>\n",
              "<table border=\"1\" class=\"dataframe\">\n",
              "  <thead>\n",
              "    <tr style=\"text-align: right;\">\n",
              "      <th></th>\n",
              "      <th>t</th>\n",
              "      <th>x</th>\n",
              "      <th>y</th>\n",
              "    </tr>\n",
              "  </thead>\n",
              "  <tbody>\n",
              "    <tr>\n",
              "      <th>0</th>\n",
              "      <td>0.000000</td>\n",
              "      <td>0.049671</td>\n",
              "      <td>0.000000</td>\n",
              "    </tr>\n",
              "    <tr>\n",
              "      <th>1</th>\n",
              "      <td>0.001001</td>\n",
              "      <td>-0.012825</td>\n",
              "      <td>0.001001</td>\n",
              "    </tr>\n",
              "    <tr>\n",
              "      <th>2</th>\n",
              "      <td>0.002002</td>\n",
              "      <td>0.066771</td>\n",
              "      <td>0.002000</td>\n",
              "    </tr>\n",
              "    <tr>\n",
              "      <th>3</th>\n",
              "      <td>0.003003</td>\n",
              "      <td>0.155306</td>\n",
              "      <td>0.002999</td>\n",
              "    </tr>\n",
              "    <tr>\n",
              "      <th>4</th>\n",
              "      <td>0.004004</td>\n",
              "      <td>-0.019411</td>\n",
              "      <td>0.003996</td>\n",
              "    </tr>\n",
              "  </tbody>\n",
              "</table>\n",
              "</div>\n",
              "    <div class=\"colab-df-buttons\">\n",
              "\n",
              "  <div class=\"colab-df-container\">\n",
              "    <button class=\"colab-df-convert\" onclick=\"convertToInteractive('df-39188ebf-fdcc-40f3-9d33-90efdeaf13ae')\"\n",
              "            title=\"Convert this dataframe to an interactive table.\"\n",
              "            style=\"display:none;\">\n",
              "\n",
              "  <svg xmlns=\"http://www.w3.org/2000/svg\" height=\"24px\" viewBox=\"0 -960 960 960\">\n",
              "    <path d=\"M120-120v-720h720v720H120Zm60-500h600v-160H180v160Zm220 220h160v-160H400v160Zm0 220h160v-160H400v160ZM180-400h160v-160H180v160Zm440 0h160v-160H620v160ZM180-180h160v-160H180v160Zm440 0h160v-160H620v160Z\"/>\n",
              "  </svg>\n",
              "    </button>\n",
              "\n",
              "  <style>\n",
              "    .colab-df-container {\n",
              "      display:flex;\n",
              "      gap: 12px;\n",
              "    }\n",
              "\n",
              "    .colab-df-convert {\n",
              "      background-color: #E8F0FE;\n",
              "      border: none;\n",
              "      border-radius: 50%;\n",
              "      cursor: pointer;\n",
              "      display: none;\n",
              "      fill: #1967D2;\n",
              "      height: 32px;\n",
              "      padding: 0 0 0 0;\n",
              "      width: 32px;\n",
              "    }\n",
              "\n",
              "    .colab-df-convert:hover {\n",
              "      background-color: #E2EBFA;\n",
              "      box-shadow: 0px 1px 2px rgba(60, 64, 67, 0.3), 0px 1px 3px 1px rgba(60, 64, 67, 0.15);\n",
              "      fill: #174EA6;\n",
              "    }\n",
              "\n",
              "    .colab-df-buttons div {\n",
              "      margin-bottom: 4px;\n",
              "    }\n",
              "\n",
              "    [theme=dark] .colab-df-convert {\n",
              "      background-color: #3B4455;\n",
              "      fill: #D2E3FC;\n",
              "    }\n",
              "\n",
              "    [theme=dark] .colab-df-convert:hover {\n",
              "      background-color: #434B5C;\n",
              "      box-shadow: 0px 1px 3px 1px rgba(0, 0, 0, 0.15);\n",
              "      filter: drop-shadow(0px 1px 2px rgba(0, 0, 0, 0.3));\n",
              "      fill: #FFFFFF;\n",
              "    }\n",
              "  </style>\n",
              "\n",
              "    <script>\n",
              "      const buttonEl =\n",
              "        document.querySelector('#df-39188ebf-fdcc-40f3-9d33-90efdeaf13ae button.colab-df-convert');\n",
              "      buttonEl.style.display =\n",
              "        google.colab.kernel.accessAllowed ? 'block' : 'none';\n",
              "\n",
              "      async function convertToInteractive(key) {\n",
              "        const element = document.querySelector('#df-39188ebf-fdcc-40f3-9d33-90efdeaf13ae');\n",
              "        const dataTable =\n",
              "          await google.colab.kernel.invokeFunction('convertToInteractive',\n",
              "                                                    [key], {});\n",
              "        if (!dataTable) return;\n",
              "\n",
              "        const docLinkHtml = 'Like what you see? Visit the ' +\n",
              "          '<a target=\"_blank\" href=https://colab.research.google.com/notebooks/data_table.ipynb>data table notebook</a>'\n",
              "          + ' to learn more about interactive tables.';\n",
              "        element.innerHTML = '';\n",
              "        dataTable['output_type'] = 'display_data';\n",
              "        await google.colab.output.renderOutput(dataTable, element);\n",
              "        const docLink = document.createElement('div');\n",
              "        docLink.innerHTML = docLinkHtml;\n",
              "        element.appendChild(docLink);\n",
              "      }\n",
              "    </script>\n",
              "  </div>\n",
              "\n",
              "\n",
              "<div id=\"df-78ef882a-54be-4e3e-aa8e-e6eb6bd9b46f\">\n",
              "  <button class=\"colab-df-quickchart\" onclick=\"quickchart('df-78ef882a-54be-4e3e-aa8e-e6eb6bd9b46f')\"\n",
              "            title=\"Suggest charts\"\n",
              "            style=\"display:none;\">\n",
              "\n",
              "<svg xmlns=\"http://www.w3.org/2000/svg\" height=\"24px\"viewBox=\"0 0 24 24\"\n",
              "     width=\"24px\">\n",
              "    <g>\n",
              "        <path d=\"M19 3H5c-1.1 0-2 .9-2 2v14c0 1.1.9 2 2 2h14c1.1 0 2-.9 2-2V5c0-1.1-.9-2-2-2zM9 17H7v-7h2v7zm4 0h-2V7h2v10zm4 0h-2v-4h2v4z\"/>\n",
              "    </g>\n",
              "</svg>\n",
              "  </button>\n",
              "\n",
              "<style>\n",
              "  .colab-df-quickchart {\n",
              "      --bg-color: #E8F0FE;\n",
              "      --fill-color: #1967D2;\n",
              "      --hover-bg-color: #E2EBFA;\n",
              "      --hover-fill-color: #174EA6;\n",
              "      --disabled-fill-color: #AAA;\n",
              "      --disabled-bg-color: #DDD;\n",
              "  }\n",
              "\n",
              "  [theme=dark] .colab-df-quickchart {\n",
              "      --bg-color: #3B4455;\n",
              "      --fill-color: #D2E3FC;\n",
              "      --hover-bg-color: #434B5C;\n",
              "      --hover-fill-color: #FFFFFF;\n",
              "      --disabled-bg-color: #3B4455;\n",
              "      --disabled-fill-color: #666;\n",
              "  }\n",
              "\n",
              "  .colab-df-quickchart {\n",
              "    background-color: var(--bg-color);\n",
              "    border: none;\n",
              "    border-radius: 50%;\n",
              "    cursor: pointer;\n",
              "    display: none;\n",
              "    fill: var(--fill-color);\n",
              "    height: 32px;\n",
              "    padding: 0;\n",
              "    width: 32px;\n",
              "  }\n",
              "\n",
              "  .colab-df-quickchart:hover {\n",
              "    background-color: var(--hover-bg-color);\n",
              "    box-shadow: 0 1px 2px rgba(60, 64, 67, 0.3), 0 1px 3px 1px rgba(60, 64, 67, 0.15);\n",
              "    fill: var(--button-hover-fill-color);\n",
              "  }\n",
              "\n",
              "  .colab-df-quickchart-complete:disabled,\n",
              "  .colab-df-quickchart-complete:disabled:hover {\n",
              "    background-color: var(--disabled-bg-color);\n",
              "    fill: var(--disabled-fill-color);\n",
              "    box-shadow: none;\n",
              "  }\n",
              "\n",
              "  .colab-df-spinner {\n",
              "    border: 2px solid var(--fill-color);\n",
              "    border-color: transparent;\n",
              "    border-bottom-color: var(--fill-color);\n",
              "    animation:\n",
              "      spin 1s steps(1) infinite;\n",
              "  }\n",
              "\n",
              "  @keyframes spin {\n",
              "    0% {\n",
              "      border-color: transparent;\n",
              "      border-bottom-color: var(--fill-color);\n",
              "      border-left-color: var(--fill-color);\n",
              "    }\n",
              "    20% {\n",
              "      border-color: transparent;\n",
              "      border-left-color: var(--fill-color);\n",
              "      border-top-color: var(--fill-color);\n",
              "    }\n",
              "    30% {\n",
              "      border-color: transparent;\n",
              "      border-left-color: var(--fill-color);\n",
              "      border-top-color: var(--fill-color);\n",
              "      border-right-color: var(--fill-color);\n",
              "    }\n",
              "    40% {\n",
              "      border-color: transparent;\n",
              "      border-right-color: var(--fill-color);\n",
              "      border-top-color: var(--fill-color);\n",
              "    }\n",
              "    60% {\n",
              "      border-color: transparent;\n",
              "      border-right-color: var(--fill-color);\n",
              "    }\n",
              "    80% {\n",
              "      border-color: transparent;\n",
              "      border-right-color: var(--fill-color);\n",
              "      border-bottom-color: var(--fill-color);\n",
              "    }\n",
              "    90% {\n",
              "      border-color: transparent;\n",
              "      border-bottom-color: var(--fill-color);\n",
              "    }\n",
              "  }\n",
              "</style>\n",
              "\n",
              "  <script>\n",
              "    async function quickchart(key) {\n",
              "      const quickchartButtonEl =\n",
              "        document.querySelector('#' + key + ' button');\n",
              "      quickchartButtonEl.disabled = true;  // To prevent multiple clicks.\n",
              "      quickchartButtonEl.classList.add('colab-df-spinner');\n",
              "      try {\n",
              "        const charts = await google.colab.kernel.invokeFunction(\n",
              "            'suggestCharts', [key], {});\n",
              "      } catch (error) {\n",
              "        console.error('Error during call to suggestCharts:', error);\n",
              "      }\n",
              "      quickchartButtonEl.classList.remove('colab-df-spinner');\n",
              "      quickchartButtonEl.classList.add('colab-df-quickchart-complete');\n",
              "    }\n",
              "    (() => {\n",
              "      let quickchartButtonEl =\n",
              "        document.querySelector('#df-78ef882a-54be-4e3e-aa8e-e6eb6bd9b46f button');\n",
              "      quickchartButtonEl.style.display =\n",
              "        google.colab.kernel.accessAllowed ? 'block' : 'none';\n",
              "    })();\n",
              "  </script>\n",
              "</div>\n",
              "    </div>\n",
              "  </div>\n"
            ],
            "application/vnd.google.colaboratory.intrinsic+json": {
              "type": "dataframe",
              "variable_name": "df",
              "summary": "{\n  \"name\": \"df\",\n  \"rows\": 1000,\n  \"fields\": [\n    {\n      \"column\": \"t\",\n      \"properties\": {\n        \"dtype\": \"number\",\n        \"std\": 0.28910854464038954,\n        \"min\": 0.0,\n        \"max\": 1.0,\n        \"num_unique_values\": 1000,\n        \"samples\": [\n          0.5215215215215215,\n          0.7377377377377378,\n          0.7407407407407407\n        ],\n        \"semantic_type\": \"\",\n        \"description\": \"\"\n      }\n    },\n    {\n      \"column\": \"x\",\n      \"properties\": {\n        \"dtype\": \"number\",\n        \"std\": 0.3085149504621487,\n        \"min\": -0.1879004363349004,\n        \"max\": 1.1767656496819492,\n        \"num_unique_values\": 1000,\n        \"samples\": [\n          0.575857540759515,\n          0.8360068361322892,\n          0.5566533176075762\n        ],\n        \"semantic_type\": \"\",\n        \"description\": \"\"\n      }\n    },\n    {\n      \"column\": \"y\",\n      \"properties\": {\n        \"dtype\": \"number\",\n        \"std\": 0.19802998136774796,\n        \"min\": 0.0,\n        \"max\": 0.6931471805599453,\n        \"num_unique_values\": 1000,\n        \"samples\": [\n          0.4197108351917685,\n          0.5525841165717419,\n          0.5543107357057295\n        ],\n        \"semantic_type\": \"\",\n        \"description\": \"\"\n      }\n    }\n  ]\n}"
            }
          },
          "metadata": {},
          "execution_count": 50
        }
      ],
      "source": [
        "# Создание набора данных\n",
        "t = np.linspace(0, 1, 1000)\n",
        "\n",
        "y = np.log(1 + t)\n",
        "x = t + eps\n",
        "\n",
        "df = pd.DataFrame({'t' : t, 'x' : x, 'y' : y})\n",
        "df.head()"
      ]
    },
    {
      "cell_type": "code",
      "execution_count": null,
      "id": "3a819972-4e9a-4c98-bb9f-1c400eddd0e1",
      "metadata": {
        "id": "3a819972-4e9a-4c98-bb9f-1c400eddd0e1"
      },
      "outputs": [],
      "source": [
        "# Разделение на тренировочную и тестовую выборки\n",
        "X_train, X_test, y_train, y_test = train_test_split(df[['x', 't']], df['y'], test_size=0.4, shuffle=True, random_state=RANDOM_STATE)\n",
        "\n",
        "X_train['x'] += c_train\n",
        "X_test['x'] += c_test"
      ]
    },
    {
      "cell_type": "code",
      "source": [
        "# Добавление константы к данным\n",
        "X_train = sm.add_constant(X_train)\n",
        "X_test = sm.add_constant(X_test)"
      ],
      "metadata": {
        "id": "xZpiuzVHC0Wa"
      },
      "id": "xZpiuzVHC0Wa",
      "execution_count": null,
      "outputs": []
    },
    {
      "cell_type": "code",
      "source": [
        "# Модель 1: Регрессия y на x\n",
        "X_train_x = X_train[['const', 'x']]  # Используем только 'x'\n",
        "X_test_x = X_test[['const', 'x']]\n",
        "\n",
        "model_x = sm.OLS(y_train, X_train_x).fit()\n",
        "y_pred_x = model_x.predict(X_test_x)\n",
        "\n",
        "# Модель 2: Регрессия y на t\n",
        "X_train_t = X_train[['const', 't']]  # Используем только 't'\n",
        "X_test_t = X_test[['const', 't']]\n",
        "\n",
        "model_t = sm.OLS(y_train, X_train_t).fit()\n",
        "y_pred_t = model_t.predict(X_test_t)"
      ],
      "metadata": {
        "id": "a9064UKsCnEJ"
      },
      "id": "a9064UKsCnEJ",
      "execution_count": null,
      "outputs": []
    },
    {
      "cell_type": "code",
      "source": [
        "from sklearn.metrics import r2_score\n",
        "\n",
        "# R² для модели 1 (y на x)\n",
        "r2_x = r2_score(y_test, y_pred_x)\n",
        "\n",
        "# R² для модели 2 (y на t)\n",
        "r2_t = r2_score(y_test, y_pred_t)\n",
        "\n",
        "# Округление до 3 знаков\n",
        "r2_x = round(r2_x, 3)\n",
        "r2_t = round(r2_t, 3)\n",
        "\n",
        "print(f\"R² для модели y на x: {r2_x}\")\n",
        "print(f\"R² для модели y на t: {r2_t}\")"
      ],
      "metadata": {
        "colab": {
          "base_uri": "https://localhost:8080/"
        },
        "id": "LJYH4bf_C8Ug",
        "outputId": "4127f054-986e-474a-abf9-749935ab515d"
      },
      "id": "LJYH4bf_C8Ug",
      "execution_count": null,
      "outputs": [
        {
          "output_type": "stream",
          "name": "stdout",
          "text": [
            "R² для модели y на x: 0.786\n",
            "R² для модели y на t: 0.992\n"
          ]
        }
      ]
    },
    {
      "cell_type": "markdown",
      "id": "5b712e61-e0b2-4a4b-a030-057c67d79e93",
      "metadata": {
        "id": "5b712e61-e0b2-4a4b-a030-057c67d79e93"
      },
      "source": [
        "Отсюда можно сделать вывод о том, что для корректной работы модели важно правильно выбрать признаки."
      ]
    },
    {
      "cell_type": "markdown",
      "id": "d9190bd1-4925-4e6c-ac87-9503c594ea23",
      "metadata": {
        "id": "d9190bd1-4925-4e6c-ac87-9503c594ea23"
      },
      "source": [
        "Вернемся к данным о продаже домов. Построим матрицу корреляций числовых признаков для тренировочной выборки. Закодируем категориальные и масштабируем количественные. После этого построим регрессию из statsmodels и, проанализировав ее выдачу, определим признаки, не являющиеся полезными для построения модели."
      ]
    },
    {
      "cell_type": "code",
      "source": [
        "data = pd.read_csv('house_prices.csv')\n",
        "data.head()"
      ],
      "metadata": {
        "colab": {
          "base_uri": "https://localhost:8080/",
          "height": 226
        },
        "id": "FOAkLv_qH1mM",
        "outputId": "1054fb12-bbb9-4d23-b196-8e9e44385eb4"
      },
      "id": "FOAkLv_qH1mM",
      "execution_count": null,
      "outputs": [
        {
          "output_type": "execute_result",
          "data": {
            "text/plain": [
              "      price  area  bedrooms  bathrooms  stories mainroad guestroom basement  \\\n",
              "0  13300000  7420         4          2        3      yes        no       no   \n",
              "1  12250000  8960         4          4        4      yes        no       no   \n",
              "2  12250000  9960         3          2        2      yes        no      yes   \n",
              "3  12215000  7500         4          2        2      yes        no      yes   \n",
              "4  11410000  7420         4          1        2      yes       yes      yes   \n",
              "\n",
              "  hotwaterheating airconditioning  parking prefarea furnishingstatus  \n",
              "0              no             yes        2      yes        furnished  \n",
              "1              no             yes        3       no        furnished  \n",
              "2              no              no        2      yes   semi-furnished  \n",
              "3              no             yes        3      yes        furnished  \n",
              "4              no             yes        2       no        furnished  "
            ],
            "text/html": [
              "\n",
              "  <div id=\"df-034c8b0b-80e9-4d43-bebd-c473f8fae3de\" class=\"colab-df-container\">\n",
              "    <div>\n",
              "<style scoped>\n",
              "    .dataframe tbody tr th:only-of-type {\n",
              "        vertical-align: middle;\n",
              "    }\n",
              "\n",
              "    .dataframe tbody tr th {\n",
              "        vertical-align: top;\n",
              "    }\n",
              "\n",
              "    .dataframe thead th {\n",
              "        text-align: right;\n",
              "    }\n",
              "</style>\n",
              "<table border=\"1\" class=\"dataframe\">\n",
              "  <thead>\n",
              "    <tr style=\"text-align: right;\">\n",
              "      <th></th>\n",
              "      <th>price</th>\n",
              "      <th>area</th>\n",
              "      <th>bedrooms</th>\n",
              "      <th>bathrooms</th>\n",
              "      <th>stories</th>\n",
              "      <th>mainroad</th>\n",
              "      <th>guestroom</th>\n",
              "      <th>basement</th>\n",
              "      <th>hotwaterheating</th>\n",
              "      <th>airconditioning</th>\n",
              "      <th>parking</th>\n",
              "      <th>prefarea</th>\n",
              "      <th>furnishingstatus</th>\n",
              "    </tr>\n",
              "  </thead>\n",
              "  <tbody>\n",
              "    <tr>\n",
              "      <th>0</th>\n",
              "      <td>13300000</td>\n",
              "      <td>7420</td>\n",
              "      <td>4</td>\n",
              "      <td>2</td>\n",
              "      <td>3</td>\n",
              "      <td>yes</td>\n",
              "      <td>no</td>\n",
              "      <td>no</td>\n",
              "      <td>no</td>\n",
              "      <td>yes</td>\n",
              "      <td>2</td>\n",
              "      <td>yes</td>\n",
              "      <td>furnished</td>\n",
              "    </tr>\n",
              "    <tr>\n",
              "      <th>1</th>\n",
              "      <td>12250000</td>\n",
              "      <td>8960</td>\n",
              "      <td>4</td>\n",
              "      <td>4</td>\n",
              "      <td>4</td>\n",
              "      <td>yes</td>\n",
              "      <td>no</td>\n",
              "      <td>no</td>\n",
              "      <td>no</td>\n",
              "      <td>yes</td>\n",
              "      <td>3</td>\n",
              "      <td>no</td>\n",
              "      <td>furnished</td>\n",
              "    </tr>\n",
              "    <tr>\n",
              "      <th>2</th>\n",
              "      <td>12250000</td>\n",
              "      <td>9960</td>\n",
              "      <td>3</td>\n",
              "      <td>2</td>\n",
              "      <td>2</td>\n",
              "      <td>yes</td>\n",
              "      <td>no</td>\n",
              "      <td>yes</td>\n",
              "      <td>no</td>\n",
              "      <td>no</td>\n",
              "      <td>2</td>\n",
              "      <td>yes</td>\n",
              "      <td>semi-furnished</td>\n",
              "    </tr>\n",
              "    <tr>\n",
              "      <th>3</th>\n",
              "      <td>12215000</td>\n",
              "      <td>7500</td>\n",
              "      <td>4</td>\n",
              "      <td>2</td>\n",
              "      <td>2</td>\n",
              "      <td>yes</td>\n",
              "      <td>no</td>\n",
              "      <td>yes</td>\n",
              "      <td>no</td>\n",
              "      <td>yes</td>\n",
              "      <td>3</td>\n",
              "      <td>yes</td>\n",
              "      <td>furnished</td>\n",
              "    </tr>\n",
              "    <tr>\n",
              "      <th>4</th>\n",
              "      <td>11410000</td>\n",
              "      <td>7420</td>\n",
              "      <td>4</td>\n",
              "      <td>1</td>\n",
              "      <td>2</td>\n",
              "      <td>yes</td>\n",
              "      <td>yes</td>\n",
              "      <td>yes</td>\n",
              "      <td>no</td>\n",
              "      <td>yes</td>\n",
              "      <td>2</td>\n",
              "      <td>no</td>\n",
              "      <td>furnished</td>\n",
              "    </tr>\n",
              "  </tbody>\n",
              "</table>\n",
              "</div>\n",
              "    <div class=\"colab-df-buttons\">\n",
              "\n",
              "  <div class=\"colab-df-container\">\n",
              "    <button class=\"colab-df-convert\" onclick=\"convertToInteractive('df-034c8b0b-80e9-4d43-bebd-c473f8fae3de')\"\n",
              "            title=\"Convert this dataframe to an interactive table.\"\n",
              "            style=\"display:none;\">\n",
              "\n",
              "  <svg xmlns=\"http://www.w3.org/2000/svg\" height=\"24px\" viewBox=\"0 -960 960 960\">\n",
              "    <path d=\"M120-120v-720h720v720H120Zm60-500h600v-160H180v160Zm220 220h160v-160H400v160Zm0 220h160v-160H400v160ZM180-400h160v-160H180v160Zm440 0h160v-160H620v160ZM180-180h160v-160H180v160Zm440 0h160v-160H620v160Z\"/>\n",
              "  </svg>\n",
              "    </button>\n",
              "\n",
              "  <style>\n",
              "    .colab-df-container {\n",
              "      display:flex;\n",
              "      gap: 12px;\n",
              "    }\n",
              "\n",
              "    .colab-df-convert {\n",
              "      background-color: #E8F0FE;\n",
              "      border: none;\n",
              "      border-radius: 50%;\n",
              "      cursor: pointer;\n",
              "      display: none;\n",
              "      fill: #1967D2;\n",
              "      height: 32px;\n",
              "      padding: 0 0 0 0;\n",
              "      width: 32px;\n",
              "    }\n",
              "\n",
              "    .colab-df-convert:hover {\n",
              "      background-color: #E2EBFA;\n",
              "      box-shadow: 0px 1px 2px rgba(60, 64, 67, 0.3), 0px 1px 3px 1px rgba(60, 64, 67, 0.15);\n",
              "      fill: #174EA6;\n",
              "    }\n",
              "\n",
              "    .colab-df-buttons div {\n",
              "      margin-bottom: 4px;\n",
              "    }\n",
              "\n",
              "    [theme=dark] .colab-df-convert {\n",
              "      background-color: #3B4455;\n",
              "      fill: #D2E3FC;\n",
              "    }\n",
              "\n",
              "    [theme=dark] .colab-df-convert:hover {\n",
              "      background-color: #434B5C;\n",
              "      box-shadow: 0px 1px 3px 1px rgba(0, 0, 0, 0.15);\n",
              "      filter: drop-shadow(0px 1px 2px rgba(0, 0, 0, 0.3));\n",
              "      fill: #FFFFFF;\n",
              "    }\n",
              "  </style>\n",
              "\n",
              "    <script>\n",
              "      const buttonEl =\n",
              "        document.querySelector('#df-034c8b0b-80e9-4d43-bebd-c473f8fae3de button.colab-df-convert');\n",
              "      buttonEl.style.display =\n",
              "        google.colab.kernel.accessAllowed ? 'block' : 'none';\n",
              "\n",
              "      async function convertToInteractive(key) {\n",
              "        const element = document.querySelector('#df-034c8b0b-80e9-4d43-bebd-c473f8fae3de');\n",
              "        const dataTable =\n",
              "          await google.colab.kernel.invokeFunction('convertToInteractive',\n",
              "                                                    [key], {});\n",
              "        if (!dataTable) return;\n",
              "\n",
              "        const docLinkHtml = 'Like what you see? Visit the ' +\n",
              "          '<a target=\"_blank\" href=https://colab.research.google.com/notebooks/data_table.ipynb>data table notebook</a>'\n",
              "          + ' to learn more about interactive tables.';\n",
              "        element.innerHTML = '';\n",
              "        dataTable['output_type'] = 'display_data';\n",
              "        await google.colab.output.renderOutput(dataTable, element);\n",
              "        const docLink = document.createElement('div');\n",
              "        docLink.innerHTML = docLinkHtml;\n",
              "        element.appendChild(docLink);\n",
              "      }\n",
              "    </script>\n",
              "  </div>\n",
              "\n",
              "\n",
              "<div id=\"df-25c4b1a9-5625-42a2-af47-e5fbae65a7dd\">\n",
              "  <button class=\"colab-df-quickchart\" onclick=\"quickchart('df-25c4b1a9-5625-42a2-af47-e5fbae65a7dd')\"\n",
              "            title=\"Suggest charts\"\n",
              "            style=\"display:none;\">\n",
              "\n",
              "<svg xmlns=\"http://www.w3.org/2000/svg\" height=\"24px\"viewBox=\"0 0 24 24\"\n",
              "     width=\"24px\">\n",
              "    <g>\n",
              "        <path d=\"M19 3H5c-1.1 0-2 .9-2 2v14c0 1.1.9 2 2 2h14c1.1 0 2-.9 2-2V5c0-1.1-.9-2-2-2zM9 17H7v-7h2v7zm4 0h-2V7h2v10zm4 0h-2v-4h2v4z\"/>\n",
              "    </g>\n",
              "</svg>\n",
              "  </button>\n",
              "\n",
              "<style>\n",
              "  .colab-df-quickchart {\n",
              "      --bg-color: #E8F0FE;\n",
              "      --fill-color: #1967D2;\n",
              "      --hover-bg-color: #E2EBFA;\n",
              "      --hover-fill-color: #174EA6;\n",
              "      --disabled-fill-color: #AAA;\n",
              "      --disabled-bg-color: #DDD;\n",
              "  }\n",
              "\n",
              "  [theme=dark] .colab-df-quickchart {\n",
              "      --bg-color: #3B4455;\n",
              "      --fill-color: #D2E3FC;\n",
              "      --hover-bg-color: #434B5C;\n",
              "      --hover-fill-color: #FFFFFF;\n",
              "      --disabled-bg-color: #3B4455;\n",
              "      --disabled-fill-color: #666;\n",
              "  }\n",
              "\n",
              "  .colab-df-quickchart {\n",
              "    background-color: var(--bg-color);\n",
              "    border: none;\n",
              "    border-radius: 50%;\n",
              "    cursor: pointer;\n",
              "    display: none;\n",
              "    fill: var(--fill-color);\n",
              "    height: 32px;\n",
              "    padding: 0;\n",
              "    width: 32px;\n",
              "  }\n",
              "\n",
              "  .colab-df-quickchart:hover {\n",
              "    background-color: var(--hover-bg-color);\n",
              "    box-shadow: 0 1px 2px rgba(60, 64, 67, 0.3), 0 1px 3px 1px rgba(60, 64, 67, 0.15);\n",
              "    fill: var(--button-hover-fill-color);\n",
              "  }\n",
              "\n",
              "  .colab-df-quickchart-complete:disabled,\n",
              "  .colab-df-quickchart-complete:disabled:hover {\n",
              "    background-color: var(--disabled-bg-color);\n",
              "    fill: var(--disabled-fill-color);\n",
              "    box-shadow: none;\n",
              "  }\n",
              "\n",
              "  .colab-df-spinner {\n",
              "    border: 2px solid var(--fill-color);\n",
              "    border-color: transparent;\n",
              "    border-bottom-color: var(--fill-color);\n",
              "    animation:\n",
              "      spin 1s steps(1) infinite;\n",
              "  }\n",
              "\n",
              "  @keyframes spin {\n",
              "    0% {\n",
              "      border-color: transparent;\n",
              "      border-bottom-color: var(--fill-color);\n",
              "      border-left-color: var(--fill-color);\n",
              "    }\n",
              "    20% {\n",
              "      border-color: transparent;\n",
              "      border-left-color: var(--fill-color);\n",
              "      border-top-color: var(--fill-color);\n",
              "    }\n",
              "    30% {\n",
              "      border-color: transparent;\n",
              "      border-left-color: var(--fill-color);\n",
              "      border-top-color: var(--fill-color);\n",
              "      border-right-color: var(--fill-color);\n",
              "    }\n",
              "    40% {\n",
              "      border-color: transparent;\n",
              "      border-right-color: var(--fill-color);\n",
              "      border-top-color: var(--fill-color);\n",
              "    }\n",
              "    60% {\n",
              "      border-color: transparent;\n",
              "      border-right-color: var(--fill-color);\n",
              "    }\n",
              "    80% {\n",
              "      border-color: transparent;\n",
              "      border-right-color: var(--fill-color);\n",
              "      border-bottom-color: var(--fill-color);\n",
              "    }\n",
              "    90% {\n",
              "      border-color: transparent;\n",
              "      border-bottom-color: var(--fill-color);\n",
              "    }\n",
              "  }\n",
              "</style>\n",
              "\n",
              "  <script>\n",
              "    async function quickchart(key) {\n",
              "      const quickchartButtonEl =\n",
              "        document.querySelector('#' + key + ' button');\n",
              "      quickchartButtonEl.disabled = true;  // To prevent multiple clicks.\n",
              "      quickchartButtonEl.classList.add('colab-df-spinner');\n",
              "      try {\n",
              "        const charts = await google.colab.kernel.invokeFunction(\n",
              "            'suggestCharts', [key], {});\n",
              "      } catch (error) {\n",
              "        console.error('Error during call to suggestCharts:', error);\n",
              "      }\n",
              "      quickchartButtonEl.classList.remove('colab-df-spinner');\n",
              "      quickchartButtonEl.classList.add('colab-df-quickchart-complete');\n",
              "    }\n",
              "    (() => {\n",
              "      let quickchartButtonEl =\n",
              "        document.querySelector('#df-25c4b1a9-5625-42a2-af47-e5fbae65a7dd button');\n",
              "      quickchartButtonEl.style.display =\n",
              "        google.colab.kernel.accessAllowed ? 'block' : 'none';\n",
              "    })();\n",
              "  </script>\n",
              "</div>\n",
              "    </div>\n",
              "  </div>\n"
            ],
            "application/vnd.google.colaboratory.intrinsic+json": {
              "type": "dataframe",
              "variable_name": "data",
              "summary": "{\n  \"name\": \"data\",\n  \"rows\": 545,\n  \"fields\": [\n    {\n      \"column\": \"price\",\n      \"properties\": {\n        \"dtype\": \"number\",\n        \"std\": 1870439,\n        \"min\": 1750000,\n        \"max\": 13300000,\n        \"num_unique_values\": 219,\n        \"samples\": [\n          3773000,\n          5285000,\n          1820000\n        ],\n        \"semantic_type\": \"\",\n        \"description\": \"\"\n      }\n    },\n    {\n      \"column\": \"area\",\n      \"properties\": {\n        \"dtype\": \"number\",\n        \"std\": 2170,\n        \"min\": 1650,\n        \"max\": 16200,\n        \"num_unique_values\": 284,\n        \"samples\": [\n          6000,\n          2684,\n          5360\n        ],\n        \"semantic_type\": \"\",\n        \"description\": \"\"\n      }\n    },\n    {\n      \"column\": \"bedrooms\",\n      \"properties\": {\n        \"dtype\": \"number\",\n        \"std\": 0,\n        \"min\": 1,\n        \"max\": 6,\n        \"num_unique_values\": 6,\n        \"samples\": [\n          4,\n          3,\n          1\n        ],\n        \"semantic_type\": \"\",\n        \"description\": \"\"\n      }\n    },\n    {\n      \"column\": \"bathrooms\",\n      \"properties\": {\n        \"dtype\": \"number\",\n        \"std\": 0,\n        \"min\": 1,\n        \"max\": 4,\n        \"num_unique_values\": 4,\n        \"samples\": [\n          4,\n          3,\n          2\n        ],\n        \"semantic_type\": \"\",\n        \"description\": \"\"\n      }\n    },\n    {\n      \"column\": \"stories\",\n      \"properties\": {\n        \"dtype\": \"number\",\n        \"std\": 0,\n        \"min\": 1,\n        \"max\": 4,\n        \"num_unique_values\": 4,\n        \"samples\": [\n          4,\n          1,\n          3\n        ],\n        \"semantic_type\": \"\",\n        \"description\": \"\"\n      }\n    },\n    {\n      \"column\": \"mainroad\",\n      \"properties\": {\n        \"dtype\": \"category\",\n        \"num_unique_values\": 2,\n        \"samples\": [\n          \"no\",\n          \"yes\"\n        ],\n        \"semantic_type\": \"\",\n        \"description\": \"\"\n      }\n    },\n    {\n      \"column\": \"guestroom\",\n      \"properties\": {\n        \"dtype\": \"category\",\n        \"num_unique_values\": 2,\n        \"samples\": [\n          \"yes\",\n          \"no\"\n        ],\n        \"semantic_type\": \"\",\n        \"description\": \"\"\n      }\n    },\n    {\n      \"column\": \"basement\",\n      \"properties\": {\n        \"dtype\": \"category\",\n        \"num_unique_values\": 2,\n        \"samples\": [\n          \"yes\",\n          \"no\"\n        ],\n        \"semantic_type\": \"\",\n        \"description\": \"\"\n      }\n    },\n    {\n      \"column\": \"hotwaterheating\",\n      \"properties\": {\n        \"dtype\": \"category\",\n        \"num_unique_values\": 2,\n        \"samples\": [\n          \"yes\",\n          \"no\"\n        ],\n        \"semantic_type\": \"\",\n        \"description\": \"\"\n      }\n    },\n    {\n      \"column\": \"airconditioning\",\n      \"properties\": {\n        \"dtype\": \"category\",\n        \"num_unique_values\": 2,\n        \"samples\": [\n          \"no\",\n          \"yes\"\n        ],\n        \"semantic_type\": \"\",\n        \"description\": \"\"\n      }\n    },\n    {\n      \"column\": \"parking\",\n      \"properties\": {\n        \"dtype\": \"number\",\n        \"std\": 0,\n        \"min\": 0,\n        \"max\": 3,\n        \"num_unique_values\": 4,\n        \"samples\": [\n          3,\n          1\n        ],\n        \"semantic_type\": \"\",\n        \"description\": \"\"\n      }\n    },\n    {\n      \"column\": \"prefarea\",\n      \"properties\": {\n        \"dtype\": \"category\",\n        \"num_unique_values\": 2,\n        \"samples\": [\n          \"no\",\n          \"yes\"\n        ],\n        \"semantic_type\": \"\",\n        \"description\": \"\"\n      }\n    },\n    {\n      \"column\": \"furnishingstatus\",\n      \"properties\": {\n        \"dtype\": \"category\",\n        \"num_unique_values\": 3,\n        \"samples\": [\n          \"furnished\",\n          \"semi-furnished\"\n        ],\n        \"semantic_type\": \"\",\n        \"description\": \"\"\n      }\n    }\n  ]\n}"
            }
          },
          "metadata": {},
          "execution_count": 10
        }
      ]
    },
    {
      "cell_type": "code",
      "source": [
        "# Список категориальных переменных\n",
        "var_categorical = ['mainroad', 'guestroom', 'basement', 'hotwaterheating', 'airconditioning', 'prefarea', 'furnishingstatus']\n",
        "\n",
        "# Список количественных переменных\n",
        "var_numeric = ['area', 'bedrooms', 'bathrooms', 'stories', 'parking']"
      ],
      "metadata": {
        "id": "6_e2NeRKI-o6"
      },
      "id": "6_e2NeRKI-o6",
      "execution_count": null,
      "outputs": []
    },
    {
      "cell_type": "code",
      "source": [
        "# Разделение данных на признаки (X) и целевую переменную (y)\n",
        "X = data.drop(columns=['price'])\n",
        "y = data['price']\n",
        "\n",
        "# Разделение на тренировочную и тестовую выборки\n",
        "X_train, X_test, y_train, y_test = train_test_split(X, y, test_size=0.4, shuffle=True, random_state=RANDOM_STATE)"
      ],
      "metadata": {
        "id": "V2qO3epgJK2L"
      },
      "id": "V2qO3epgJK2L",
      "execution_count": null,
      "outputs": []
    },
    {
      "cell_type": "code",
      "source": [
        "# Построение матрицы корреляций для числовых признаков\n",
        "corr_matrix = X_train[var_numeric].corr()"
      ],
      "metadata": {
        "id": "g4EYYDLSJngN"
      },
      "id": "g4EYYDLSJngN",
      "execution_count": null,
      "outputs": []
    },
    {
      "cell_type": "code",
      "source": [
        "# Построение тепловой карты\n",
        "plt.figure(figsize=(6, 4))\n",
        "sns.heatmap(corr_matrix, fmt='.3g', cmap='coolwarm', center=0, annot=True)\n",
        "plt.title('Матрица корреляций признаков')\n",
        "plt.xlabel('Признаки')\n",
        "plt.ylabel('Признаки')\n",
        "plt.show()"
      ],
      "metadata": {
        "colab": {
          "base_uri": "https://localhost:8080/",
          "height": 410
        },
        "id": "pb6fvYbkJw2w",
        "outputId": "fd2089b3-7115-4dd4-fcdd-6ecc72de447d"
      },
      "id": "pb6fvYbkJw2w",
      "execution_count": null,
      "outputs": [
        {
          "output_type": "display_data",
          "data": {
            "text/plain": [
              "<Figure size 600x400 with 2 Axes>"
            ],
            "image/png": "[encoded data removed]"
          },
          "metadata": {}
        }
      ]
    },
    {
      "cell_type": "code",
      "source": [
        "from sklearn.preprocessing import OneHotEncoder, StandardScaler\n",
        "\n",
        "# Список бинарных признаков\n",
        "binary_vars = ['mainroad', 'guestroom', 'basement', 'hotwaterheating', 'airconditioning', 'prefarea']\n",
        "\n",
        "# Замена 'yes'/'no' на 1/0 для бинарных признаков\n",
        "for var in binary_vars:\n",
        "    X_train[var] = X_train[var].map({'yes': 1, 'no': 0})\n",
        "    X_test[var] = X_test[var].map({'yes': 1, 'no': 0})\n",
        "\n",
        "# Кодирование признака 'furnishingstatus' с помощью OneHotEncoder\n",
        "encoder = OneHotEncoder(drop='first', sparse_output=False)\n",
        "furnished_enc_train = encoder.fit_transform(X_train[['furnishingstatus']])\n",
        "furnished_enc_test = encoder.transform(X_test[['furnishingstatus']])\n",
        "\n",
        "# Преобразуем закодированные признаки в DataFrame\n",
        "furnished_enc_train = pd.DataFrame(furnished_enc_train, columns=encoder.get_feature_names_out(['furnishingstatus']))\n",
        "furnished_enc_test = pd.DataFrame(furnished_enc_test, columns=encoder.get_feature_names_out(['furnishingstatus']))"
      ],
      "metadata": {
        "id": "vK6RpnE7L7ac"
      },
      "id": "vK6RpnE7L7ac",
      "execution_count": null,
      "outputs": []
    },
    {
      "cell_type": "code",
      "source": [
        "# Масштабирование количественных признаков\n",
        "scaler = StandardScaler()\n",
        "X_train_numeric = pd.DataFrame(scaler.fit_transform(X_train[var_numeric]), columns=var_numeric)\n",
        "X_test_numeric = pd.DataFrame(scaler.transform(X_test[var_numeric]), columns=var_numeric)"
      ],
      "metadata": {
        "id": "ygzWP_9DMHGY"
      },
      "id": "ygzWP_9DMHGY",
      "execution_count": null,
      "outputs": []
    },
    {
      "cell_type": "code",
      "source": [
        "# Объединение всех признаков\n",
        "X_train_processed = pd.concat([X_train_numeric, furnished_enc_train, X_train[binary_vars].reset_index(drop=True)], axis=1)\n",
        "X_test_processed = pd.concat([X_test_numeric, furnished_enc_test, X_test[binary_vars].reset_index(drop=True)], axis=1)"
      ],
      "metadata": {
        "id": "ZHUYLValOb-_"
      },
      "id": "ZHUYLValOb-_",
      "execution_count": null,
      "outputs": []
    },
    {
      "cell_type": "code",
      "source": [
        "# Сброс индексов в целевой переменной\n",
        "y_train = y_train.reset_index(drop=True)\n",
        "y_test = y_test.reset_index(drop=True)"
      ],
      "metadata": {
        "id": "l9YDJqwdOhZI"
      },
      "id": "l9YDJqwdOhZI",
      "execution_count": null,
      "outputs": []
    },
    {
      "cell_type": "code",
      "source": [
        "import statsmodels.api as sm\n",
        "\n",
        "# Добавление константы к данным\n",
        "X_train_sm = sm.add_constant(X_train_processed)\n",
        "X_test_sm = sm.add_constant(X_test_processed)"
      ],
      "metadata": {
        "id": "6Vl1tB1mOq2q"
      },
      "id": "6Vl1tB1mOq2q",
      "execution_count": null,
      "outputs": []
    },
    {
      "cell_type": "code",
      "source": [
        "# Построение модели\n",
        "model = sm.OLS(y_train, X_train_sm).fit()\n",
        "\n",
        "# Вывод результатов модели\n",
        "print(model.summary())"
      ],
      "metadata": {
        "colab": {
          "base_uri": "https://localhost:8080/"
        },
        "id": "7JNKoUl0OxLV",
        "outputId": "0bbd761f-ff24-4541-e27d-e59a4ef41c68"
      },
      "id": "7JNKoUl0OxLV",
      "execution_count": null,
      "outputs": [
        {
          "output_type": "stream",
          "name": "stdout",
          "text": [
            "                            OLS Regression Results                            \n",
            "==============================================================================\n",
            "Dep. Variable:                  price   R-squared:                       0.659\n",
            "Model:                            OLS   Adj. R-squared:                  0.645\n",
            "Method:                 Least Squares   F-statistic:                     46.60\n",
            "Date:                Sat, 22 Feb 2025   Prob (F-statistic):           3.00e-65\n",
            "Time:                        05:57:08   Log-Likelihood:                -4965.2\n",
            "No. Observations:                 327   AIC:                             9958.\n",
            "Df Residuals:                     313   BIC:                         1.001e+04\n",
            "Df Model:                          13                                         \n",
            "Covariance Type:            nonrobust                                         \n",
            "===================================================================================================\n",
            "                                      coef    std err          t      P>|t|      [0.025      0.975]\n",
            "---------------------------------------------------------------------------------------------------\n",
            "const                            3.948e+06   1.94e+05     20.357      0.000    3.57e+06    4.33e+06\n",
            "area                             5.082e+05   6.22e+04      8.169      0.000    3.86e+05    6.31e+05\n",
            "bedrooms                         7.711e+04   6.33e+04      1.218      0.224   -4.75e+04    2.02e+05\n",
            "bathrooms                        4.034e+05   6.01e+04      6.717      0.000    2.85e+05    5.22e+05\n",
            "stories                          3.198e+05   6.72e+04      4.761      0.000    1.88e+05    4.52e+05\n",
            "parking                          2.106e+05   5.85e+04      3.598      0.000    9.54e+04    3.26e+05\n",
            "furnishingstatus_semi-furnished -1.542e+05   1.37e+05     -1.125      0.261   -4.24e+05    1.15e+05\n",
            "furnishingstatus_unfurnished    -4.815e+05   1.48e+05     -3.248      0.001   -7.73e+05    -1.9e+05\n",
            "mainroad                         3.834e+05   1.65e+05      2.329      0.020    5.96e+04    7.07e+05\n",
            "guestroom                        3.461e+05   1.63e+05      2.126      0.034    2.57e+04    6.66e+05\n",
            "basement                         4.195e+05   1.35e+05      3.106      0.002    1.54e+05    6.85e+05\n",
            "hotwaterheating                  7.376e+05   2.51e+05      2.935      0.004    2.43e+05    1.23e+06\n",
            "airconditioning                   6.54e+05   1.32e+05      4.954      0.000    3.94e+05    9.14e+05\n",
            "prefarea                          4.55e+05   1.39e+05      3.284      0.001    1.82e+05    7.28e+05\n",
            "==============================================================================\n",
            "Omnibus:                       64.150   Durbin-Watson:                   1.880\n",
            "Prob(Omnibus):                  0.000   Jarque-Bera (JB):              173.428\n",
            "Skew:                           0.907   Prob(JB):                     2.19e-38\n",
            "Kurtosis:                       6.072   Cond. No.                         7.79\n",
            "==============================================================================\n",
            "\n",
            "Notes:\n",
            "[1] Standard Errors assume that the covariance matrix of the errors is correctly specified.\n"
          ]
        }
      ]
    },
    {
      "cell_type": "code",
      "source": [
        "# Анализ p-значений\n",
        "p_values = model.pvalues\n",
        "\n",
        "# Признаки с p-value > 0.05 (не являются полезными)\n",
        "useless_features = p_values[p_values > 0.05]\n",
        "\n",
        "# Вывод бесполезных признаков и их p-значений\n",
        "for feature, p_value in useless_features.items():\n",
        "    print(f\"{feature}: {p_value:.3f}\")"
      ],
      "metadata": {
        "colab": {
          "base_uri": "https://localhost:8080/"
        },
        "id": "NP_xnxU3O7cT",
        "outputId": "64215863-6024-4958-ee1d-836c930a909f"
      },
      "id": "NP_xnxU3O7cT",
      "execution_count": null,
      "outputs": [
        {
          "output_type": "stream",
          "name": "stdout",
          "text": [
            "bedrooms: 0.224\n",
            "furnishingstatus_semi-furnished: 0.261\n"
          ]
        }
      ]
    },
    {
      "cell_type": "code",
      "source": [
        "# Матрица корреляций для числовых признаков\n",
        "corr_matrix = X_train[var_numeric].corr()\n",
        "\n",
        "# Коэффициент корреляции Пирсона между 'bedrooms' и 'stories'\n",
        "corr_coef = corr_matrix.loc['bedrooms', 'stories']\n",
        "print(f\"Коэффициент корреляции между 'bedrooms' и 'stories': {corr_coef:.3f}\")"
      ],
      "metadata": {
        "colab": {
          "base_uri": "https://localhost:8080/"
        },
        "id": "x5gR1s1yPH9e",
        "outputId": "e52067fa-4ed2-4e31-b7d8-0be0cafbb38a"
      },
      "id": "x5gR1s1yPH9e",
      "execution_count": null,
      "outputs": [
        {
          "output_type": "stream",
          "name": "stdout",
          "text": [
            "Коэффициент корреляции между 'bedrooms' и 'stories': 0.412\n"
          ]
        }
      ]
    },
    {
      "cell_type": "markdown",
      "id": "8796ae74-d91f-46b3-b73f-940fe3ee29f3",
      "metadata": {
        "id": "8796ae74-d91f-46b3-b73f-940fe3ee29f3"
      },
      "source": [
        "Проверим важность признаков. Для этого построим регрессию только на площади квартиры."
      ]
    },
    {
      "cell_type": "code",
      "source": [
        "# Добавление константы и выбор только площади\n",
        "X_train_area = sm.add_constant(X_train_processed[['area']])\n",
        "\n",
        "# Построение модели\n",
        "model_area = sm.OLS(y_train, X_train_area).fit()\n",
        "\n",
        "# Вывод R²\n",
        "r2_area = model_area.rsquared\n",
        "print(f\"R² для регрессии только на площади: {r2_area:.3f}\")"
      ],
      "metadata": {
        "colab": {
          "base_uri": "https://localhost:8080/"
        },
        "id": "RQN0hZxzRLc9",
        "outputId": "a800d2a1-5eb9-4436-938c-2790f4790abd"
      },
      "id": "RQN0hZxzRLc9",
      "execution_count": null,
      "outputs": [
        {
          "output_type": "stream",
          "name": "stdout",
          "text": [
            "R² для регрессии только на площади: 0.284\n"
          ]
        }
      ]
    },
    {
      "cell_type": "markdown",
      "source": [
        "Теперь построим регрессию на всех признаках, кроме неважных"
      ],
      "metadata": {
        "id": "w3DsiEc2SEbT"
      },
      "id": "w3DsiEc2SEbT"
    },
    {
      "cell_type": "code",
      "source": [
        "# Удаление неважного признака (bedrooms)\n",
        "X_train_filtered = X_train_processed.drop(columns=['bedrooms'])\n",
        "\n",
        "# Построение модели\n",
        "model_filtered = sm.OLS(y_train, X_train_filtered).fit()\n",
        "\n",
        "# Вывод R²\n",
        "r2_filtered = model_filtered.rsquared\n",
        "print(f\"R² для регрессии на всех признаках, кроме неважных: {r2_filtered:.3f}\")"
      ],
      "metadata": {
        "colab": {
          "base_uri": "https://localhost:8080/"
        },
        "id": "Odj7T40BRhIX",
        "outputId": "bd7bc2af-9af4-4f6a-9a1d-37cdbd9c6186"
      },
      "id": "Odj7T40BRhIX",
      "execution_count": null,
      "outputs": [
        {
          "output_type": "stream",
          "name": "stdout",
          "text": [
            "R² для регрессии на всех признаках, кроме неважных: 0.911\n"
          ]
        }
      ]
    },
    {
      "cell_type": "markdown",
      "id": "ec44a2d5-3374-4e90-b361-b0b65a178a1b",
      "metadata": {
        "id": "ec44a2d5-3374-4e90-b361-b0b65a178a1b"
      },
      "source": [
        "Узнаем каково примерное изменение стоимости дома при увеличении количества этажей на два (разумеется, при прочих равных)? Теория предписывает анализ коэффициента линейной регрессии."
      ]
    },
    {
      "cell_type": "code",
      "source": [
        "# Загрузка данных\n",
        "data = pd.read_csv('house_prices.csv')"
      ],
      "metadata": {
        "id": "Vm2vQVTGTIFu"
      },
      "id": "Vm2vQVTGTIFu",
      "execution_count": null,
      "outputs": []
    },
    {
      "cell_type": "code",
      "execution_count": null,
      "id": "2c2100e0-5304-4930-ba22-9da0fc0b1a48",
      "metadata": {
        "id": "2c2100e0-5304-4930-ba22-9da0fc0b1a48",
        "colab": {
          "base_uri": "https://localhost:8080/",
          "height": 226
        },
        "outputId": "8f5e8c71-414b-4493-e940-dfec7b88f2e3"
      },
      "outputs": [
        {
          "output_type": "execute_result",
          "data": {
            "text/plain": [
              "      price  area  bedrooms  bathrooms  stories mainroad guestroom basement  \\\n",
              "0  13300000  7420         4          2        3      yes        no       no   \n",
              "1  12250000  8960         4          4        4      yes        no       no   \n",
              "2  12250000  9960         3          2        2      yes        no      yes   \n",
              "3  12215000  7500         4          2        2      yes        no      yes   \n",
              "4  11410000  7420         4          1        2      yes       yes      yes   \n",
              "\n",
              "  hotwaterheating airconditioning  parking prefarea furnishingstatus  \n",
              "0              no             yes        2      yes        furnished  \n",
              "1              no             yes        3       no        furnished  \n",
              "2              no              no        2      yes   semi-furnished  \n",
              "3              no             yes        3      yes        furnished  \n",
              "4              no             yes        2       no        furnished  "
            ],
            "text/html": [
              "\n",
              "  <div id=\"df-74b67c87-c8d1-4e77-abc7-a0654ec17dfe\" class=\"colab-df-container\">\n",
              "    <div>\n",
              "<style scoped>\n",
              "    .dataframe tbody tr th:only-of-type {\n",
              "        vertical-align: middle;\n",
              "    }\n",
              "\n",
              "    .dataframe tbody tr th {\n",
              "        vertical-align: top;\n",
              "    }\n",
              "\n",
              "    .dataframe thead th {\n",
              "        text-align: right;\n",
              "    }\n",
              "</style>\n",
              "<table border=\"1\" class=\"dataframe\">\n",
              "  <thead>\n",
              "    <tr style=\"text-align: right;\">\n",
              "      <th></th>\n",
              "      <th>price</th>\n",
              "      <th>area</th>\n",
              "      <th>bedrooms</th>\n",
              "      <th>bathrooms</th>\n",
              "      <th>stories</th>\n",
              "      <th>mainroad</th>\n",
              "      <th>guestroom</th>\n",
              "      <th>basement</th>\n",
              "      <th>hotwaterheating</th>\n",
              "      <th>airconditioning</th>\n",
              "      <th>parking</th>\n",
              "      <th>prefarea</th>\n",
              "      <th>furnishingstatus</th>\n",
              "    </tr>\n",
              "  </thead>\n",
              "  <tbody>\n",
              "    <tr>\n",
              "      <th>0</th>\n",
              "      <td>13300000</td>\n",
              "      <td>7420</td>\n",
              "      <td>4</td>\n",
              "      <td>2</td>\n",
              "      <td>3</td>\n",
              "      <td>yes</td>\n",
              "      <td>no</td>\n",
              "      <td>no</td>\n",
              "      <td>no</td>\n",
              "      <td>yes</td>\n",
              "      <td>2</td>\n",
              "      <td>yes</td>\n",
              "      <td>furnished</td>\n",
              "    </tr>\n",
              "    <tr>\n",
              "      <th>1</th>\n",
              "      <td>12250000</td>\n",
              "      <td>8960</td>\n",
              "      <td>4</td>\n",
              "      <td>4</td>\n",
              "      <td>4</td>\n",
              "      <td>yes</td>\n",
              "      <td>no</td>\n",
              "      <td>no</td>\n",
              "      <td>no</td>\n",
              "      <td>yes</td>\n",
              "      <td>3</td>\n",
              "      <td>no</td>\n",
              "      <td>furnished</td>\n",
              "    </tr>\n",
              "    <tr>\n",
              "      <th>2</th>\n",
              "      <td>12250000</td>\n",
              "      <td>9960</td>\n",
              "      <td>3</td>\n",
              "      <td>2</td>\n",
              "      <td>2</td>\n",
              "      <td>yes</td>\n",
              "      <td>no</td>\n",
              "      <td>yes</td>\n",
              "      <td>no</td>\n",
              "      <td>no</td>\n",
              "      <td>2</td>\n",
              "      <td>yes</td>\n",
              "      <td>semi-furnished</td>\n",
              "    </tr>\n",
              "    <tr>\n",
              "      <th>3</th>\n",
              "      <td>12215000</td>\n",
              "      <td>7500</td>\n",
              "      <td>4</td>\n",
              "      <td>2</td>\n",
              "      <td>2</td>\n",
              "      <td>yes</td>\n",
              "      <td>no</td>\n",
              "      <td>yes</td>\n",
              "      <td>no</td>\n",
              "      <td>yes</td>\n",
              "      <td>3</td>\n",
              "      <td>yes</td>\n",
              "      <td>furnished</td>\n",
              "    </tr>\n",
              "    <tr>\n",
              "      <th>4</th>\n",
              "      <td>11410000</td>\n",
              "      <td>7420</td>\n",
              "      <td>4</td>\n",
              "      <td>1</td>\n",
              "      <td>2</td>\n",
              "      <td>yes</td>\n",
              "      <td>yes</td>\n",
              "      <td>yes</td>\n",
              "      <td>no</td>\n",
              "      <td>yes</td>\n",
              "      <td>2</td>\n",
              "      <td>no</td>\n",
              "      <td>furnished</td>\n",
              "    </tr>\n",
              "  </tbody>\n",
              "</table>\n",
              "</div>\n",
              "    <div class=\"colab-df-buttons\">\n",
              "\n",
              "  <div class=\"colab-df-container\">\n",
              "    <button class=\"colab-df-convert\" onclick=\"convertToInteractive('df-74b67c87-c8d1-4e77-abc7-a0654ec17dfe')\"\n",
              "            title=\"Convert this dataframe to an interactive table.\"\n",
              "            style=\"display:none;\">\n",
              "\n",
              "  <svg xmlns=\"http://www.w3.org/2000/svg\" height=\"24px\" viewBox=\"0 -960 960 960\">\n",
              "    <path d=\"M120-120v-720h720v720H120Zm60-500h600v-160H180v160Zm220 220h160v-160H400v160Zm0 220h160v-160H400v160ZM180-400h160v-160H180v160Zm440 0h160v-160H620v160ZM180-180h160v-160H180v160Zm440 0h160v-160H620v160Z\"/>\n",
              "  </svg>\n",
              "    </button>\n",
              "\n",
              "  <style>\n",
              "    .colab-df-container {\n",
              "      display:flex;\n",
              "      gap: 12px;\n",
              "    }\n",
              "\n",
              "    .colab-df-convert {\n",
              "      background-color: #E8F0FE;\n",
              "      border: none;\n",
              "      border-radius: 50%;\n",
              "      cursor: pointer;\n",
              "      display: none;\n",
              "      fill: #1967D2;\n",
              "      height: 32px;\n",
              "      padding: 0 0 0 0;\n",
              "      width: 32px;\n",
              "    }\n",
              "\n",
              "    .colab-df-convert:hover {\n",
              "      background-color: #E2EBFA;\n",
              "      box-shadow: 0px 1px 2px rgba(60, 64, 67, 0.3), 0px 1px 3px 1px rgba(60, 64, 67, 0.15);\n",
              "      fill: #174EA6;\n",
              "    }\n",
              "\n",
              "    .colab-df-buttons div {\n",
              "      margin-bottom: 4px;\n",
              "    }\n",
              "\n",
              "    [theme=dark] .colab-df-convert {\n",
              "      background-color: #3B4455;\n",
              "      fill: #D2E3FC;\n",
              "    }\n",
              "\n",
              "    [theme=dark] .colab-df-convert:hover {\n",
              "      background-color: #434B5C;\n",
              "      box-shadow: 0px 1px 3px 1px rgba(0, 0, 0, 0.15);\n",
              "      filter: drop-shadow(0px 1px 2px rgba(0, 0, 0, 0.3));\n",
              "      fill: #FFFFFF;\n",
              "    }\n",
              "  </style>\n",
              "\n",
              "    <script>\n",
              "      const buttonEl =\n",
              "        document.querySelector('#df-74b67c87-c8d1-4e77-abc7-a0654ec17dfe button.colab-df-convert');\n",
              "      buttonEl.style.display =\n",
              "        google.colab.kernel.accessAllowed ? 'block' : 'none';\n",
              "\n",
              "      async function convertToInteractive(key) {\n",
              "        const element = document.querySelector('#df-74b67c87-c8d1-4e77-abc7-a0654ec17dfe');\n",
              "        const dataTable =\n",
              "          await google.colab.kernel.invokeFunction('convertToInteractive',\n",
              "                                                    [key], {});\n",
              "        if (!dataTable) return;\n",
              "\n",
              "        const docLinkHtml = 'Like what you see? Visit the ' +\n",
              "          '<a target=\"_blank\" href=https://colab.research.google.com/notebooks/data_table.ipynb>data table notebook</a>'\n",
              "          + ' to learn more about interactive tables.';\n",
              "        element.innerHTML = '';\n",
              "        dataTable['output_type'] = 'display_data';\n",
              "        await google.colab.output.renderOutput(dataTable, element);\n",
              "        const docLink = document.createElement('div');\n",
              "        docLink.innerHTML = docLinkHtml;\n",
              "        element.appendChild(docLink);\n",
              "      }\n",
              "    </script>\n",
              "  </div>\n",
              "\n",
              "\n",
              "<div id=\"df-45e54420-4e74-4581-8bb7-49dab764ade1\">\n",
              "  <button class=\"colab-df-quickchart\" onclick=\"quickchart('df-45e54420-4e74-4581-8bb7-49dab764ade1')\"\n",
              "            title=\"Suggest charts\"\n",
              "            style=\"display:none;\">\n",
              "\n",
              "<svg xmlns=\"http://www.w3.org/2000/svg\" height=\"24px\"viewBox=\"0 0 24 24\"\n",
              "     width=\"24px\">\n",
              "    <g>\n",
              "        <path d=\"M19 3H5c-1.1 0-2 .9-2 2v14c0 1.1.9 2 2 2h14c1.1 0 2-.9 2-2V5c0-1.1-.9-2-2-2zM9 17H7v-7h2v7zm4 0h-2V7h2v10zm4 0h-2v-4h2v4z\"/>\n",
              "    </g>\n",
              "</svg>\n",
              "  </button>\n",
              "\n",
              "<style>\n",
              "  .colab-df-quickchart {\n",
              "      --bg-color: #E8F0FE;\n",
              "      --fill-color: #1967D2;\n",
              "      --hover-bg-color: #E2EBFA;\n",
              "      --hover-fill-color: #174EA6;\n",
              "      --disabled-fill-color: #AAA;\n",
              "      --disabled-bg-color: #DDD;\n",
              "  }\n",
              "\n",
              "  [theme=dark] .colab-df-quickchart {\n",
              "      --bg-color: #3B4455;\n",
              "      --fill-color: #D2E3FC;\n",
              "      --hover-bg-color: #434B5C;\n",
              "      --hover-fill-color: #FFFFFF;\n",
              "      --disabled-bg-color: #3B4455;\n",
              "      --disabled-fill-color: #666;\n",
              "  }\n",
              "\n",
              "  .colab-df-quickchart {\n",
              "    background-color: var(--bg-color);\n",
              "    border: none;\n",
              "    border-radius: 50%;\n",
              "    cursor: pointer;\n",
              "    display: none;\n",
              "    fill: var(--fill-color);\n",
              "    height: 32px;\n",
              "    padding: 0;\n",
              "    width: 32px;\n",
              "  }\n",
              "\n",
              "  .colab-df-quickchart:hover {\n",
              "    background-color: var(--hover-bg-color);\n",
              "    box-shadow: 0 1px 2px rgba(60, 64, 67, 0.3), 0 1px 3px 1px rgba(60, 64, 67, 0.15);\n",
              "    fill: var(--button-hover-fill-color);\n",
              "  }\n",
              "\n",
              "  .colab-df-quickchart-complete:disabled,\n",
              "  .colab-df-quickchart-complete:disabled:hover {\n",
              "    background-color: var(--disabled-bg-color);\n",
              "    fill: var(--disabled-fill-color);\n",
              "    box-shadow: none;\n",
              "  }\n",
              "\n",
              "  .colab-df-spinner {\n",
              "    border: 2px solid var(--fill-color);\n",
              "    border-color: transparent;\n",
              "    border-bottom-color: var(--fill-color);\n",
              "    animation:\n",
              "      spin 1s steps(1) infinite;\n",
              "  }\n",
              "\n",
              "  @keyframes spin {\n",
              "    0% {\n",
              "      border-color: transparent;\n",
              "      border-bottom-color: var(--fill-color);\n",
              "      border-left-color: var(--fill-color);\n",
              "    }\n",
              "    20% {\n",
              "      border-color: transparent;\n",
              "      border-left-color: var(--fill-color);\n",
              "      border-top-color: var(--fill-color);\n",
              "    }\n",
              "    30% {\n",
              "      border-color: transparent;\n",
              "      border-left-color: var(--fill-color);\n",
              "      border-top-color: var(--fill-color);\n",
              "      border-right-color: var(--fill-color);\n",
              "    }\n",
              "    40% {\n",
              "      border-color: transparent;\n",
              "      border-right-color: var(--fill-color);\n",
              "      border-top-color: var(--fill-color);\n",
              "    }\n",
              "    60% {\n",
              "      border-color: transparent;\n",
              "      border-right-color: var(--fill-color);\n",
              "    }\n",
              "    80% {\n",
              "      border-color: transparent;\n",
              "      border-right-color: var(--fill-color);\n",
              "      border-bottom-color: var(--fill-color);\n",
              "    }\n",
              "    90% {\n",
              "      border-color: transparent;\n",
              "      border-bottom-color: var(--fill-color);\n",
              "    }\n",
              "  }\n",
              "</style>\n",
              "\n",
              "  <script>\n",
              "    async function quickchart(key) {\n",
              "      const quickchartButtonEl =\n",
              "        document.querySelector('#' + key + ' button');\n",
              "      quickchartButtonEl.disabled = true;  // To prevent multiple clicks.\n",
              "      quickchartButtonEl.classList.add('colab-df-spinner');\n",
              "      try {\n",
              "        const charts = await google.colab.kernel.invokeFunction(\n",
              "            'suggestCharts', [key], {});\n",
              "      } catch (error) {\n",
              "        console.error('Error during call to suggestCharts:', error);\n",
              "      }\n",
              "      quickchartButtonEl.classList.remove('colab-df-spinner');\n",
              "      quickchartButtonEl.classList.add('colab-df-quickchart-complete');\n",
              "    }\n",
              "    (() => {\n",
              "      let quickchartButtonEl =\n",
              "        document.querySelector('#df-45e54420-4e74-4581-8bb7-49dab764ade1 button');\n",
              "      quickchartButtonEl.style.display =\n",
              "        google.colab.kernel.accessAllowed ? 'block' : 'none';\n",
              "    })();\n",
              "  </script>\n",
              "</div>\n",
              "    </div>\n",
              "  </div>\n"
            ],
            "application/vnd.google.colaboratory.intrinsic+json": {
              "type": "dataframe",
              "variable_name": "data",
              "summary": "{\n  \"name\": \"data\",\n  \"rows\": 545,\n  \"fields\": [\n    {\n      \"column\": \"price\",\n      \"properties\": {\n        \"dtype\": \"number\",\n        \"std\": 1870439,\n        \"min\": 1750000,\n        \"max\": 13300000,\n        \"num_unique_values\": 219,\n        \"samples\": [\n          3773000,\n          5285000,\n          1820000\n        ],\n        \"semantic_type\": \"\",\n        \"description\": \"\"\n      }\n    },\n    {\n      \"column\": \"area\",\n      \"properties\": {\n        \"dtype\": \"number\",\n        \"std\": 2170,\n        \"min\": 1650,\n        \"max\": 16200,\n        \"num_unique_values\": 284,\n        \"samples\": [\n          6000,\n          2684,\n          5360\n        ],\n        \"semantic_type\": \"\",\n        \"description\": \"\"\n      }\n    },\n    {\n      \"column\": \"bedrooms\",\n      \"properties\": {\n        \"dtype\": \"number\",\n        \"std\": 0,\n        \"min\": 1,\n        \"max\": 6,\n        \"num_unique_values\": 6,\n        \"samples\": [\n          4,\n          3,\n          1\n        ],\n        \"semantic_type\": \"\",\n        \"description\": \"\"\n      }\n    },\n    {\n      \"column\": \"bathrooms\",\n      \"properties\": {\n        \"dtype\": \"number\",\n        \"std\": 0,\n        \"min\": 1,\n        \"max\": 4,\n        \"num_unique_values\": 4,\n        \"samples\": [\n          4,\n          3,\n          2\n        ],\n        \"semantic_type\": \"\",\n        \"description\": \"\"\n      }\n    },\n    {\n      \"column\": \"stories\",\n      \"properties\": {\n        \"dtype\": \"number\",\n        \"std\": 0,\n        \"min\": 1,\n        \"max\": 4,\n        \"num_unique_values\": 4,\n        \"samples\": [\n          4,\n          1,\n          3\n        ],\n        \"semantic_type\": \"\",\n        \"description\": \"\"\n      }\n    },\n    {\n      \"column\": \"mainroad\",\n      \"properties\": {\n        \"dtype\": \"category\",\n        \"num_unique_values\": 2,\n        \"samples\": [\n          \"no\",\n          \"yes\"\n        ],\n        \"semantic_type\": \"\",\n        \"description\": \"\"\n      }\n    },\n    {\n      \"column\": \"guestroom\",\n      \"properties\": {\n        \"dtype\": \"category\",\n        \"num_unique_values\": 2,\n        \"samples\": [\n          \"yes\",\n          \"no\"\n        ],\n        \"semantic_type\": \"\",\n        \"description\": \"\"\n      }\n    },\n    {\n      \"column\": \"basement\",\n      \"properties\": {\n        \"dtype\": \"category\",\n        \"num_unique_values\": 2,\n        \"samples\": [\n          \"yes\",\n          \"no\"\n        ],\n        \"semantic_type\": \"\",\n        \"description\": \"\"\n      }\n    },\n    {\n      \"column\": \"hotwaterheating\",\n      \"properties\": {\n        \"dtype\": \"category\",\n        \"num_unique_values\": 2,\n        \"samples\": [\n          \"yes\",\n          \"no\"\n        ],\n        \"semantic_type\": \"\",\n        \"description\": \"\"\n      }\n    },\n    {\n      \"column\": \"airconditioning\",\n      \"properties\": {\n        \"dtype\": \"category\",\n        \"num_unique_values\": 2,\n        \"samples\": [\n          \"no\",\n          \"yes\"\n        ],\n        \"semantic_type\": \"\",\n        \"description\": \"\"\n      }\n    },\n    {\n      \"column\": \"parking\",\n      \"properties\": {\n        \"dtype\": \"number\",\n        \"std\": 0,\n        \"min\": 0,\n        \"max\": 3,\n        \"num_unique_values\": 4,\n        \"samples\": [\n          3,\n          1\n        ],\n        \"semantic_type\": \"\",\n        \"description\": \"\"\n      }\n    },\n    {\n      \"column\": \"prefarea\",\n      \"properties\": {\n        \"dtype\": \"category\",\n        \"num_unique_values\": 2,\n        \"samples\": [\n          \"no\",\n          \"yes\"\n        ],\n        \"semantic_type\": \"\",\n        \"description\": \"\"\n      }\n    },\n    {\n      \"column\": \"furnishingstatus\",\n      \"properties\": {\n        \"dtype\": \"category\",\n        \"num_unique_values\": 3,\n        \"samples\": [\n          \"furnished\",\n          \"semi-furnished\"\n        ],\n        \"semantic_type\": \"\",\n        \"description\": \"\"\n      }\n    }\n  ]\n}"
            }
          },
          "metadata": {},
          "execution_count": 22
        }
      ],
      "source": [
        "data.head()"
      ]
    },
    {
      "cell_type": "code",
      "source": [
        "# Создание нового датафрейма с увеличенным количеством этажей на 2\n",
        "df = data.copy()\n",
        "df['stories'] += 2\n",
        "df.head()"
      ],
      "metadata": {
        "colab": {
          "base_uri": "https://localhost:8080/",
          "height": 226
        },
        "id": "oyIfIBpVTSFl",
        "outputId": "2ab305cb-823f-4fe1-912d-b4716276f057"
      },
      "id": "oyIfIBpVTSFl",
      "execution_count": null,
      "outputs": [
        {
          "output_type": "execute_result",
          "data": {
            "text/plain": [
              "      price  area  bedrooms  bathrooms  stories mainroad guestroom basement  \\\n",
              "0  13300000  7420         4          2        5      yes        no       no   \n",
              "1  12250000  8960         4          4        6      yes        no       no   \n",
              "2  12250000  9960         3          2        4      yes        no      yes   \n",
              "3  12215000  7500         4          2        4      yes        no      yes   \n",
              "4  11410000  7420         4          1        4      yes       yes      yes   \n",
              "\n",
              "  hotwaterheating airconditioning  parking prefarea furnishingstatus  \n",
              "0              no             yes        2      yes        furnished  \n",
              "1              no             yes        3       no        furnished  \n",
              "2              no              no        2      yes   semi-furnished  \n",
              "3              no             yes        3      yes        furnished  \n",
              "4              no             yes        2       no        furnished  "
            ],
            "text/html": [
              "\n",
              "  <div id=\"df-fec164cb-4d29-4e33-92dd-6dabcb4a312d\" class=\"colab-df-container\">\n",
              "    <div>\n",
              "<style scoped>\n",
              "    .dataframe tbody tr th:only-of-type {\n",
              "        vertical-align: middle;\n",
              "    }\n",
              "\n",
              "    .dataframe tbody tr th {\n",
              "        vertical-align: top;\n",
              "    }\n",
              "\n",
              "    .dataframe thead th {\n",
              "        text-align: right;\n",
              "    }\n",
              "</style>\n",
              "<table border=\"1\" class=\"dataframe\">\n",
              "  <thead>\n",
              "    <tr style=\"text-align: right;\">\n",
              "      <th></th>\n",
              "      <th>price</th>\n",
              "      <th>area</th>\n",
              "      <th>bedrooms</th>\n",
              "      <th>bathrooms</th>\n",
              "      <th>stories</th>\n",
              "      <th>mainroad</th>\n",
              "      <th>guestroom</th>\n",
              "      <th>basement</th>\n",
              "      <th>hotwaterheating</th>\n",
              "      <th>airconditioning</th>\n",
              "      <th>parking</th>\n",
              "      <th>prefarea</th>\n",
              "      <th>furnishingstatus</th>\n",
              "    </tr>\n",
              "  </thead>\n",
              "  <tbody>\n",
              "    <tr>\n",
              "      <th>0</th>\n",
              "      <td>13300000</td>\n",
              "      <td>7420</td>\n",
              "      <td>4</td>\n",
              "      <td>2</td>\n",
              "      <td>5</td>\n",
              "      <td>yes</td>\n",
              "      <td>no</td>\n",
              "      <td>no</td>\n",
              "      <td>no</td>\n",
              "      <td>yes</td>\n",
              "      <td>2</td>\n",
              "      <td>yes</td>\n",
              "      <td>furnished</td>\n",
              "    </tr>\n",
              "    <tr>\n",
              "      <th>1</th>\n",
              "      <td>12250000</td>\n",
              "      <td>8960</td>\n",
              "      <td>4</td>\n",
              "      <td>4</td>\n",
              "      <td>6</td>\n",
              "      <td>yes</td>\n",
              "      <td>no</td>\n",
              "      <td>no</td>\n",
              "      <td>no</td>\n",
              "      <td>yes</td>\n",
              "      <td>3</td>\n",
              "      <td>no</td>\n",
              "      <td>furnished</td>\n",
              "    </tr>\n",
              "    <tr>\n",
              "      <th>2</th>\n",
              "      <td>12250000</td>\n",
              "      <td>9960</td>\n",
              "      <td>3</td>\n",
              "      <td>2</td>\n",
              "      <td>4</td>\n",
              "      <td>yes</td>\n",
              "      <td>no</td>\n",
              "      <td>yes</td>\n",
              "      <td>no</td>\n",
              "      <td>no</td>\n",
              "      <td>2</td>\n",
              "      <td>yes</td>\n",
              "      <td>semi-furnished</td>\n",
              "    </tr>\n",
              "    <tr>\n",
              "      <th>3</th>\n",
              "      <td>12215000</td>\n",
              "      <td>7500</td>\n",
              "      <td>4</td>\n",
              "      <td>2</td>\n",
              "      <td>4</td>\n",
              "      <td>yes</td>\n",
              "      <td>no</td>\n",
              "      <td>yes</td>\n",
              "      <td>no</td>\n",
              "      <td>yes</td>\n",
              "      <td>3</td>\n",
              "      <td>yes</td>\n",
              "      <td>furnished</td>\n",
              "    </tr>\n",
              "    <tr>\n",
              "      <th>4</th>\n",
              "      <td>11410000</td>\n",
              "      <td>7420</td>\n",
              "      <td>4</td>\n",
              "      <td>1</td>\n",
              "      <td>4</td>\n",
              "      <td>yes</td>\n",
              "      <td>yes</td>\n",
              "      <td>yes</td>\n",
              "      <td>no</td>\n",
              "      <td>yes</td>\n",
              "      <td>2</td>\n",
              "      <td>no</td>\n",
              "      <td>furnished</td>\n",
              "    </tr>\n",
              "  </tbody>\n",
              "</table>\n",
              "</div>\n",
              "    <div class=\"colab-df-buttons\">\n",
              "\n",
              "  <div class=\"colab-df-container\">\n",
              "    <button class=\"colab-df-convert\" onclick=\"convertToInteractive('df-fec164cb-4d29-4e33-92dd-6dabcb4a312d')\"\n",
              "            title=\"Convert this dataframe to an interactive table.\"\n",
              "            style=\"display:none;\">\n",
              "\n",
              "  <svg xmlns=\"http://www.w3.org/2000/svg\" height=\"24px\" viewBox=\"0 -960 960 960\">\n",
              "    <path d=\"M120-120v-720h720v720H120Zm60-500h600v-160H180v160Zm220 220h160v-160H400v160Zm0 220h160v-160H400v160ZM180-400h160v-160H180v160Zm440 0h160v-160H620v160ZM180-180h160v-160H180v160Zm440 0h160v-160H620v160Z\"/>\n",
              "  </svg>\n",
              "    </button>\n",
              "\n",
              "  <style>\n",
              "    .colab-df-container {\n",
              "      display:flex;\n",
              "      gap: 12px;\n",
              "    }\n",
              "\n",
              "    .colab-df-convert {\n",
              "      background-color: #E8F0FE;\n",
              "      border: none;\n",
              "      border-radius: 50%;\n",
              "      cursor: pointer;\n",
              "      display: none;\n",
              "      fill: #1967D2;\n",
              "      height: 32px;\n",
              "      padding: 0 0 0 0;\n",
              "      width: 32px;\n",
              "    }\n",
              "\n",
              "    .colab-df-convert:hover {\n",
              "      background-color: #E2EBFA;\n",
              "      box-shadow: 0px 1px 2px rgba(60, 64, 67, 0.3), 0px 1px 3px 1px rgba(60, 64, 67, 0.15);\n",
              "      fill: #174EA6;\n",
              "    }\n",
              "\n",
              "    .colab-df-buttons div {\n",
              "      margin-bottom: 4px;\n",
              "    }\n",
              "\n",
              "    [theme=dark] .colab-df-convert {\n",
              "      background-color: #3B4455;\n",
              "      fill: #D2E3FC;\n",
              "    }\n",
              "\n",
              "    [theme=dark] .colab-df-convert:hover {\n",
              "      background-color: #434B5C;\n",
              "      box-shadow: 0px 1px 3px 1px rgba(0, 0, 0, 0.15);\n",
              "      filter: drop-shadow(0px 1px 2px rgba(0, 0, 0, 0.3));\n",
              "      fill: #FFFFFF;\n",
              "    }\n",
              "  </style>\n",
              "\n",
              "    <script>\n",
              "      const buttonEl =\n",
              "        document.querySelector('#df-fec164cb-4d29-4e33-92dd-6dabcb4a312d button.colab-df-convert');\n",
              "      buttonEl.style.display =\n",
              "        google.colab.kernel.accessAllowed ? 'block' : 'none';\n",
              "\n",
              "      async function convertToInteractive(key) {\n",
              "        const element = document.querySelector('#df-fec164cb-4d29-4e33-92dd-6dabcb4a312d');\n",
              "        const dataTable =\n",
              "          await google.colab.kernel.invokeFunction('convertToInteractive',\n",
              "                                                    [key], {});\n",
              "        if (!dataTable) return;\n",
              "\n",
              "        const docLinkHtml = 'Like what you see? Visit the ' +\n",
              "          '<a target=\"_blank\" href=https://colab.research.google.com/notebooks/data_table.ipynb>data table notebook</a>'\n",
              "          + ' to learn more about interactive tables.';\n",
              "        element.innerHTML = '';\n",
              "        dataTable['output_type'] = 'display_data';\n",
              "        await google.colab.output.renderOutput(dataTable, element);\n",
              "        const docLink = document.createElement('div');\n",
              "        docLink.innerHTML = docLinkHtml;\n",
              "        element.appendChild(docLink);\n",
              "      }\n",
              "    </script>\n",
              "  </div>\n",
              "\n",
              "\n",
              "<div id=\"df-b4214242-69ce-4c39-b746-aa9a658b1fbf\">\n",
              "  <button class=\"colab-df-quickchart\" onclick=\"quickchart('df-b4214242-69ce-4c39-b746-aa9a658b1fbf')\"\n",
              "            title=\"Suggest charts\"\n",
              "            style=\"display:none;\">\n",
              "\n",
              "<svg xmlns=\"http://www.w3.org/2000/svg\" height=\"24px\"viewBox=\"0 0 24 24\"\n",
              "     width=\"24px\">\n",
              "    <g>\n",
              "        <path d=\"M19 3H5c-1.1 0-2 .9-2 2v14c0 1.1.9 2 2 2h14c1.1 0 2-.9 2-2V5c0-1.1-.9-2-2-2zM9 17H7v-7h2v7zm4 0h-2V7h2v10zm4 0h-2v-4h2v4z\"/>\n",
              "    </g>\n",
              "</svg>\n",
              "  </button>\n",
              "\n",
              "<style>\n",
              "  .colab-df-quickchart {\n",
              "      --bg-color: #E8F0FE;\n",
              "      --fill-color: #1967D2;\n",
              "      --hover-bg-color: #E2EBFA;\n",
              "      --hover-fill-color: #174EA6;\n",
              "      --disabled-fill-color: #AAA;\n",
              "      --disabled-bg-color: #DDD;\n",
              "  }\n",
              "\n",
              "  [theme=dark] .colab-df-quickchart {\n",
              "      --bg-color: #3B4455;\n",
              "      --fill-color: #D2E3FC;\n",
              "      --hover-bg-color: #434B5C;\n",
              "      --hover-fill-color: #FFFFFF;\n",
              "      --disabled-bg-color: #3B4455;\n",
              "      --disabled-fill-color: #666;\n",
              "  }\n",
              "\n",
              "  .colab-df-quickchart {\n",
              "    background-color: var(--bg-color);\n",
              "    border: none;\n",
              "    border-radius: 50%;\n",
              "    cursor: pointer;\n",
              "    display: none;\n",
              "    fill: var(--fill-color);\n",
              "    height: 32px;\n",
              "    padding: 0;\n",
              "    width: 32px;\n",
              "  }\n",
              "\n",
              "  .colab-df-quickchart:hover {\n",
              "    background-color: var(--hover-bg-color);\n",
              "    box-shadow: 0 1px 2px rgba(60, 64, 67, 0.3), 0 1px 3px 1px rgba(60, 64, 67, 0.15);\n",
              "    fill: var(--button-hover-fill-color);\n",
              "  }\n",
              "\n",
              "  .colab-df-quickchart-complete:disabled,\n",
              "  .colab-df-quickchart-complete:disabled:hover {\n",
              "    background-color: var(--disabled-bg-color);\n",
              "    fill: var(--disabled-fill-color);\n",
              "    box-shadow: none;\n",
              "  }\n",
              "\n",
              "  .colab-df-spinner {\n",
              "    border: 2px solid var(--fill-color);\n",
              "    border-color: transparent;\n",
              "    border-bottom-color: var(--fill-color);\n",
              "    animation:\n",
              "      spin 1s steps(1) infinite;\n",
              "  }\n",
              "\n",
              "  @keyframes spin {\n",
              "    0% {\n",
              "      border-color: transparent;\n",
              "      border-bottom-color: var(--fill-color);\n",
              "      border-left-color: var(--fill-color);\n",
              "    }\n",
              "    20% {\n",
              "      border-color: transparent;\n",
              "      border-left-color: var(--fill-color);\n",
              "      border-top-color: var(--fill-color);\n",
              "    }\n",
              "    30% {\n",
              "      border-color: transparent;\n",
              "      border-left-color: var(--fill-color);\n",
              "      border-top-color: var(--fill-color);\n",
              "      border-right-color: var(--fill-color);\n",
              "    }\n",
              "    40% {\n",
              "      border-color: transparent;\n",
              "      border-right-color: var(--fill-color);\n",
              "      border-top-color: var(--fill-color);\n",
              "    }\n",
              "    60% {\n",
              "      border-color: transparent;\n",
              "      border-right-color: var(--fill-color);\n",
              "    }\n",
              "    80% {\n",
              "      border-color: transparent;\n",
              "      border-right-color: var(--fill-color);\n",
              "      border-bottom-color: var(--fill-color);\n",
              "    }\n",
              "    90% {\n",
              "      border-color: transparent;\n",
              "      border-bottom-color: var(--fill-color);\n",
              "    }\n",
              "  }\n",
              "</style>\n",
              "\n",
              "  <script>\n",
              "    async function quickchart(key) {\n",
              "      const quickchartButtonEl =\n",
              "        document.querySelector('#' + key + ' button');\n",
              "      quickchartButtonEl.disabled = true;  // To prevent multiple clicks.\n",
              "      quickchartButtonEl.classList.add('colab-df-spinner');\n",
              "      try {\n",
              "        const charts = await google.colab.kernel.invokeFunction(\n",
              "            'suggestCharts', [key], {});\n",
              "      } catch (error) {\n",
              "        console.error('Error during call to suggestCharts:', error);\n",
              "      }\n",
              "      quickchartButtonEl.classList.remove('colab-df-spinner');\n",
              "      quickchartButtonEl.classList.add('colab-df-quickchart-complete');\n",
              "    }\n",
              "    (() => {\n",
              "      let quickchartButtonEl =\n",
              "        document.querySelector('#df-b4214242-69ce-4c39-b746-aa9a658b1fbf button');\n",
              "      quickchartButtonEl.style.display =\n",
              "        google.colab.kernel.accessAllowed ? 'block' : 'none';\n",
              "    })();\n",
              "  </script>\n",
              "</div>\n",
              "    </div>\n",
              "  </div>\n"
            ],
            "application/vnd.google.colaboratory.intrinsic+json": {
              "type": "dataframe",
              "variable_name": "df",
              "summary": "{\n  \"name\": \"df\",\n  \"rows\": 545,\n  \"fields\": [\n    {\n      \"column\": \"price\",\n      \"properties\": {\n        \"dtype\": \"number\",\n        \"std\": 1870439,\n        \"min\": 1750000,\n        \"max\": 13300000,\n        \"num_unique_values\": 219,\n        \"samples\": [\n          3773000,\n          5285000,\n          1820000\n        ],\n        \"semantic_type\": \"\",\n        \"description\": \"\"\n      }\n    },\n    {\n      \"column\": \"area\",\n      \"properties\": {\n        \"dtype\": \"number\",\n        \"std\": 2170,\n        \"min\": 1650,\n        \"max\": 16200,\n        \"num_unique_values\": 284,\n        \"samples\": [\n          6000,\n          2684,\n          5360\n        ],\n        \"semantic_type\": \"\",\n        \"description\": \"\"\n      }\n    },\n    {\n      \"column\": \"bedrooms\",\n      \"properties\": {\n        \"dtype\": \"number\",\n        \"std\": 0,\n        \"min\": 1,\n        \"max\": 6,\n        \"num_unique_values\": 6,\n        \"samples\": [\n          4,\n          3,\n          1\n        ],\n        \"semantic_type\": \"\",\n        \"description\": \"\"\n      }\n    },\n    {\n      \"column\": \"bathrooms\",\n      \"properties\": {\n        \"dtype\": \"number\",\n        \"std\": 0,\n        \"min\": 1,\n        \"max\": 4,\n        \"num_unique_values\": 4,\n        \"samples\": [\n          4,\n          3,\n          2\n        ],\n        \"semantic_type\": \"\",\n        \"description\": \"\"\n      }\n    },\n    {\n      \"column\": \"stories\",\n      \"properties\": {\n        \"dtype\": \"number\",\n        \"std\": 0,\n        \"min\": 3,\n        \"max\": 6,\n        \"num_unique_values\": 4,\n        \"samples\": [\n          6,\n          3,\n          5\n        ],\n        \"semantic_type\": \"\",\n        \"description\": \"\"\n      }\n    },\n    {\n      \"column\": \"mainroad\",\n      \"properties\": {\n        \"dtype\": \"category\",\n        \"num_unique_values\": 2,\n        \"samples\": [\n          \"no\",\n          \"yes\"\n        ],\n        \"semantic_type\": \"\",\n        \"description\": \"\"\n      }\n    },\n    {\n      \"column\": \"guestroom\",\n      \"properties\": {\n        \"dtype\": \"category\",\n        \"num_unique_values\": 2,\n        \"samples\": [\n          \"yes\",\n          \"no\"\n        ],\n        \"semantic_type\": \"\",\n        \"description\": \"\"\n      }\n    },\n    {\n      \"column\": \"basement\",\n      \"properties\": {\n        \"dtype\": \"category\",\n        \"num_unique_values\": 2,\n        \"samples\": [\n          \"yes\",\n          \"no\"\n        ],\n        \"semantic_type\": \"\",\n        \"description\": \"\"\n      }\n    },\n    {\n      \"column\": \"hotwaterheating\",\n      \"properties\": {\n        \"dtype\": \"category\",\n        \"num_unique_values\": 2,\n        \"samples\": [\n          \"yes\",\n          \"no\"\n        ],\n        \"semantic_type\": \"\",\n        \"description\": \"\"\n      }\n    },\n    {\n      \"column\": \"airconditioning\",\n      \"properties\": {\n        \"dtype\": \"category\",\n        \"num_unique_values\": 2,\n        \"samples\": [\n          \"no\",\n          \"yes\"\n        ],\n        \"semantic_type\": \"\",\n        \"description\": \"\"\n      }\n    },\n    {\n      \"column\": \"parking\",\n      \"properties\": {\n        \"dtype\": \"number\",\n        \"std\": 0,\n        \"min\": 0,\n        \"max\": 3,\n        \"num_unique_values\": 4,\n        \"samples\": [\n          3,\n          1\n        ],\n        \"semantic_type\": \"\",\n        \"description\": \"\"\n      }\n    },\n    {\n      \"column\": \"prefarea\",\n      \"properties\": {\n        \"dtype\": \"category\",\n        \"num_unique_values\": 2,\n        \"samples\": [\n          \"no\",\n          \"yes\"\n        ],\n        \"semantic_type\": \"\",\n        \"description\": \"\"\n      }\n    },\n    {\n      \"column\": \"furnishingstatus\",\n      \"properties\": {\n        \"dtype\": \"category\",\n        \"num_unique_values\": 3,\n        \"samples\": [\n          \"furnished\",\n          \"semi-furnished\"\n        ],\n        \"semantic_type\": \"\",\n        \"description\": \"\"\n      }\n    }\n  ]\n}"
            }
          },
          "metadata": {},
          "execution_count": 23
        }
      ]
    },
    {
      "cell_type": "code",
      "source": [
        "# Список категориальных переменных\n",
        "var_categorical = ['mainroad', 'guestroom', 'basement', 'hotwaterheating', 'airconditioning', 'prefarea', 'furnishingstatus']\n",
        "\n",
        "# Список количественных переменных\n",
        "var_numeric = ['area', 'bedrooms', 'bathrooms', 'stories', 'parking']\n",
        "\n",
        "# Кодирование категориальных признаков\n",
        "encoder = OneHotEncoder(drop='first', sparse_output=False)\n",
        "data_cat_encoded = encoder.fit_transform(data[var_categorical])\n",
        "df_cat_encoded = encoder.transform(df[var_categorical])\n",
        "\n",
        "# Преобразуем закодированные признаки в DataFrame\n",
        "cat_encoded_columns = encoder.get_feature_names_out(var_categorical)\n",
        "data_cat_encoded = pd.DataFrame(data_cat_encoded, columns=cat_encoded_columns)\n",
        "df_cat_encoded = pd.DataFrame(df_cat_encoded, columns=cat_encoded_columns)\n",
        "\n",
        "# Масштабирование количественных признаков\n",
        "scaler = StandardScaler()\n",
        "data_num_scaled = scaler.fit_transform(data[var_numeric])\n",
        "df_num_scaled = scaler.transform(df[var_numeric])\n",
        "\n",
        "# Преобразуем масштабированные признаки в DataFrame\n",
        "data_num_scaled = pd.DataFrame(data_num_scaled, columns=var_numeric)\n",
        "df_num_scaled = pd.DataFrame(df_num_scaled, columns=var_numeric)\n",
        "\n",
        "# Объединение закодированных и масштабированных признаков\n",
        "data_processed = pd.concat([data_num_scaled, data_cat_encoded], axis=1)\n",
        "df_processed = pd.concat([df_num_scaled, df_cat_encoded], axis=1)\n",
        "\n",
        "# Добавление константы\n",
        "data_sm = sm.add_constant(data_processed)\n",
        "df_sm = sm.add_constant(df_processed)"
      ],
      "metadata": {
        "id": "XtRrTAy6TmDs"
      },
      "id": "XtRrTAy6TmDs",
      "execution_count": null,
      "outputs": []
    },
    {
      "cell_type": "code",
      "source": [
        "# Построение модели на исходных данных\n",
        "ols_model = sm.OLS(data['price'], data_sm).fit()\n",
        "\n",
        "# Вывод коэффициента для признака 'stories'\n",
        "stories_coef = ols_model.params['stories']\n",
        "print(f\"Коэффициент для признака 'stories': {stories_coef:.3f}\")"
      ],
      "metadata": {
        "colab": {
          "base_uri": "https://localhost:8080/"
        },
        "id": "D0iJLBpUTvEb",
        "outputId": "02e1d28b-1a42-4bea-8d53-e5e2d53f6a98"
      },
      "id": "D0iJLBpUTvEb",
      "execution_count": null,
      "outputs": [
        {
          "output_type": "stream",
          "name": "stdout",
          "text": [
            "Коэффициент для признака 'stories': 390748.266\n"
          ]
        }
      ]
    },
    {
      "cell_type": "code",
      "source": [
        "# Предсказания на исходных данных\n",
        "y_pred_original = ols_model.predict(data_sm)\n",
        "\n",
        "# Предсказания на данных с увеличенным количеством этажей\n",
        "y_pred_modified = ols_model.predict(df_sm)\n",
        "\n",
        "# Вычисление изменения стоимости\n",
        "price_change = y_pred_modified - y_pred_original\n",
        "average_price_change = price_change.mean()\n",
        "print(f\"Среднее изменение стоимости при увеличении этажей на 2: {average_price_change:.3f}\")"
      ],
      "metadata": {
        "colab": {
          "base_uri": "https://localhost:8080/"
        },
        "id": "EOIdSW17T7nh",
        "outputId": "05f3b94b-b0fc-41a8-abe9-2ff93c67664b"
      },
      "id": "EOIdSW17T7nh",
      "execution_count": null,
      "outputs": [
        {
          "output_type": "stream",
          "name": "stdout",
          "text": [
            "Среднее изменение стоимости при увеличении этажей на 2: 901696.006\n"
          ]
        }
      ]
    },
    {
      "cell_type": "markdown",
      "id": "b6eb93e8-b233-4c62-b2fd-a146a2654dfe",
      "metadata": {
        "id": "b6eb93e8-b233-4c62-b2fd-a146a2654dfe"
      },
      "source": [
        "Теперь займемся проверкой допущений. Для начала проверим отсутствие мультиколлинеарности. Это можно сделать с помощью VIF (Variance Inflation Factor). Если он будет больше 4 (договорное значение, аналогичное p-value), то эта переменная коррелирует с какой-то из присутствующих, и ее нужно убрать."
      ]
    },
    {
      "cell_type": "code",
      "execution_count": null,
      "id": "a6fedd03-fda2-4872-879c-0dc941ab81bf",
      "metadata": {
        "id": "a6fedd03-fda2-4872-879c-0dc941ab81bf"
      },
      "outputs": [],
      "source": [
        "# random_state=RANDOM_STATE, перемешивание включено, размер тестовой выборки 0.4\n",
        "X, y = # ваш код здесь\n",
        "X_train, X_test, y_train, y_test = # ваш код здесь"
      ]
    },
    {
      "cell_type": "code",
      "source": [
        "import pandas as pd\n",
        "from sklearn.model_selection import train_test_split\n",
        "from sklearn.preprocessing import OneHotEncoder, StandardScaler\n",
        "import statsmodels.api as sm\n",
        "from statsmodels.stats.outliers_influence import variance_inflation_factor\n",
        "\n",
        "# Определение RANDOM_STATE\n",
        "RANDOM_STATE = 42\n",
        "\n",
        "# Загрузка данных\n",
        "data = pd.read_csv('house_prices.csv')\n",
        "\n",
        "# Разделение на признаки (X) и целевую переменную (y)\n",
        "X = data.drop(columns=['price'])\n",
        "y = data['price']\n",
        "\n",
        "# Разделение на тренировочную и тестовую выборки\n",
        "X_train, X_test, y_train, y_test = train_test_split(X, y, test_size=0.4, shuffle=True, random_state=RANDOM_STATE)"
      ],
      "metadata": {
        "id": "xnKTsTrpzUgl"
      },
      "id": "xnKTsTrpzUgl",
      "execution_count": null,
      "outputs": []
    },
    {
      "cell_type": "code",
      "source": [
        "# Список категориальных переменных\n",
        "var_categorical = ['mainroad', 'guestroom', 'basement', 'hotwaterheating', 'airconditioning', 'prefarea', 'furnishingstatus']\n",
        "\n",
        "# Список количественных переменных\n",
        "var_numeric = ['area', 'bedrooms', 'bathrooms', 'stories', 'parking']\n",
        "\n",
        "# Кодирование категориальных признаков\n",
        "encoder = OneHotEncoder(drop='first', sparse_output=False)\n",
        "X_train_cat_encoded = encoder.fit_transform(X_train[var_categorical])\n",
        "X_test_cat_encoded = encoder.transform(X_test[var_categorical])\n",
        "\n",
        "# Преобразуем закодированные признаки в DataFrame\n",
        "cat_encoded_columns = encoder.get_feature_names_out(var_categorical)\n",
        "X_train_cat_encoded = pd.DataFrame(X_train_cat_encoded, columns=cat_encoded_columns)\n",
        "X_test_cat_encoded = pd.DataFrame(X_test_cat_encoded, columns=cat_encoded_columns)\n",
        "\n",
        "# Масштабирование количественных признаков\n",
        "scaler = StandardScaler()\n",
        "X_train_num_scaled = scaler.fit_transform(X_train[var_numeric])\n",
        "X_test_num_scaled = scaler.transform(X_test[var_numeric])\n",
        "\n",
        "# Преобразуем масштабированные признаки в DataFrame\n",
        "X_train_num_scaled = pd.DataFrame(X_train_num_scaled, columns=var_numeric)\n",
        "X_test_num_scaled = pd.DataFrame(X_test_num_scaled, columns=var_numeric)\n",
        "\n",
        "# Объединение закодированных и масштабированных признаков\n",
        "X_train_enc = pd.concat([X_train_num_scaled, X_train_cat_encoded], axis=1)\n",
        "X_test_enc = pd.concat([X_test_num_scaled, X_test_cat_encoded], axis=1)"
      ],
      "metadata": {
        "id": "dIP5-8MRz7mu"
      },
      "id": "dIP5-8MRz7mu",
      "execution_count": null,
      "outputs": []
    },
    {
      "cell_type": "code",
      "source": [
        "# Добавление колонки и удаление незначимого признака\n",
        "\n",
        "X_train_enc = X_train_enc.drop('bedrooms', axis=1)\n",
        "\n",
        "X_train_enc['special_index'] = X_train_enc['stories'] * 2 + 0.5"
      ],
      "metadata": {
        "id": "hhaUzrGz2QgR"
      },
      "id": "hhaUzrGz2QgR",
      "execution_count": null,
      "outputs": []
    },
    {
      "cell_type": "code",
      "source": [
        "# Удаление незначимого признака 'bedrooms'\n",
        "X_train_enc = X_train_enc.drop('bedrooms', axis=1)\n",
        "\n",
        "# Добавление новой колонки 'special_index'\n",
        "X_train_enc['special_index'] = X_train_enc['stories'] * 2 + 0.5"
      ],
      "metadata": {
        "id": "Qzu8ZC-F0F90"
      },
      "id": "Qzu8ZC-F0F90",
      "execution_count": null,
      "outputs": []
    },
    {
      "cell_type": "code",
      "execution_count": null,
      "id": "189c879b-5ad3-45ce-9f8c-5616b4022761",
      "metadata": {
        "id": "189c879b-5ad3-45ce-9f8c-5616b4022761"
      },
      "outputs": [],
      "source": [
        "# Вычислите VIF и найдите коррелирующие признаки\n",
        "vif_data = pd.DataFrame()\n",
        "vif_data[\"feature\"] = X_train_enc.columns\n",
        "\n",
        "vif_data[\"VIF\"] = # ваш код здесь\n",
        "vif_data"
      ]
    },
    {
      "cell_type": "code",
      "source": [
        "# Расчет VIF\n",
        "vif_data = pd.DataFrame()\n",
        "vif_data[\"feature\"] = X_train_enc.columns\n",
        "vif_data[\"VIF\"] = [variance_inflation_factor(X_train_enc.values, i) for i in range(X_train_enc.shape[1])]\n",
        "\n",
        "print(vif_data)"
      ],
      "metadata": {
        "colab": {
          "base_uri": "https://localhost:8080/"
        },
        "id": "K1dtOnrz0PLv",
        "outputId": "fe6e8802-64f2-41cf-e52f-230179040a65"
      },
      "id": "K1dtOnrz0PLv",
      "execution_count": null,
      "outputs": [
        {
          "output_type": "stream",
          "name": "stdout",
          "text": [
            "                            feature         VIF\n",
            "0                              area    1.330976\n",
            "1                         bathrooms    1.184137\n",
            "2                           stories  207.713172\n",
            "3                           parking    1.172669\n",
            "4                      mainroad_yes    1.177293\n",
            "5                     guestroom_yes    1.297299\n",
            "6                      basement_yes    1.368774\n",
            "7               hotwaterheating_yes    1.076890\n",
            "8               airconditioning_yes    1.305283\n",
            "9                      prefarea_yes    1.140299\n",
            "10  furnishingstatus_semi-furnished    1.575707\n",
            "11     furnishingstatus_unfurnished    1.674554\n",
            "12                    special_index  220.776801\n"
          ]
        }
      ]
    },
    {
      "cell_type": "code",
      "source": [
        "# Сброс индексов в y_train\n",
        "y_train = y_train.reset_index(drop=True)\n",
        "\n",
        "# Сброс индексов в X_train_enc_filtered\n",
        "X_train_enc_filtered = X_train_enc_filtered.reset_index(drop=True)"
      ],
      "metadata": {
        "id": "R6Zh3fJG1S0v"
      },
      "id": "R6Zh3fJG1S0v",
      "execution_count": null,
      "outputs": []
    },
    {
      "cell_type": "code",
      "source": [
        "# Регрессия с одним из коррелирующих признаков (удаляем 'special_index')\n",
        "X_train_enc_filtered = X_train_enc.drop('special_index', axis=1)\n",
        "X_train_enc_filtered = sm.add_constant(X_train_enc_filtered)\n",
        "\n",
        "model_filtered = sm.OLS(y_train, X_train_enc_filtered).fit()\n",
        "print(model_filtered.summary())\n",
        "\n",
        "# Регрессия с обоими коррелирующими признаками\n",
        "X_train_enc_all = sm.add_constant(X_train_enc)\n",
        "model_all = sm.OLS(y_train, X_train_enc_all).fit()\n",
        "print(model_all.summary())"
      ],
      "metadata": {
        "colab": {
          "base_uri": "https://localhost:8080/"
        },
        "id": "l67pCqx105vO",
        "outputId": "f0ed4f00-ed26-45e0-ea95-c6fa8504a17e"
      },
      "id": "l67pCqx105vO",
      "execution_count": null,
      "outputs": [
        {
          "output_type": "stream",
          "name": "stdout",
          "text": [
            "                            OLS Regression Results                            \n",
            "==============================================================================\n",
            "Dep. Variable:                  price   R-squared:                       0.658\n",
            "Model:                            OLS   Adj. R-squared:                  0.645\n",
            "Method:                 Least Squares   F-statistic:                     50.29\n",
            "Date:                Sat, 22 Feb 2025   Prob (F-statistic):           8.54e-66\n",
            "Time:                        08:45:31   Log-Likelihood:                -4966.0\n",
            "No. Observations:                 327   AIC:                             9958.\n",
            "Df Residuals:                     314   BIC:                         1.001e+04\n",
            "Df Model:                          12                                         \n",
            "Covariance Type:            nonrobust                                         \n",
            "===================================================================================================\n",
            "                                      coef    std err          t      P>|t|      [0.025      0.975]\n",
            "---------------------------------------------------------------------------------------------------\n",
            "const                            3.959e+06   1.94e+05     20.422      0.000    3.58e+06    4.34e+06\n",
            "area                             5.141e+05   6.21e+04      8.284      0.000    3.92e+05    6.36e+05\n",
            "bathrooms                          4.2e+05   5.85e+04      7.176      0.000    3.05e+05    5.35e+05\n",
            "stories                          3.478e+05   6.31e+04      5.508      0.000    2.24e+05    4.72e+05\n",
            "parking                          2.181e+05   5.83e+04      3.744      0.000    1.03e+05    3.33e+05\n",
            "mainroad_yes                     3.591e+05   1.64e+05      2.196      0.029    3.74e+04    6.81e+05\n",
            "guestroom_yes                     3.34e+05   1.63e+05      2.054      0.041    1.41e+04    6.54e+05\n",
            "basement_yes                     4.454e+05   1.34e+05      3.337      0.001    1.83e+05    7.08e+05\n",
            "hotwaterheating_yes              7.449e+05   2.51e+05      2.962      0.003     2.5e+05    1.24e+06\n",
            "airconditioning_yes              6.615e+05   1.32e+05      5.013      0.000    4.02e+05    9.21e+05\n",
            "prefarea_yes                     4.578e+05   1.39e+05      3.302      0.001    1.85e+05    7.31e+05\n",
            "furnishingstatus_semi-furnished -1.531e+05   1.37e+05     -1.117      0.265   -4.23e+05    1.17e+05\n",
            "furnishingstatus_unfurnished    -4.843e+05   1.48e+05     -3.265      0.001   -7.76e+05   -1.92e+05\n",
            "==============================================================================\n",
            "Omnibus:                       67.504   Durbin-Watson:                   1.883\n",
            "Prob(Omnibus):                  0.000   Jarque-Bera (JB):              192.233\n",
            "Skew:                           0.936   Prob(JB):                     1.81e-42\n",
            "Kurtosis:                       6.257   Cond. No.                         7.77\n",
            "==============================================================================\n",
            "\n",
            "Notes:\n",
            "[1] Standard Errors assume that the covariance matrix of the errors is correctly specified.\n",
            "                            OLS Regression Results                            \n",
            "==============================================================================\n",
            "Dep. Variable:                  price   R-squared:                       0.658\n",
            "Model:                            OLS   Adj. R-squared:                  0.645\n",
            "Method:                 Least Squares   F-statistic:                     50.29\n",
            "Date:                Sat, 22 Feb 2025   Prob (F-statistic):           8.54e-66\n",
            "Time:                        08:45:31   Log-Likelihood:                -4966.0\n",
            "No. Observations:                 327   AIC:                             9958.\n",
            "Df Residuals:                     314   BIC:                         1.001e+04\n",
            "Df Model:                          12                                         \n",
            "Covariance Type:            nonrobust                                         \n",
            "===================================================================================================\n",
            "                                      coef    std err          t      P>|t|      [0.025      0.975]\n",
            "---------------------------------------------------------------------------------------------------\n",
            "const                            3.704e+06   1.84e+05     20.077      0.000    3.34e+06    4.07e+06\n",
            "area                             5.141e+05   6.21e+04      8.284      0.000    3.92e+05    6.36e+05\n",
            "bathrooms                          4.2e+05   5.85e+04      7.176      0.000    3.05e+05    5.35e+05\n",
            "stories                         -6.713e+05   3.93e+04    -17.096      0.000   -7.49e+05   -5.94e+05\n",
            "parking                          2.181e+05   5.83e+04      3.744      0.000    1.03e+05    3.33e+05\n",
            "mainroad_yes                     3.591e+05   1.64e+05      2.196      0.029    3.74e+04    6.81e+05\n",
            "guestroom_yes                     3.34e+05   1.63e+05      2.054      0.041    1.41e+04    6.54e+05\n",
            "basement_yes                     4.454e+05   1.34e+05      3.337      0.001    1.83e+05    7.08e+05\n",
            "hotwaterheating_yes              7.449e+05   2.51e+05      2.962      0.003     2.5e+05    1.24e+06\n",
            "airconditioning_yes              6.615e+05   1.32e+05      5.013      0.000    4.02e+05    9.21e+05\n",
            "prefarea_yes                     4.578e+05   1.39e+05      3.302      0.001    1.85e+05    7.31e+05\n",
            "furnishingstatus_semi-furnished -1.531e+05   1.37e+05     -1.117      0.265   -4.23e+05    1.17e+05\n",
            "furnishingstatus_unfurnished    -4.843e+05   1.48e+05     -3.265      0.001   -7.76e+05   -1.92e+05\n",
            "special_index                    5.095e+05   3.09e+04     16.465      0.000    4.49e+05     5.7e+05\n",
            "==============================================================================\n",
            "Omnibus:                       67.504   Durbin-Watson:                   1.883\n",
            "Prob(Omnibus):                  0.000   Jarque-Bera (JB):              192.233\n",
            "Skew:                           0.936   Prob(JB):                     1.81e-42\n",
            "Kurtosis:                       6.257   Cond. No.                     4.41e+15\n",
            "==============================================================================\n",
            "\n",
            "Notes:\n",
            "[1] Standard Errors assume that the covariance matrix of the errors is correctly specified.\n",
            "[2] The smallest eigenvalue is 9.28e-29. This might indicate that there are\n",
            "strong multicollinearity problems or that the design matrix is singular.\n"
          ]
        }
      ]
    },
    {
      "cell_type": "markdown",
      "id": "90b3f25d-8252-4a57-9aa7-c0f6ab0f576a",
      "metadata": {
        "id": "90b3f25d-8252-4a57-9aa7-c0f6ab0f576a"
      },
      "source": [
        "С помощью теста Уайта проверим отсутствие гетероскедастичности, то есть равенство дисперсий ошибок.\n",
        "\n",
        "О тесте Уайта. В качестве нулевой гипотезы примем равенство дисперсий ошибок. Альтернатива, соответственно, будет за нарушение этого равенства. Если мы будем вынуждены отвергнуть нулевую гипотезу ($p-value < 0.05$), то можно будет сделать вывод о присутствии гетероскедастичности в наших данных.\n",
        "\n",
        "Суть теста в следующем. Часто гетероскедастичность модели вызвана зависимостью (возможно, довольно сложной) дисперсий ошибок от признаков. На основе этого факта можно провести тест без каких-либо предположений о структуре гетероскедастичности. Сначала к исходной модели применяется обычный метод наименьших квадратов и находятся остатки регрессии $e_t$. Затем осуществляется регрессия квадратов этих остатков $e_t^2$ на все признаки, их квадраты, попарные произведения и константу. Тогда при гипотезе $H_0$ величина $NR^2$ асимптотически имеет распределение $\\chi^2(N-1)$, где $R^2$ — коэффициент детерминации, а $N$ — число регрессоров второй регрессии. Плюс данного теста — его универсальность. Минусы : 1) если гипотеза $H_0$ отвергается, то никаких указаний на функциональную форму гетероскедастичности мы не получаем; 2) поиск вида регрессии вслепую (начинаем приближать простыми полиномами второй степени без какой бы то ни было причины на это)"
      ]
    },
    {
      "cell_type": "code",
      "source": [
        "print(X_train_enc.columns)"
      ],
      "metadata": {
        "colab": {
          "base_uri": "https://localhost:8080/"
        },
        "id": "g04UcwX_CiBK",
        "outputId": "b3028e33-7809-44bc-b0a4-ce1c65e5c782"
      },
      "id": "g04UcwX_CiBK",
      "execution_count": null,
      "outputs": [
        {
          "output_type": "stream",
          "name": "stdout",
          "text": [
            "Index(['area', 'bathrooms', 'stories', 'parking', 'mainroad_yes',\n",
            "       'guestroom_yes', 'basement_yes', 'hotwaterheating_yes',\n",
            "       'airconditioning_yes', 'prefarea_yes',\n",
            "       'furnishingstatus_semi-furnished', 'furnishingstatus_unfurnished',\n",
            "       'special_index'],\n",
            "      dtype='object')\n"
          ]
        }
      ]
    },
    {
      "cell_type": "code",
      "source": [
        "import pandas as pd\n",
        "import statsmodels.api as sm\n",
        "from statsmodels.stats.diagnostic import het_white\n",
        "import matplotlib.pyplot as plt\n",
        "\n",
        "# Удаление незначимых признаков\n",
        "X_train_enc_filtered = X_train_enc.drop(['special_index'], axis=1)\n",
        "\n",
        "# Добавление константы\n",
        "X_train_enc_filtered = sm.add_constant(X_train_enc_filtered)\n",
        "\n",
        "# Построение модели\n",
        "ols_model = sm.OLS(y_train, X_train_enc_filtered).fit()"
      ],
      "metadata": {
        "id": "a55OPFDr3F76"
      },
      "id": "a55OPFDr3F76",
      "execution_count": null,
      "outputs": []
    },
    {
      "cell_type": "code",
      "source": [
        "# График остатков от номера эксперимента\n",
        "plt.figure(figsize=(6, 4))\n",
        "plt.xlabel('number of experiment')\n",
        "plt.ylabel('residual')\n",
        "plt.scatter(x=list(range(ols_model.resid.shape[0])), y=ols_model.resid)\n",
        "plt.title('Остатки от номера эксперимента')\n",
        "plt.show()"
      ],
      "metadata": {
        "colab": {
          "base_uri": "https://localhost:8080/",
          "height": 410
        },
        "id": "qjmtp1zuDnFH",
        "outputId": "3794dfa6-43be-49d5-a999-f9324cd15d1e"
      },
      "id": "qjmtp1zuDnFH",
      "execution_count": null,
      "outputs": [
        {
          "output_type": "display_data",
          "data": {
            "text/plain": [
              "<Figure size 600x400 with 1 Axes>"
            ],
            "image/png": "[encoded data removed]"
          },
          "metadata": {}
        }
      ]
    },
    {
      "cell_type": "code",
      "source": [
        "# Проведение теста Уайта\n",
        "white_test = het_white(ols_model.resid, ols_model.model.exog)\n",
        "\n",
        "# Вывод результатов теста\n",
        "labels = ['Test Statistic', 'Test Statistic p-value', 'F-Statistic', 'F-Test p-value']\n",
        "print(dict(zip(labels, white_test)))\n",
        "\n",
        "# p-value теста Уайта\n",
        "p_value_white_test = white_test[1]\n",
        "print(f\"p-value теста Уайта: {p_value_white_test:.3f}\")"
      ],
      "metadata": {
        "colab": {
          "base_uri": "https://localhost:8080/"
        },
        "id": "95HuU9oYDyeM",
        "outputId": "01f0ca20-70e8-429c-8cbe-5e3a1473911d"
      },
      "id": "95HuU9oYDyeM",
      "execution_count": null,
      "outputs": [
        {
          "output_type": "stream",
          "name": "stdout",
          "text": [
            "{'Test Statistic': 144.51116561282186, 'Test Statistic p-value': 1.3480696353116847e-05, 'F-Statistic': 2.4350631409953776, 'F-Test p-value': 8.34157872544433e-08}\n",
            "p-value теста Уайта: 0.000\n"
          ]
        }
      ]
    },
    {
      "cell_type": "code",
      "source": [
        "# График остатков от предсказанных значений\n",
        "plt.figure(figsize=(6, 4))\n",
        "plt.xlabel('predicted values')\n",
        "plt.ylabel('residual')\n",
        "plt.scatter(x=ols_model.fittedvalues, y=ols_model.resid)\n",
        "plt.title('Остатки от предсказанных значений')\n",
        "plt.show()"
      ],
      "metadata": {
        "colab": {
          "base_uri": "https://localhost:8080/",
          "height": 410
        },
        "id": "6PcE6IPXD7dL",
        "outputId": "4ef174a2-787a-4470-f207-a0e610072c3a"
      },
      "id": "6PcE6IPXD7dL",
      "execution_count": null,
      "outputs": [
        {
          "output_type": "display_data",
          "data": {
            "text/plain": [
              "<Figure size 600x400 with 1 Axes>"
            ],
            "image/png": "[encoded data removed]"
          },
          "metadata": {}
        }
      ]
    },
    {
      "cell_type": "markdown",
      "source": [
        "В результате выполнения проекта будет построена модель линейной регрессии, которая позволяет прогнозировать стоимость дома на основе его характеристик. Также будут выявлены наиболее важные факторы, влияющие на цену, и проверены основные предположения линейной регрессии.\n",
        "\n",
        "Этот проект может быть полезен для риелторских компаний, банков или частных лиц, заинтересованных в точном прогнозировании стоимости недвижимости."
      ],
      "metadata": {
        "id": "p-IUDEotTa9e"
      },
      "id": "p-IUDEotTa9e"
    }
  ],
  "metadata": {
    "kernelspec": {
      "display_name": "Python 3 (ipykernel)",
      "language": "python",
      "name": "python3"
    },
    "language_info": {
      "codemirror_mode": {
        "name": "ipython",
        "version": 3
      },
      "file_extension": ".py",
      "mimetype": "text/x-python",
      "name": "python",
      "nbconvert_exporter": "python",
      "pygments_lexer": "ipython3",
      "version": "3.11.7"
    },
    "colab": {
      "provenance": []
    }
  },
  "nbformat": 4,
  "nbformat_minor": 5
}