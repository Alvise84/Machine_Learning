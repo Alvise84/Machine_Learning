{
  "nbformat": 4,
  "nbformat_minor": 0,
  "metadata": {
    "colab": {
      "provenance": [],
      "authorship_tag": "ABX9TyPosMXIvyzKJxcNr+2vQX+6",
      "include_colab_link": true
    },
    "kernelspec": {
      "name": "python3",
      "display_name": "Python 3"
    },
    "language_info": {
      "name": "python"
    }
  },
  "cells": [
    {
      "cell_type": "markdown",
      "metadata": {
        "id": "view-in-github",
        "colab_type": "text"
      },
      "source": [
        "<a href=\"https://colab.research.google.com/github/Alvise84/machine_learning/blob/main/RNN_Vanilla_poezia.ipynb\" target=\"_parent\"><img src=\"https://colab.research.google.com/assets/colab-badge.svg\" alt=\"Open In Colab\"/></a>"
      ]
    },
    {
      "cell_type": "markdown",
      "source": [
        "### **Генерация поэзии с помощью нейронных сетей:**\n",
        "\n",
        "Задача: генерировать стихи с помощью простой рекуррентной нейронной сети (Vanilla RNN). В качестве корпуса текстов для обучения будет выступать роман в стихах \"Евгений Онегин\" Александра Сергеевича Пушкина.\n",
        "\n"
      ],
      "metadata": {
        "id": "iTr9jsKyCHek"
      }
    },
    {
      "cell_type": "markdown",
      "source": [
        "## Шаг 1: Установка необходимых библиотек\n",
        "\n",
        "Установим необходимые библиотеки, если они еще не установлены."
      ],
      "metadata": {
        "id": "Ft1h8YeTCUXl"
      }
    },
    {
      "cell_type": "code",
      "execution_count": null,
      "metadata": {
        "id": "H2pArU4JB-zF"
      },
      "outputs": [],
      "source": [
        "# Установка необходимых библиотек\n",
        "!pip install torch"
      ]
    },
    {
      "cell_type": "markdown",
      "source": [
        "## Шаг 2: Импорт библиотек\n",
        "\n",
        "Импортируем все необходимые библиотеки."
      ],
      "metadata": {
        "id": "8H0FT23vCql6"
      }
    },
    {
      "cell_type": "code",
      "source": [
        "# Импорт библиотек\n",
        "import string\n",
        "import os\n",
        "from random import sample\n",
        "\n",
        "import numpy as np\n",
        "import torch, torch.nn as nn\n",
        "import torch.nn.functional as F\n",
        "\n",
        "from IPython.display import clear_output\n",
        "import matplotlib.pyplot as plt"
      ],
      "metadata": {
        "id": "bBMbS9usCtMG"
      },
      "execution_count": null,
      "outputs": []
    },
    {
      "cell_type": "markdown",
      "source": [
        "## Шаг 3: Определение устройства\n",
        "\n",
        "Определим, будет ли использоваться GPU или CPU для обучения модели."
      ],
      "metadata": {
        "id": "MzqRb10JC0Wv"
      }
    },
    {
      "cell_type": "code",
      "source": [
        "# Определение устройства\n",
        "device = torch.device('cuda') if torch.cuda.is_available() else torch.device('cpu')\n",
        "print('{} device is available'.format(device))"
      ],
      "metadata": {
        "id": "Aj5HMDIlC5jO"
      },
      "execution_count": null,
      "outputs": []
    },
    {
      "cell_type": "markdown",
      "source": [
        "## Шаг 4: Загрузка данных\n",
        "\n",
        "Загрузим текст \"Евгений Онегин\" и подготовим его для дальнейшей обработки."
      ],
      "metadata": {
        "id": "a4oQGXd8DFfk"
      }
    },
    {
      "cell_type": "code",
      "source": [
        "# Загрузка данных\n",
        "!wget https://raw.githubusercontent.com/neychev/small_DL_repo/master/datasets/onegin.txt\n",
        "\n",
        "with open('onegin.txt', 'r') as iofile:\n",
        "    text = iofile.readlines()\n",
        "\n",
        "text = \"\".join([x.replace('\\t\\t', '').lower() for x in text])"
      ],
      "metadata": {
        "id": "jzld01VSDHd9"
      },
      "execution_count": null,
      "outputs": []
    },
    {
      "cell_type": "markdown",
      "source": [
        "## Шаг 5: Построение словаря\n",
        "\n",
        "Построим словарь символов и создадим маппинг между символами и их индексами."
      ],
      "metadata": {
        "id": "pIDyhLBCDN5w"
      }
    },
    {
      "cell_type": "code",
      "source": [
        "# Построение словаря\n",
        "tokens = sorted(set(text.lower())) + ['<sos>']\n",
        "num_tokens = len(tokens)\n",
        "\n",
        "assert num_tokens == 84, \"Check the tokenization process\"\n",
        "\n",
        "token_to_idx = {x: idx for idx, x in enumerate(tokens)}\n",
        "idx_to_token = {idx: x for idx, x in enumerate(tokens)}\n",
        "\n",
        "assert len(tokens) == len(token_to_idx), \"Mapping should be unique\"\n",
        "\n",
        "print(\"Seems fine!\")\n",
        "\n",
        "text_encoded = [token_to_idx[x] for x in text]"
      ],
      "metadata": {
        "id": "UQ_IRD7hDQCN"
      },
      "execution_count": null,
      "outputs": []
    },
    {
      "cell_type": "markdown",
      "source": [
        "## Шаг 6: Генерация случайного батча\n",
        "\n",
        "Определим функцию для генерации случайных батчей данных."
      ],
      "metadata": {
        "id": "pvbUHDgIDVQy"
      }
    },
    {
      "cell_type": "code",
      "source": [
        "# Генерация случайного батча\n",
        "batch_size = 256\n",
        "seq_length = 100\n",
        "start_column = np.zeros((batch_size, 1), dtype=int) + token_to_idx['<sos>']\n",
        "\n",
        "def generate_chunk():\n",
        "    global text_encoded, start_column, batch_size, seq_length\n",
        "\n",
        "    start_index = np.random.randint(0, len(text_encoded) - batch_size*seq_length - 1)\n",
        "    data = np.array(text_encoded[start_index:start_index + batch_size*seq_length]).reshape((batch_size, -1))\n",
        "    yield np.hstack((start_column, data))"
      ],
      "metadata": {
        "id": "vrDuOtXoDaKE"
      },
      "execution_count": null,
      "outputs": []
    },
    {
      "cell_type": "markdown",
      "source": [
        "## Шаг 7: Определение модели Vanilla RNN\n",
        "\n",
        "Определим архитектуру модели Vanilla RNN."
      ],
      "metadata": {
        "id": "wFRnxsGdDfur"
      }
    },
    {
      "cell_type": "code",
      "source": [
        "# Определение модели Vanilla RNN\n",
        "class VanillaRNN(nn.Module):\n",
        "    def __init__(self, input_size, hidden_size, output_size):\n",
        "        super(VanillaRNN, self).__init__()\n",
        "        self.hidden_size = hidden_size\n",
        "        self.rnn = nn.RNN(input_size, hidden_size, batch_first=True)\n",
        "        self.fc = nn.Linear(hidden_size, output_size)\n",
        "\n",
        "    def forward(self, x, hidden):\n",
        "        out, hidden = self.rnn(x, hidden)\n",
        "        out = self.fc(out)\n",
        "        return out, hidden\n",
        "\n",
        "    def init_hidden(self, batch_size):\n",
        "        return torch.zeros(1, batch_size, self.hidden_size).to(device)"
      ],
      "metadata": {
        "id": "cd4V-WzyDhVt"
      },
      "execution_count": null,
      "outputs": []
    },
    {
      "cell_type": "markdown",
      "source": [
        "## Шаг 8: Определение гиперпараметров\n",
        "\n",
        "Определим гиперпараметры для обучения модели."
      ],
      "metadata": {
        "id": "V61xstPXDkbR"
      }
    },
    {
      "cell_type": "code",
      "source": [
        "# Гиперпараметры\n",
        "input_size = num_tokens\n",
        "hidden_size = 128\n",
        "output_size = num_tokens\n",
        "learning_rate = 0.01\n",
        "num_epochs = 100\n",
        "batch_size = 256\n",
        "seq_length = 100"
      ],
      "metadata": {
        "id": "VTQxc_wlDo1U"
      },
      "execution_count": null,
      "outputs": []
    },
    {
      "cell_type": "markdown",
      "source": [
        "## Шаг 9: Создание экземпляра модели, функции потерь и оптимизатора\n",
        "\n",
        "Создадим экземпляр модели, функцию потерь и оптимизатор."
      ],
      "metadata": {
        "id": "NFV_dDHDDs8l"
      }
    },
    {
      "cell_type": "code",
      "source": [
        "# Создание экземпляра модели, функции потерь и оптимизатора\n",
        "model = VanillaRNN(input_size, hidden_size, output_size).to(device)\n",
        "criterion = nn.CrossEntropyLoss()\n",
        "optimizer = torch.optim.Adam(model.parameters(), lr=learning_rate)"
      ],
      "metadata": {
        "id": "E93KBrL0DxGV"
      },
      "execution_count": null,
      "outputs": []
    },
    {
      "cell_type": "markdown",
      "source": [
        "## Шаг 10: Обучение модели\n",
        "\n",
        "Обучим модель на данных."
      ],
      "metadata": {
        "id": "sQwadTFdD3nE"
      }
    },
    {
      "cell_type": "code",
      "source": [
        "# Обучение модели\n",
        "for epoch in range(num_epochs):\n",
        "    for chunk in generate_chunk():\n",
        "        inputs = torch.tensor(chunk[:, :-1], dtype=torch.long).to(device)\n",
        "        targets = torch.tensor(chunk[:, 1:], dtype=torch.long).to(device)\n",
        "\n",
        "        # One-hot encoding\n",
        "        inputs_one_hot = F.one_hot(inputs, num_classes=num_tokens).float()\n",
        "\n",
        "        hidden = model.init_hidden(batch_size)\n",
        "        outputs, _ = model(inputs_one_hot, hidden)\n",
        "\n",
        "        loss = criterion(outputs.view(-1, num_tokens), targets.view(-1))\n",
        "\n",
        "        optimizer.zero_grad()\n",
        "        loss.backward()\n",
        "        optimizer.step()\n",
        "\n",
        "    if (epoch + 1) % 10 == 0:\n",
        "        print(f'Epoch [{epoch+1}/{num_epochs}], Loss: {loss.item():.4f}')"
      ],
      "metadata": {
        "id": "w6o_f4PTD5jy"
      },
      "execution_count": null,
      "outputs": []
    },
    {
      "cell_type": "markdown",
      "source": [
        "## Шаг 11: Функция генерации текста\n",
        "\n",
        "Определим функцию для генерации текста на основе обученной модели."
      ],
      "metadata": {
        "id": "lz8nHzhdD8s7"
      }
    },
    {
      "cell_type": "code",
      "source": [
        "# Функция генерации текста\n",
        "def generate_sample(char_rnn, seed_phrase=None, max_length=200, temperature=1.0, device=device):\n",
        "    if seed_phrase is not None:\n",
        "        x_sequence = [token_to_idx['<sos>']] + [token_to_idx[token] for token in seed_phrase]\n",
        "    else:\n",
        "        x_sequence = [token_to_idx['<sos>']]\n",
        "\n",
        "    x_sequence = torch.tensor([x_sequence], dtype=torch.int64).to(device)\n",
        "\n",
        "    # Инициализация скрытого состояния\n",
        "    hidden = char_rnn.init_hidden(1)\n",
        "\n",
        "    # Ввод начальной фразы в модель\n",
        "    with torch.no_grad():\n",
        "        for i in range(len(x_sequence[0]) - 1):\n",
        "            input_tensor = x_sequence[:, i].unsqueeze(1)\n",
        "            input_one_hot = F.one_hot(input_tensor, num_classes=num_tokens).float()\n",
        "            _, hidden = char_rnn(input_one_hot, hidden)\n",
        "\n",
        "        # Генерация новых символов\n",
        "        for _ in range(max_length - len(x_sequence[0])):\n",
        "            input_tensor = x_sequence[:, -1].unsqueeze(1)\n",
        "            input_one_hot = F.one_hot(input_tensor, num_classes=num_tokens).float()\n",
        "            output, hidden = char_rnn(input_one_hot, hidden)\n",
        "\n",
        "            # Применение температуры\n",
        "            output_probs = F.softmax(output[0] / temperature, dim=-1)\n",
        "            next_token = torch.multinomial(output_probs, 1).item()\n",
        "\n",
        "            # Добавление следующего символа к последовательности\n",
        "            x_sequence = torch.cat((x_sequence, torch.tensor([[next_token]], dtype=torch.int64).to(device)), dim=1)\n",
        "\n",
        "    # Преобразование индексов обратно в символы\n",
        "    generated_text = ''.join([idx_to_token[idx] for idx in x_sequence.cpu().data.numpy()[0]])\n",
        "\n",
        "    return generated_text"
      ],
      "metadata": {
        "id": "BVAwgl-TEBYd"
      },
      "execution_count": null,
      "outputs": []
    },
    {
      "cell_type": "markdown",
      "source": [
        "## Шаг 12: Генерация десяти последовательностей\n",
        "\n",
        "Сгенерируем десять последовательностей длиной 500 символов, начиная с фразы \" мой дядя самых честных правил\"."
      ],
      "metadata": {
        "id": "OVDdDA3JEInI"
      }
    },
    {
      "cell_type": "code",
      "source": [
        "# Генерация десяти последовательностей\n",
        "seed_phrase = ' мой дядя самых честных правил'\n",
        "generated_phrases = [\n",
        "    generate_sample(\n",
        "        model,\n",
        "        seed_phrase,\n",
        "        max_length=500,\n",
        "        temperature=0.8\n",
        "    ).replace('<sos>', '')  # Удаляем токен <sos>\n",
        "    for _ in range(10)\n",
        "]"
      ],
      "metadata": {
        "id": "jZa90iEGEK_F"
      },
      "execution_count": null,
      "outputs": []
    },
    {
      "cell_type": "markdown",
      "source": [
        "## Шаг 13: Проверка и сохранение результатов\n",
        "\n",
        "Проверим, что все сгенерированные фразы имеют длину 500 символов, и сохраним результаты в файл submission_dict.json."
      ],
      "metadata": {
        "id": "D2j-gt_qERsG"
      }
    },
    {
      "cell_type": "code",
      "source": [
        "# Проверка и сохранение результатов\n",
        "import json\n",
        "if 'generated_phrases' not in locals():\n",
        "    raise ValueError(\"Please, save generated phrases to `generated_phrases` variable\")\n",
        "\n",
        "for phrase in generated_phrases:\n",
        "    if not isinstance(phrase, str):\n",
        "        raise ValueError(\"The generated phrase should be a string\")\n",
        "    if len(phrase) != 500:\n",
        "        raise ValueError(\"The `generated_phrase` length should be equal to 500\")\n",
        "    assert all([x in set(tokens) for x in set(list(phrase))]), 'Unknown tokens detected, check your submission!'\n",
        "\n",
        "submission_dict = {\n",
        "    'token_to_idx': token_to_idx,\n",
        "    'generated_phrases': generated_phrases\n",
        "}\n",
        "\n",
        "with open('submission_dict.json', 'w') as iofile:\n",
        "    json.dump(submission_dict, iofile)\n",
        "print('File saved to `submission_dict.json`')"
      ],
      "metadata": {
        "id": "T2u_TKGuEVCD"
      },
      "execution_count": null,
      "outputs": []
    }
  ]
}